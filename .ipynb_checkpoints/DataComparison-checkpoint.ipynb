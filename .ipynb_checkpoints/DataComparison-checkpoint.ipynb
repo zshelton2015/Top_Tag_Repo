{
 "cells": [
  {
   "cell_type": "code",
   "execution_count": 2,
   "id": "9bdbb93a",
   "metadata": {},
   "outputs": [],
   "source": [
    "#First Implementation with Boosted Decision Tree\n",
    "import awkward as ak\n",
    "import pandas as pd\n",
    "import numpy as np\n",
    "import matplotlib.pyplot as plt\n",
    "# Data is stored in pandas -> Each "
   ]
  },
  {
   "cell_type": "code",
   "execution_count": 3,
   "id": "65cb0d59",
   "metadata": {},
   "outputs": [],
   "source": [
    "#Taking every combination performed in the prepared data:\n",
    "data=pd.read_csv('data/ML_data.csv',header=[0,1])\n",
    "valid=pd.read_csv('data/Valid_data.csv')"
   ]
  },
  {
   "cell_type": "code",
   "execution_count": 19,
   "id": "4008249d",
   "metadata": {},
   "outputs": [],
   "source": [
    "#Using simple data cuts to fit them\n",
    "from __future__ import print_function, division\n",
    "import uproot\n",
    "import numpy as np\n",
    "from coffea.nanoevents import NanoAODSchema,NanoEventsFactory\n",
    "import coffea\n",
    "from uproot3_methods import TLorentzVectorArray\n",
    "import uproot3_methods\n",
    "import numpy as np\n",
    "import coffea.hist as hist\n",
    "import matplotlib.pyplot as plt\n",
    "import awkward1 as ak\n",
    "class HackSchema(NanoAODSchema):\n",
    "    def __init__(self, base_form):\n",
    "        base_form[\"contents\"].pop(\"Muon_fsrPhotonIdx\", None)\n",
    "        base_form[\"contents\"].pop(\"Electron_photonIdx\", None)\n",
    "        super().__init__(base_form)\n",
    "files =\"TTbarPowheg_Semilept_Skim_NanoAOD_1of21.root\"\n",
    "import coffea.processor as processor\n",
    "from pprint import pprint\n",
    "file=uproot.open(files)\n",
    "from pprint import pprint"
   ]
  },
  {
   "cell_type": "code",
   "execution_count": 38,
   "id": "bce12445",
   "metadata": {},
   "outputs": [],
   "source": [
    "events = NanoEventsFactory.from_root(files,schemaclass=HackSchema).events()"
   ]
  },
  {
   "cell_type": "code",
   "execution_count": 39,
   "id": "9f4dc526",
   "metadata": {},
   "outputs": [],
   "source": [
    "#Condensing_all Lepton_cuts\n",
    "jets=events.Jet\n",
    "jetSel = (jets.pt>30) & (abs(jets.eta)<2.4)\n",
    "tightJet = jets[jetSel]\n",
    "bJet = tightJet[tightJet.btagDeepFlavB > 0.642]\n",
    "muons = events.Muon\n",
    "muonSel = (muons.pt>30) & (abs(muons.eta)<2.4)\n",
    "tightMuon = muons[muonSel]\n",
    "ele = events.Electron\n",
    "eleSel = (ele.pt>35)&(abs(ele.eta)<2.4)\n",
    "tightEle = ele[eleSel]\n",
    "eventSel = (((ak.num(tightMuon)==1) | (ak.num(tightEle)==1)) &\n",
    "            (ak.num(tightJet)>= 3) & (ak.num(bJet)>=1)\n",
    "           )\n",
    "final = events[eventSel]"
   ]
  },
  {
   "cell_type": "code",
   "execution_count": 40,
   "id": "237582ae",
   "metadata": {},
   "outputs": [],
   "source": [
    "combs=ak.combinations(final.Jet,3,replacement=False)"
   ]
  },
  {
   "cell_type": "code",
   "execution_count": 41,
   "id": "903da911",
   "metadata": {},
   "outputs": [],
   "source": [
    "m3 = combs['0']+combs['1']+combs['2']"
   ]
  },
  {
   "cell_type": "code",
   "execution_count": 47,
   "id": "f3a9c0a3",
   "metadata": {},
   "outputs": [
    {
     "name": "stdout",
     "output_type": "stream",
     "text": [
      "[[268, 250, 249, 157, 182, 155, 169, 138, ... 89.5, 320, 362, 103, 267, 318, 249]]\n",
      "[[{x: -35.1, y: -21.5, z: 224, t: 352}, {x: -76.9, ... y: -70.5, z: 273, t: 376}]]\n"
     ]
    }
   ],
   "source": [
    "print(m3.mass)\n",
    "print(m3)\n",
    "m3=ak.flatten(m3)"
   ]
  },
  {
   "cell_type": "code",
   "execution_count": 54,
   "id": "5f69e0e3",
   "metadata": {},
   "outputs": [
    {
     "name": "stdout",
     "output_type": "stream",
     "text": [
      "[0, 10, 20, 30, 40, 50, 60, 70, 80, 90, 100, 110, 120, 130, 140, 150, 160, 170, 180, 190, 200, 210, 220, 230, 240, 250, 260, 270, 280, 290, 300, 310, 320, 330, 340, 350, 360, 370, 380, 390, 400, 410, 420, 430, 440, 450, 460, 470, 480, 490, 500, 510, 520, 530, 540, 550, 560, 570, 580, 590, 600, 610, 620, 630, 640, 650, 660, 670, 680, 690, 700, 710, 720, 730, 740, 750, 760, 770, 780, 790, 800, 810, 820, 830, 840, 850, 860, 870, 880, 890, 900, 910, 920, 930, 940, 950, 960, 970, 980, 990, 1000]\n"
     ]
    }
   ],
   "source": [
    "n=0\n",
    "bins1=[]\n",
    "while n*10<=1000:\n",
    "    bins1.append(n*10)\n",
    "    n+=1\n",
    "print(bins1)"
   ]
  },
  {
   "cell_type": "code",
   "execution_count": 55,
   "id": "c0efc3a1",
   "metadata": {},
   "outputs": [
    {
     "data": {
      "image/png": "[encoded data removed]",
      "text/plain": [
       "<Figure size 1600x800 with 1 Axes>"
      ]
     },
     "metadata": {
      "needs_background": "light"
     },
     "output_type": "display_data"
    }
   ],
   "source": [
    "plt.figure(figsize=(20,10),dpi=80)\n",
    "plt.hist(m3.mass,bins=bins1,alpha=.5,density=True)\n",
    "plt.title(\"Simple Data Cuts Mass\")\n",
    "plt.show()"
   ]
  },
  {
   "cell_type": "code",
   "execution_count": 58,
   "id": "ceec7350",
   "metadata": {},
   "outputs": [
    {
     "name": "stdout",
     "output_type": "stream",
     "text": [
      "333.78233525906154\n",
      "[268, 250, 249, 157, 182, 155, 169, 138, ... 373, 89.5, 320, 362, 103, 267, 318, 249]\n"
     ]
    }
   ],
   "source": [
    "print(np.mean(m3.mass))\n",
    "print((m3.mass))"
   ]
  },
  {
   "cell_type": "code",
   "execution_count": 60,
   "id": "2113f71d",
   "metadata": {},
   "outputs": [
    {
     "name": "stdout",
     "output_type": "stream",
     "text": [
      "2727925\n"
     ]
    }
   ],
   "source": [
    "gev10cuts=m3[(m3.mass>163)&(m3.mass<173)]\n",
    "print(len(gev10cuts))"
   ]
  },
  {
   "cell_type": "code",
   "execution_count": 61,
   "id": "d294911a",
   "metadata": {},
   "outputs": [
    {
     "name": "stdout",
     "output_type": "stream",
     "text": [
      "80022368\n"
     ]
    }
   ],
   "source": [
    "print(len(m3))"
   ]
  },
  {
   "cell_type": "code",
   "execution_count": null,
   "id": "0d93e619",
   "metadata": {},
   "outputs": [],
   "source": []
  }
 ],
 "metadata": {
  "kernelspec": {
   "display_name": "Python 3",
   "language": "python",
   "name": "python3"
  },
  "language_info": {
   "codemirror_mode": {
    "name": "ipython",
    "version": 3
   },
   "file_extension": ".py",
   "mimetype": "text/x-python",
   "name": "python",
   "nbconvert_exporter": "python",
   "pygments_lexer": "ipython3",
   "version": "3.8.10"
  }
 },
 "nbformat": 4,
 "nbformat_minor": 5
}
