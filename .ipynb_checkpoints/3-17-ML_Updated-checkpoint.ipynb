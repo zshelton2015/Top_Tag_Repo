{
 "cells": [
  {
   "cell_type": "code",
   "execution_count": 1,
   "id": "disturbed-action",
   "metadata": {},
   "outputs": [
    {
     "name": "stderr",
     "output_type": "stream",
     "text": [
      "C:\\Users\\zshel\\anaconda3\\envs\\top_tag1\\lib\\site-packages\\awkward0\\__init__.py:23: FutureWarning: Consider switching from 'awkward0' to 'awkward', since the new interface became the default in 2020.\n",
      "\n",
      "    pip install -U awkward\n",
      "\n",
      "In Python:\n",
      "\n",
      "    >>> import awkward as ak\n",
      "    >>> new_style_array = ak.from_awkward0(old_style_array)\n",
      "    >>> old_style_array = ak.to_awkward0(new_style_array)\n",
      "\n",
      "  FutureWarning\n"
     ]
    }
   ],
   "source": [
    "from __future__ import print_function, division\n",
    "import uproot\n",
    "import numpy as np\n",
    "#Make sure to install both old awkward0 and new awkward1(referred to now as awkward)\n",
    "import awkward1 as ak\n",
    "import awkward0 as ak0\n",
    "from coffea.nanoevents import NanoAODSchema,NanoEventsFactory\n",
    "from uproot3_methods import TLorentzVectorArray\n",
    "import uproot3_methods\n",
    "import numpy as np\n",
    "import coffea.hist as hist\n",
    "import matplotlib.pyplot as plt\n",
    "import awkward\n",
    "class HackSchema(NanoAODSchema):\n",
    "    def __init__(self, base_form):\n",
    "        base_form[\"contents\"].pop(\"Muon_fsrPhotonIdx\", None)\n",
    "        base_form[\"contents\"].pop(\"Electron_photonIdx\", None)\n",
    "        super().__init__(base_form)\n",
    "def m3_recon(tree):\n",
    "    comb= ak.combinations(tree,n=3,axis=1,fields=['j1','j2','j3'])\n",
    "    trijets= comb.j1+comb.j2+comb.j3\n",
    "    recon =ak.max(trijets,axis=1)\n",
    "    reconfinal=np.sqrt(recon.t*recon.t-recon.x*recon.x-recon.y*recon.y-recon.z*recon.z)\n",
    "    list1= ak.to_numpy(reconfinal)\n",
    "    return list1\n",
    "files =\"TTbarPowheg_Semilept_Skim_NanoAOD_1of21.root\"\n",
    "import coffea.processor as processor\n",
    "from pprint import pprint\n",
    "file=uproot.open(files)\n",
    "nEvents=file['hEvents'].values[0]+file['hEvents'].values[2]\n",
    "from pprint import pprint"
   ]
  },
  {
   "cell_type": "code",
   "execution_count": 4,
   "id": "greatest-force",
   "metadata": {},
   "outputs": [],
   "source": [
    "class HackSchema(NanoAODSchema):\n",
    "    def __init__(self, base_form):\n",
    "        base_form[\"contents\"].pop(\"Muon_fsrPhotonIdx\", None)\n",
    "        base_form[\"contents\"].pop(\"Electron_photonIdx\", None)\n",
    "        super().__init__(base_form)\n",
    "def m3_recon(tree):\n",
    "    #print(tree[1])\n",
    "    comb= ak.combinations(tree,n=3,axis=1,fields=['j1','j2','j3'])\n",
    "    #print(comb[1])\n",
    "    trijets= comb.j1+comb.j2+comb.j3\n",
    "    recon =ak.max(trijets,axis=1)\n",
    "    #print(recon[1])\n",
    "    reconfinal=np.sqrt(recon.t*recon.t-recon.x*recon.x-recon.y*recon.y-recon.z*recon.z)\n",
    "    list1= ak.to_numpy(reconfinal)\n",
    "    return list1\n",
    "files =\"TTbarPowheg_Semilept_Skim_NanoAOD_1of21.root\"\n",
    "class JetPreProcess(processor.ProcessorABC):\n",
    "    def __init__(self):\n",
    "\n",
    "        #Declare an axis for the dataset\n",
    "        dataset_axis = hist.Cat(\"dataset\",\"Dataset\")\n",
    "        \n",
    "        #Declare an axis for the muon pt\n",
    "        pt_axis = hist.Bin(\"pt\",\"$p_{T}$ [GeV]\", 50, 0, 200)\n",
    "        mass_axis= hist.Bin(\"mass\",\"Mass [GeV]\",100,0,1000)\n",
    "\n",
    "        \n",
    "        #Utilizing Column Accumulators, the structure of data can be retained utilizing the pad_none function. during conversion to Numpy arrays\n",
    "        #None values are converted to zeros.\n",
    "        self._accumulator = processor.dict_accumulator({\n",
    "            'pre-cuts_M3': hist.Hist(\"Counts\", dataset_axis, mass_axis),\n",
    "            'post-cuts_M3':hist.Hist(\"Counts\", dataset_axis, mass_axis),\n",
    "            'pre-cuts_pt': hist.Hist(\"Counts\", dataset_axis, pt_axis),\n",
    "            'post-cuts_pt':hist.Hist(\"Counts\", dataset_axis, pt_axis),\n",
    "            'jet_phi':processor.column_accumulator(np.ndarray(shape=(1,8))),\n",
    "            'jet_eta':processor.column_accumulator(np.ndarray(shape=(1,8))),\n",
    "            'jet_pt':processor.column_accumulator(np.ndarray(shape=(1,8))),\n",
    "            'jet_mass':processor.column_accumulator(np.ndarray(shape=(1,8))),\n",
    "            'genjet_id':processor.column_accumulator(np.ndarray(shape=(1,8))),\n",
    "            'pdgid':processor.column_accumulator(np.ndarray(shape=(1,8)))\n",
    "        }\n",
    "        )\n",
    "\n",
    "    @property\n",
    "    def accumulator(self):\n",
    "        return self._accumulator\n",
    "\n",
    "    def process(self, events):\n",
    "        \n",
    "        output = self.accumulator.identity()\n",
    "        dataset = events.metadata['dataset']\n",
    "        #####\n",
    "        #Tight Lepton selection\n",
    "        #####\n",
    "        tight_muons = events.Muon\n",
    "        muonsel=ak.num(tight_muons[((tight_muons.pt>30)&(abs(tight_muons.eta)<2.4))],axis=1)==1\n",
    "        tight_electrons= events.Electron\n",
    "        electronsel=ak.num(tight_electrons[((tight_electrons.pt>35)&(abs(tight_electrons.eta)<2.4))],axis=1)==1\n",
    "        leptonsel=(muonsel|electronsel)\n",
    "        \n",
    "        ######\n",
    "        #Selects Jets with Jet cuts AND at least one b-tagged jet\n",
    "        ######\n",
    "        tight_jets=events.Jet\n",
    "        jetSel = ak.num(tight_jets[((tight_jets.pt>30)&(tight_jets.eta<2.4)&(tight_jets.eta>-2.4))],axis=1)>=3\n",
    "        jetSelection=(jetSel&(ak.num(tight_jets.btagCSVV2>.4184)>=1))\n",
    "        \n",
    "        ######\n",
    "        #Leading Jet Delta_r cuts for preprocessing\n",
    "        #JetSelection and Lepton Selection combined create final \"Pre-processed Data\"\n",
    "        \n",
    "        \n",
    "        f_events=events[(jetSelection&leptonsel)]\n",
    "        jet_pt=(processor.column_accumulator(np.array(ak.to_numpy(ak.pad_none(f_events.Jet.pt,8,clip=True)))))\n",
    "        output['pre-cuts_M3'].fill(dataset=dataset,mass=m3_recon(events[ak.num(events.Jet)>=3].Jet))\n",
    "        output['post-cuts_M3'].fill(dataset=dataset,mass=m3_recon(f_events.Jet))\n",
    "        output['pre-cuts_pt'].fill(dataset=dataset,pt=ak.flatten(events.Jet.pt))\n",
    "        output['post-cuts_pt'].fill(dataset=dataset,pt=ak.flatten(f_events.Jet.pt))\n",
    "        output['jet_pt']+=jet_pt\n",
    "        output['jet_mass']+=processor.column_accumulator(np.array(ak.to_numpy(ak.pad_none(f_events.Jet.mass,8,clip=True))))\n",
    "        output['jet_phi']+=processor.column_accumulator(np.array(ak.to_numpy(ak.pad_none(f_events.Jet.phi,8,clip=True))))\n",
    "        output['jet_eta']+=processor.column_accumulator(np.array(ak.to_numpy(ak.pad_none(f_events.Jet.eta,8,clip=True))))\n",
    "        output['genjet_id']+=processor.column_accumulator(np.array(ak.to_numpy(ak.pad_none(f_events.GenJet.partonFlavour,8,clip=True))))\n",
    "        output['pdgid']+=processor.column_accumulator(np.array(ak.to_numpy(ak.pad_none(f_events.GenPart.pdgId,8,clip=True))))\n",
    "        return output\n",
    "\n",
    "    def postprocess(self, accumulator):\n",
    "        return accumulator"
   ]
  },
  {
   "cell_type": "code",
   "execution_count": 5,
   "id": "dramatic-pressure",
   "metadata": {},
   "outputs": [
    {
     "data": {
      "application/vnd.jupyter.widget-view+json": {
       "model_id": "7faddd0306574215bfaadd7a905f33ee",
       "version_major": 2,
       "version_minor": 0
      },
      "text/plain": [
       "Processing:   0%|          | 0/17 [00:00<?, ?chunk/s]"
      ]
     },
     "metadata": {},
     "output_type": "display_data"
    }
   ],
   "source": [
    "#Run coffea processor again, this time using the filesetData list\n",
    "fileset = {\n",
    "    'tt-bar': [files]\n",
    "}\n",
    "outputData = processor.run_uproot_job(\n",
    "    fileset,\n",
    "    \"Events\",\n",
    "    JetPreProcess(),\n",
    "    processor.iterative_executor,\n",
    "    executor_args={\"schema\": HackSchema,'workers': 8}, \n",
    "    chunksize=100000,\n",
    ")\n"
   ]
  },
  {
   "cell_type": "code",
   "execution_count": 6,
   "id": "adopted-contract",
   "metadata": {},
   "outputs": [],
   "source": [
    "from coffea.nanoevents.methods import vector\n",
    "ak.behavior.update(vector.behavior)\n",
    "jets = ak.zip({\"pt\":outputData[\"jet_pt\"].value,\"eta\":outputData[\"jet_eta\"].value,\"phi\":outputData[\"jet_phi\"].value,\"mass\":outputData[\"jet_mass\"].value}, with_name=\"PtEtaPhiMLorentzVector\")\n",
    "assert np.allclose(np.array(jets.x), np.array(jets.x))\n",
    "assert np.allclose(np.array(jets.y), np.array(jets.y))\n",
    "assert np.allclose(np.array(jets.z), np.array(jets.z))"
   ]
  },
  {
   "cell_type": "code",
   "execution_count": 8,
   "id": "clinical-collins",
   "metadata": {},
   "outputs": [
    {
     "name": "stdout",
     "output_type": "stream",
     "text": [
      "[{pt: 123, eta: 0.446, phi: -2.92, mass: 12.1}, ... eta: 0, phi: 0, mass: 0}]\n"
     ]
    },
    {
     "data": {
      "text/plain": [
       "array([21., 21.,  6., -6., 21.,  6., -6., 24.])"
      ]
     },
     "execution_count": 8,
     "metadata": {},
     "output_type": "execute_result"
    }
   ],
   "source": [
    "print(jets[0])\n",
    "jetid=outputData[\"pdgid\"].value\n",
    "abs(jetid)==6\n",
    "jetid[0]"
   ]
  },
  {
   "cell_type": "code",
   "execution_count": 19,
   "id": "endangered-printing",
   "metadata": {},
   "outputs": [],
   "source": [
    "def m3_best_recon(tree):\n",
    "    comb= ak.combinations(tree,n=3,axis=1,fields=['j1','j2','j3'])\n",
    "    trijets= comb.j1+comb.j2+comb.j3\n",
    "    mass_l=trijets.mass\n",
    "    mass_dif=ak.argmin(abs(trijets.mass-173))\n",
    "    recon=trijets[int(mass_dif)]\n",
    "    reconfinal=np.sqrt(recon.t*recon.t-recon.x*recon.x-recon.y*recon.y-recon.z*recon.z)\n",
    "    list1= ak.to_numpy(reconfinal)\n",
    "    return list1"
   ]
  },
  {
   "cell_type": "code",
   "execution_count": 38,
   "id": "large-reconstruction",
   "metadata": {},
   "outputs": [
    {
     "name": "stdout",
     "output_type": "stream",
     "text": [
      "<Array [True, True, True, ... True, True, True] type='1381189 * bool'>\n"
     ]
    }
   ],
   "source": [
    "mask=ak.count(jets.pt,axis=1)>3\n",
    "pprint((mask))"
   ]
  },
  {
   "cell_type": "code",
   "execution_count": 39,
   "id": "civic-morning",
   "metadata": {},
   "outputs": [
    {
     "ename": "IndexError",
     "evalue": "index 18626999 is out of bounds for axis 0 with size 1381189",
     "output_type": "error",
     "traceback": [
      "\u001b[1;31m---------------------------------------------------------------------------\u001b[0m",
      "\u001b[1;31mIndexError\u001b[0m                                Traceback (most recent call last)",
      "\u001b[1;32m<ipython-input-39-a2a1ec067657>\u001b[0m in \u001b[0;36m<module>\u001b[1;34m\u001b[0m\n\u001b[0;32m      1\u001b[0m \u001b[0mjets\u001b[0m\u001b[1;33m=\u001b[0m\u001b[0mjets\u001b[0m\u001b[1;33m[\u001b[0m\u001b[0mmask\u001b[0m\u001b[1;33m]\u001b[0m\u001b[1;33m\u001b[0m\u001b[1;33m\u001b[0m\u001b[0m\n\u001b[1;32m----> 2\u001b[1;33m \u001b[0mM3_best\u001b[0m\u001b[1;33m=\u001b[0m\u001b[0mm3_best_recon\u001b[0m\u001b[1;33m(\u001b[0m\u001b[0mjets\u001b[0m\u001b[1;33m)\u001b[0m\u001b[1;33m\u001b[0m\u001b[1;33m\u001b[0m\u001b[0m\n\u001b[0m",
      "\u001b[1;32m<ipython-input-19-3d7075cd7e54>\u001b[0m in \u001b[0;36mm3_best_recon\u001b[1;34m(tree)\u001b[0m\n\u001b[0;32m      3\u001b[0m     \u001b[0mtrijets\u001b[0m\u001b[1;33m=\u001b[0m \u001b[0mcomb\u001b[0m\u001b[1;33m.\u001b[0m\u001b[0mj1\u001b[0m\u001b[1;33m+\u001b[0m\u001b[0mcomb\u001b[0m\u001b[1;33m.\u001b[0m\u001b[0mj2\u001b[0m\u001b[1;33m+\u001b[0m\u001b[0mcomb\u001b[0m\u001b[1;33m.\u001b[0m\u001b[0mj3\u001b[0m\u001b[1;33m\u001b[0m\u001b[1;33m\u001b[0m\u001b[0m\n\u001b[0;32m      4\u001b[0m     \u001b[0mmass_l\u001b[0m\u001b[1;33m=\u001b[0m\u001b[0mtrijets\u001b[0m\u001b[1;33m.\u001b[0m\u001b[0mmass\u001b[0m\u001b[1;33m\u001b[0m\u001b[1;33m\u001b[0m\u001b[0m\n\u001b[1;32m----> 5\u001b[1;33m     \u001b[0mmass_dif\u001b[0m\u001b[1;33m=\u001b[0m\u001b[0mak\u001b[0m\u001b[1;33m.\u001b[0m\u001b[0margmin\u001b[0m\u001b[1;33m(\u001b[0m\u001b[0mabs\u001b[0m\u001b[1;33m(\u001b[0m\u001b[0mtrijets\u001b[0m\u001b[1;33m.\u001b[0m\u001b[0mmass\u001b[0m\u001b[1;33m-\u001b[0m\u001b[1;36m173\u001b[0m\u001b[1;33m)\u001b[0m\u001b[1;33m)\u001b[0m\u001b[1;33m\u001b[0m\u001b[1;33m\u001b[0m\u001b[0m\n\u001b[0m\u001b[0;32m      6\u001b[0m     \u001b[0mrecon\u001b[0m\u001b[1;33m=\u001b[0m\u001b[0mtrijets\u001b[0m\u001b[1;33m[\u001b[0m\u001b[0mint\u001b[0m\u001b[1;33m(\u001b[0m\u001b[0mmass_dif\u001b[0m\u001b[1;33m)\u001b[0m\u001b[1;33m]\u001b[0m\u001b[1;33m\u001b[0m\u001b[1;33m\u001b[0m\u001b[0m\n\u001b[0;32m      7\u001b[0m     \u001b[0mreconfinal\u001b[0m\u001b[1;33m=\u001b[0m\u001b[0mnp\u001b[0m\u001b[1;33m.\u001b[0m\u001b[0msqrt\u001b[0m\u001b[1;33m(\u001b[0m\u001b[0mrecon\u001b[0m\u001b[1;33m.\u001b[0m\u001b[0mt\u001b[0m\u001b[1;33m*\u001b[0m\u001b[0mrecon\u001b[0m\u001b[1;33m.\u001b[0m\u001b[0mt\u001b[0m\u001b[1;33m-\u001b[0m\u001b[0mrecon\u001b[0m\u001b[1;33m.\u001b[0m\u001b[0mx\u001b[0m\u001b[1;33m*\u001b[0m\u001b[0mrecon\u001b[0m\u001b[1;33m.\u001b[0m\u001b[0mx\u001b[0m\u001b[1;33m-\u001b[0m\u001b[0mrecon\u001b[0m\u001b[1;33m.\u001b[0m\u001b[0my\u001b[0m\u001b[1;33m*\u001b[0m\u001b[0mrecon\u001b[0m\u001b[1;33m.\u001b[0m\u001b[0my\u001b[0m\u001b[1;33m-\u001b[0m\u001b[0mrecon\u001b[0m\u001b[1;33m.\u001b[0m\u001b[0mz\u001b[0m\u001b[1;33m*\u001b[0m\u001b[0mrecon\u001b[0m\u001b[1;33m.\u001b[0m\u001b[0mz\u001b[0m\u001b[1;33m)\u001b[0m\u001b[1;33m\u001b[0m\u001b[1;33m\u001b[0m\u001b[0m\n",
      "\u001b[1;32m~\\anaconda3\\envs\\top_tag1\\lib\\site-packages\\awkward1\\operations\\reducers.py\u001b[0m in \u001b[0;36margmin\u001b[1;34m(array, axis, keepdims, mask_identity)\u001b[0m\n\u001b[0;32m    675\u001b[0m                 \u001b[1;32mif\u001b[0m \u001b[0mbest_index\u001b[0m \u001b[1;32mis\u001b[0m \u001b[1;32mNone\u001b[0m \u001b[1;32mor\u001b[0m \u001b[0mtmp\u001b[0m\u001b[1;33m[\u001b[0m\u001b[0mout\u001b[0m\u001b[1;33m]\u001b[0m \u001b[1;33m<\u001b[0m \u001b[0mbest_value\u001b[0m\u001b[1;33m:\u001b[0m\u001b[1;33m\u001b[0m\u001b[1;33m\u001b[0m\u001b[0m\n\u001b[0;32m    676\u001b[0m                     \u001b[0mbest_index\u001b[0m \u001b[1;33m=\u001b[0m \u001b[0mout\u001b[0m\u001b[1;33m\u001b[0m\u001b[1;33m\u001b[0m\u001b[0m\n\u001b[1;32m--> 677\u001b[1;33m                     \u001b[0mbest_value\u001b[0m \u001b[1;33m=\u001b[0m \u001b[0mtmp\u001b[0m\u001b[1;33m[\u001b[0m\u001b[0mout\u001b[0m\u001b[1;33m]\u001b[0m\u001b[1;33m\u001b[0m\u001b[1;33m\u001b[0m\u001b[0m\n\u001b[0m\u001b[0;32m    678\u001b[0m             \u001b[1;32mreturn\u001b[0m \u001b[0mbest_index\u001b[0m\u001b[1;33m\u001b[0m\u001b[1;33m\u001b[0m\u001b[0m\n\u001b[0;32m    679\u001b[0m \u001b[1;33m\u001b[0m\u001b[0m\n",
      "\u001b[1;31mIndexError\u001b[0m: index 18626999 is out of bounds for axis 0 with size 1381189"
     ]
    }
   ],
   "source": [
    "jets=jets[mask]\n",
    "M3_best=m3_best_recon(jets)"
   ]
  },
  {
   "cell_type": "code",
   "execution_count": 17,
   "id": "industrial-steal",
   "metadata": {},
   "outputs": [
    {
     "name": "stdout",
     "output_type": "stream",
     "text": [
      "168.7548841447898\n"
     ]
    }
   ],
   "source": [
    "print(list1)"
   ]
  },
  {
   "cell_type": "code",
   "execution_count": null,
   "id": "subject-officer",
   "metadata": {},
   "outputs": [],
   "source": []
  }
 ],
 "metadata": {
  "kernelspec": {
   "display_name": "Python 3",
   "language": "python",
   "name": "python3"
  },
  "language_info": {
   "codemirror_mode": {
    "name": "ipython",
    "version": 3
   },
   "file_extension": ".py",
   "mimetype": "text/x-python",
   "name": "python",
   "nbconvert_exporter": "python",
   "pygments_lexer": "ipython3",
   "version": "3.7.9"
  }
 },
 "nbformat": 4,
 "nbformat_minor": 5
}
