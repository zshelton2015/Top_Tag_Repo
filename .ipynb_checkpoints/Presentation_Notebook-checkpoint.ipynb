{
 "cells": [
  {
   "cell_type": "markdown",
   "id": "molecular-affairs",
   "metadata": {},
   "source": [
    "# M3 Reconstruction\n",
    "### Using the 3 highest P_{T} jets Lorentz Vector to construct and invariant mass. Known as M3 Reconstruction\n",
    "#### By Zach Shelton\n",
    "#### 01/31/2021"
   ]
  },
  {
   "cell_type": "markdown",
   "id": "worse-luxembourg",
   "metadata": {},
   "source": [
    "Thank you to Danny Noonan for the NanoAOD HackSchema.\n",
    "\n",
    "Initial Imports and Packages Below:"
   ]
  },
  {
   "cell_type": "code",
   "execution_count": 60,
   "id": "streaming-moisture",
   "metadata": {},
   "outputs": [],
   "source": [
    "import uproot\n",
    "import uproot_methods\n",
    "import numpy as np\n",
    "import awkward0 as ak0\n",
    "import awkward1 as ak1\n",
    "from coffea.nanoevents import NanoAODSchema,NanoEventsFactory\n",
    "from uproot_methods import TLorentzVectorArray\n",
    "import uproot3_methods\n",
    "import numpy as np\n",
    "import awkward\n",
    "class HackSchema(NanoAODSchema):\n",
    "    def __init__(self, base_form):\n",
    "        base_form[\"contents\"].pop(\"Muon_fsrPhotonIdx\", None)\n",
    "        base_form[\"contents\"].pop(\"Electron_photonIdx\", None)\n",
    "        super().__init__(base_form)\n",
    "def m3_recon(tree):\n",
    "    comb= ak1.combinations(tree,n=3,axis=1,fields=['j1','j2','j3'])\n",
    "    trijets= comb.j1+comb.j2+comb.j3\n",
    "    recon =ak1.argmax(trijets.pt,axis=1,keepdims=True)\n",
    "    reconfinal=trijets[recon]\n",
    "    recomass=reconfinal.mass\n",
    "    return ak1.to_numpy(ak1.flatten(recomass))\n",
    "files =\"TTbarPowheg_Semilept_Skim_NanoAOD_1of21.root\""
   ]
  },
  {
   "cell_type": "code",
   "execution_count": 61,
   "id": "restricted-withdrawal",
   "metadata": {},
   "outputs": [],
   "source": [
    "events =NanoEventsFactory.from_root(files,schemaclass=HackSchema).events()\n",
    "#events.Jet.fields"
   ]
  },
  {
   "cell_type": "markdown",
   "id": "referenced-signature",
   "metadata": {},
   "source": [
    "From Table 11(CMS Draft Analysis Note), the following cuts were implemented to filter out jets that meet the requirements to be a bare minimum jet that COULD be from a tt-bar pair, The assumption is that 3 highest $p_t$ jets are from the tt-bar(s)"
   ]
  },
  {
   "cell_type": "markdown",
   "id": "otherwise-fleece",
   "metadata": {},
   "source": [
    "<img src=\"Table11.png\">"
   ]
  },
  {
   "cell_type": "code",
   "execution_count": 62,
   "id": "visible-albany",
   "metadata": {},
   "outputs": [
    {
     "name": "stdout",
     "output_type": "stream",
     "text": [
      "[[Jet, Jet, Jet, Jet, Jet], [Jet, Jet, ... Jet, Jet, Jet, Jet, Jet, Jet, Jet, Jet]]\n"
     ]
    }
   ],
   "source": [
    "#There are a varying number of jets in each event. Not every event is what we are looking for:\n",
    "#M3 recon chooses the 4-vectors of the jets with the 3 highest p_t\n",
    "print(events.Jet)"
   ]
  },
  {
   "cell_type": "code",
   "execution_count": 63,
   "id": "located-dublin",
   "metadata": {},
   "outputs": [
    {
     "name": "stdout",
     "output_type": "stream",
     "text": [
      "No Cuts or filtering: 13913624\n"
     ]
    }
   ],
   "source": [
    "#From table 11, taking direct cuts.\n",
    "print(\"No Cuts or filtering: %s\" %(len(ak1.flatten(events.Jet.pt))))\n",
    "non_cut= events\n",
    "#no_cutsrecon=m3_recon(non_cut.Jet)"
   ]
  },
  {
   "cell_type": "code",
   "execution_count": 64,
   "id": "behavioral-kazakhstan",
   "metadata": {},
   "outputs": [
    {
     "name": "stdout",
     "output_type": "stream",
     "text": [
      "1734354\n"
     ]
    }
   ],
   "source": [
    "#(ak1.count(events.Jet.pt,axis=1))\n",
    "print(len(events.Jet))"
   ]
  },
  {
   "cell_type": "code",
   "execution_count": 65,
   "id": "patient-process",
   "metadata": {},
   "outputs": [],
   "source": [
    "jetSelect = ((events.Jet.pt>30) & \n",
    "             (abs(events.Jet.eta)<2.4))\n",
    "goodJets = events.Jet[jetSelect]"
   ]
  },
  {
   "cell_type": "code",
   "execution_count": 66,
   "id": "modified-baltimore",
   "metadata": {},
   "outputs": [
    {
     "name": "stdout",
     "output_type": "stream",
     "text": [
      "[[123, 87.9, 44.4, 36.2, 31.9], [74.4, ... [107, 78.7, 71.5, 68.1, 67.1, 32.7]]\n",
      "[5, 5, 4, 4, 4, 7, 5, 4, 4, 3, 3, 4, 2, 5, ... 4, 5, 4, 5, 4, 4, 8, 5, 6, 4, 7, 4, 6]\n"
     ]
    }
   ],
   "source": [
    "print(goodJets.pt)\n",
    "print(ak1.count(goodJets.pt,axis=1))"
   ]
  },
  {
   "cell_type": "code",
   "execution_count": 67,
   "id": "ahead-cocktail",
   "metadata": {},
   "outputs": [],
   "source": [
    "#Filters out events with less than 3 Jets\n",
    "goodJets=goodJets[(ak1.count(goodJets.pt,axis=1)>3)]"
   ]
  },
  {
   "cell_type": "code",
   "execution_count": 68,
   "id": "unlikely-violence",
   "metadata": {},
   "outputs": [
    {
     "name": "stdout",
     "output_type": "stream",
     "text": [
      "Kinematics and B-tag descriminator: 6730078\n"
     ]
    }
   ],
   "source": [
    "simplecuts=goodJets\n",
    "print(\"Kinematics and B-tag descriminator: %s\" %(len(ak1.flatten(goodJets.pt))))\n",
    "simpcutsrecon=m3_recon(goodJets)"
   ]
  },
  {
   "cell_type": "markdown",
   "id": "following-hearts",
   "metadata": {},
   "source": [
    "The data seems to be a skim of \"bare minimum jets\", while redundant above it's important for future datasets.\n",
    "\n",
    "To-Do Filter for lepton events using CMS Analysis Notes"
   ]
  },
  {
   "cell_type": "code",
   "execution_count": 69,
   "id": "assured-bottom",
   "metadata": {},
   "outputs": [],
   "source": [
    "#Filtering out events without exactly 1 lepton"
   ]
  },
  {
   "cell_type": "code",
   "execution_count": 70,
   "id": "valid-steal",
   "metadata": {},
   "outputs": [
    {
     "data": {
      "text/plain": [
       "<AxesSubplot:xlabel='p_{t}', ylabel='Counts'>"
      ]
     },
     "execution_count": 70,
     "metadata": {},
     "output_type": "execute_result"
    },
    {
     "data": {
      "image/png": "[encoded data removed]",
      "text/plain": [
       "<Figure size 432x288 with 1 Axes>"
      ]
     },
     "metadata": {
      "needs_background": "light"
     },
     "output_type": "display_data"
    }
   ],
   "source": [
    "import coffea.hist as hist\n",
    "cat=hist.Cat(\"cut\",\"Cut?\")\n",
    "bins=hist.Bin(\"p_t\",\"p_{t}\",50,0,400)\n",
    "histogram= hist.Hist(\"Counts\",cat,bins)\n",
    "histogram.fill(cut=\"Simple Cuts\",p_t=ak1.flatten(simplecuts.pt))\n",
    "#histogram.fill(cut=\"Lepton Cut\",p_t=ak0.flatten(leptoncuts.Jet.pt))\n",
    "hist.plot1d(histogram,overlay='cut',density=False)"
   ]
  },
  {
   "cell_type": "code",
   "execution_count": 71,
   "id": "secondary-anxiety",
   "metadata": {},
   "outputs": [
    {
     "data": {
      "text/plain": [
       "<matplotlib.lines.Line2D at 0x23c0f1800c8>"
      ]
     },
     "execution_count": 71,
     "metadata": {},
     "output_type": "execute_result"
    },
    {
     "data": {
      "image/png": "[encoded data removed]",
      "text/plain": [
       "<Figure size 432x288 with 1 Axes>"
      ]
     },
     "metadata": {
      "needs_background": "light"
     },
     "output_type": "display_data"
    }
   ],
   "source": [
    "import matplotlib.pyplot as plt\n",
    "cat=hist.Cat(\"cut\",\"Cut?\")\n",
    "bins=hist.Bin(\"M3\",\"Mass(GeV)\",50,0,1000)\n",
    "histogram= hist.Hist(\"Counts\",cat,bins)\n",
    "#histogram.fill(cut=\"Lepton Cuts\",M3=postcuts_m3)\n",
    "#histogram.fill(cut=\"No Cuts\",M3=no_cutsrecon)\n",
    "histogram.fill(cut=\"Simple p_t and eta cuts\",M3=simpcutsrecon)\n",
    "fig=hist.plot1d(histogram,overlay='cut',density=False)\n",
    "fig.axvline(173, color='k', linestyle='dashed', linewidth=.4)"
   ]
  },
  {
   "cell_type": "markdown",
   "id": "unlikely-detector",
   "metadata": {},
   "source": [
    "Based on the discussion Ravindra, Dr. Yumiceva and I had; the long tail of the lepton cuts is expected. But why would the data be shaped differently?\n",
    "\n",
    "This is because jets that had a very high p_t may have had a smaller mass, and these were most likely cut out with the introduction of the lepton cuts.\n",
    "Is there a kinematic reason or decay cross-section cause for this?"
   ]
  },
  {
   "cell_type": "markdown",
   "id": "ecological-teaching",
   "metadata": {},
   "source": [
    "## What's next??\n",
    "- Lepton CMS cuts\n",
    "- Jet TightID\n",
    "- More \n",
    "- Particle Values\n",
    "- Delta R\n",
    "\n",
    "Wrap into Coffea Executor\n",
    "Seperate values, weights and triggers\n",
    "read these into tensors for Keras\n",
    "Best ML Algorithm?\n",
    "- Deep Neural Net\n",
    "- Iterative Boosted Tree\n",
    "    - They are fast\n",
    "    - External ML algorithm modifies BDT parameters\n",
    "- Combine old processes together\n",
    "Should I use Keras or PyTorch?\n"
   ]
  },
  {
   "cell_type": "markdown",
   "id": "waiting-conducting",
   "metadata": {},
   "source": [
    "## Sources/Further Reading:\n",
    "\n",
    "CMS Draft Analysis Note(FIT, AAS, Wayne State, NISTR): https://drive.google.com/file/d/1XEOLyZ-Q1HdEQY379RpyyQkOF1Q8KlsL/view\n",
    "\n",
    "Invariant Mass Wikipedia Article: https://en.wikipedia.org/wiki/Invariant_mass\n",
    "\n",
    "Measurement of the semileptonic tt + γ production cross-section in pp collisions at √s = 8 Tev: https://arxiv.org/pdf/1706.08128.pdf\n",
    "\n",
    "Coffea Documentation: https://coffeateam.github.io/coffea/\n",
    "\n",
    "Awkward Array Documentation: https://awkward-array.readthedocs.io/en/latest/"
   ]
  },
  {
   "cell_type": "markdown",
   "id": "affiliated-theology",
   "metadata": {},
   "source": [
    "# Will be availible on Github: under username zshelton2015"
   ]
  }
 ],
 "metadata": {
  "kernelspec": {
   "display_name": "Python 3",
   "language": "python",
   "name": "python3"
  },
  "language_info": {
   "codemirror_mode": {
    "name": "ipython",
    "version": 3
   },
   "file_extension": ".py",
   "mimetype": "text/x-python",
   "name": "python",
   "nbconvert_exporter": "python",
   "pygments_lexer": "ipython3",
   "version": "3.7.9"
  }
 },
 "nbformat": 4,
 "nbformat_minor": 5
}
