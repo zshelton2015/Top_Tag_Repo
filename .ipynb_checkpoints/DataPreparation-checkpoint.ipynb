{
 "cells": [
  {
   "cell_type": "markdown",
   "metadata": {},
   "source": [
    "# Data Preparation\n",
    "### Training a Neural Network to identify the best M3 Combo\n",
    "By Zach Shelton\n",
    "5/13/21\n"
   ]
  },
  {
   "cell_type": "code",
   "execution_count": 1,
   "metadata": {},
   "outputs": [],
   "source": [
    "#NanoAOD HackSchema\n",
    "#Solution from Danny Noonan"
   ]
  },
  {
   "cell_type": "code",
   "execution_count": 235,
   "metadata": {},
   "outputs": [],
   "source": [
    "from __future__ import print_function, division\n",
    "import uproot\n",
    "import numpy as np\n",
    "#Make sure to install both old awkward0 and new awkward1(referred to now as awkward)\n",
    "import awkward1 as ak\n",
    "import awkward0 as ak0\n",
    "from coffea.nanoevents import NanoAODSchema,NanoEventsFactory\n",
    "import coffea\n",
    "from uproot3_methods import TLorentzVectorArray\n",
    "import uproot3_methods\n",
    "import numpy as np\n",
    "import coffea.hist as hist\n",
    "import matplotlib.pyplot as plt\n",
    "import awkward\n",
    "class HackSchema(NanoAODSchema):\n",
    "    def __init__(self, base_form):\n",
    "        base_form[\"contents\"].pop(\"Muon_fsrPhotonIdx\", None)\n",
    "        base_form[\"contents\"].pop(\"Electron_photonIdx\", None)\n",
    "        super().__init__(base_form)\n",
    "files =\"TTbarPowheg_Semilept_Skim_NanoAOD_1of21.root\"\n",
    "import coffea.processor as processor\n",
    "from pprint import pprint\n",
    "file=uproot.open(files)\n",
    "from pprint import pprint"
   ]
  },
  {
   "cell_type": "markdown",
   "metadata": {},
   "source": [
    "## Note: It seems the Jet columns are sorted from greatest p_t to smallest p_t\n",
    "Feel free to test, but it seems to be my observation, choosing the 1st, 2nd or 3rd jet via index should remove the issue of it being a coffea sorting artifact or procedure"
   ]
  },
  {
   "cell_type": "code",
   "execution_count": 399,
   "metadata": {},
   "outputs": [],
   "source": [
    "#Now lets redo with the cuts detailed by CMS Draft Analysis\n",
    "#https://drive.google.com/file/d/1XEOLyZ-Q1HdEQY379RpyyQkOF1Q8KlsL/view\n",
    "events =NanoEventsFactory.from_root(files,schemaclass=HackSchema,entry_stop=10).events()"
   ]
  },
  {
   "cell_type": "code",
   "execution_count": 400,
   "metadata": {},
   "outputs": [],
   "source": [
    "#Condensing_all Lepton_cuts\n",
    "jets=events.Jet\n",
    "jetSel = (jets.pt>30) & (abs(jets.eta)<2.4)\n",
    "tightJet = jets[jetSel]\n",
    "bJet = tightJet[tightJet.btagDeepFlavB > 0.642]\n",
    "muons = events.Muon\n",
    "muonSel = (muons.pt>30) & (abs(muons.eta)<2.4)\n",
    "tightMuon = muons[muonSel]\n",
    "ele = events.Electron\n",
    "eleSel = (ele.pt>35)&(abs(ele.eta)<2.4)\n",
    "tightEle = ele[eleSel]\n",
    "eventSel = (((ak.num(tightMuon)==1) | (ak.num(tightEle)==1)) &\n",
    "            (ak.num(tightJet)>= 3) & (ak.num(bJet)>=1)\n",
    "           )\n",
    "final = events[eventSel]"
   ]
  },
  {
   "cell_type": "code",
   "execution_count": 401,
   "metadata": {},
   "outputs": [
    {
     "name": "stdout",
     "output_type": "stream",
     "text": [
      "5\n"
     ]
    }
   ],
   "source": [
    "#G = Global index of particles - Artifact from Coffea/NanoAOD Tools\n",
    "print(len(final))"
   ]
  },
  {
   "cell_type": "code",
   "execution_count": 402,
   "metadata": {},
   "outputs": [
    {
     "name": "stdout",
     "output_type": "stream",
     "text": [
      "[[GenParticle, GenParticle, GenParticle], ... GenParticle, GenParticle, GenParticle]]\n",
      "[[5, 2, -1], [5, 4, -3], [-5, 1, -2], ... [-5, 3, -4], [-5, 3, -2], [5, 4, -3]]\n"
     ]
    }
   ],
   "source": [
    "genPart = events.GenPart\n",
    "tops = genPart[abs(genPart.pdgId)==6]\n",
    "tops = tops[tops.hasFlags('isLastCopy')]\n",
    "tDecay = tops.distinctChildren\n",
    "tDecay = tDecay[tDecay.hasFlags('isLastCopy')]\n",
    "t_Events=tDecay[abs(tDecay.pdgId)==5]\n",
    "W = tDecay[abs(tDecay.pdgId)==24]\n",
    "W = W[W.hasFlags('isLastCopy')]\n",
    "WDecay = W.distinctChildren\n",
    "WDecay = WDecay[WDecay.hasFlags('isLastCopy')]\n",
    "#t_events is the lone bottom, W_events is the -> two jets\n",
    "W_Events=ak.flatten(WDecay[ak.all(abs(WDecay.pdgId)<=8,axis=-1)],axis=3)\n",
    "#select the hadronically decaying W\n",
    "hadW = ak.num(W_Events,axis=2)==2\n",
    "#select b quarks associated with hadronically decaying W\n",
    "hadB = t_Events[hadW]\n",
    "hadB = ak.flatten(hadB,axis=2)\n",
    "W_quarks = W_Events[hadW]\n",
    "W_quarks = ak.flatten(W_quarks,axis=2)\n",
    "qqb = ak.concatenate([hadB,W_quarks],axis=1)\n",
    "print(qqb)\n",
    "print(qqb.pdgId)"
   ]
  },
  {
   "cell_type": "code",
   "execution_count": 403,
   "metadata": {},
   "outputs": [
    {
     "name": "stdout",
     "output_type": "stream",
     "text": [
      "[[GenParticle, GenParticle], [GenParticle, ... [GenParticle, GenParticle]]\n"
     ]
    }
   ],
   "source": [
    "print(W_quarks)"
   ]
  },
  {
   "cell_type": "code",
   "execution_count": 404,
   "metadata": {},
   "outputs": [],
   "source": [
    "#Process for determining correct jets.\n",
    "#match Tightjets with nearest.\n",
    "#Take the sum of the combinations and compare the transverse momenta of them."
   ]
  },
  {
   "cell_type": "code",
   "execution_count": 405,
   "metadata": {},
   "outputs": [],
   "source": [
    "combs=ak.combinations(tightJet,3)\n",
    "argcomb=ak.argcombinations(tightJet,3)\n",
    "matchevents=qqb.nearest(tightJet,axis=1)"
   ]
  },
  {
   "cell_type": "code",
   "execution_count": 406,
   "metadata": {},
   "outputs": [
    {
     "name": "stdout",
     "output_type": "stream",
     "text": [
      "[138, 142, 150, 179, 155, 87.8, 62.6, 318, 79.4, 132]\n"
     ]
    }
   ],
   "source": [
    "print(matchevents.sum().pt)\n",
    "#print(ak.sum(matchevents,axis=-1))"
   ]
  },
  {
   "cell_type": "code",
   "execution_count": 407,
   "metadata": {},
   "outputs": [],
   "source": [
    "vals=ak.ArrayBuilder()\n",
    "n=0\n",
    "pt_sum=matchevents.sum().pt\n",
    "while(n<len(events)):\n",
    "    c=combs[n]\n",
    "    test_sum=c['0']+c['1']+c['2']\n",
    "    event_vals=(test_sum.pt==pt_sum[n])\n",
    "    vals.append(event_vals)\n",
    "    n+=1\n",
    "comb_truths=ak.flatten(vals)\n",
    "combinations=ak.flatten(combs)"
   ]
  },
  {
   "cell_type": "code",
   "execution_count": 408,
   "metadata": {},
   "outputs": [
    {
     "name": "stdout",
     "output_type": "stream",
     "text": [
      "86\n",
      "[(Jet, Jet, Jet), (Jet, Jet, Jet), (Jet, Jet, ... Jet, Jet, Jet), (Jet, Jet, Jet)]\n"
     ]
    }
   ],
   "source": [
    "print(len(comb_truths))\n",
    "print((combinations))"
   ]
  },
  {
   "cell_type": "code",
   "execution_count": 409,
   "metadata": {},
   "outputs": [],
   "source": [
    "#The values are in tuples, but can be solved with a concatenate"
   ]
  },
  {
   "cell_type": "code",
   "execution_count": 410,
   "metadata": {},
   "outputs": [],
   "source": [
    "from matplotlib import pyplot as plt "
   ]
  },
  {
   "cell_type": "code",
   "execution_count": 411,
   "metadata": {},
   "outputs": [],
   "source": [
    "good_vals=combinations[comb_truths]\n",
    "bad_vals=combinations[np.invert(comb_truths)]"
   ]
  },
  {
   "cell_type": "code",
   "execution_count": 413,
   "metadata": {},
   "outputs": [
    {
     "data": {
      "image/png": "[encoded data removed]",
      "text/plain": [
       "<Figure size 640x480 with 1 Axes>"
      ]
     },
     "metadata": {},
     "output_type": "display_data"
    }
   ],
   "source": [
    "greco=good_vals['0']+good_vals['1']+good_vals['2']\n",
    "breco=bad_vals['0']+bad_vals['1']+bad_vals['2']\n",
    "plt.hist(greco.mass,bins=10,alpha=.5,density=True)\n",
    "plt.hist(breco.mass,bins=10,alpha=.5,density=True)\n",
    "plt.legend([\"True\",\"False\"])\n",
    "plt.show()"
   ]
  },
  {
   "cell_type": "markdown",
   "metadata": {},
   "source": [
    "______________________________________________________________________________\n",
    "# Running Notes and questions\n",
    "- Losing Data because of arbitrary 8 jet cut?"
   ]
  },
  {
   "cell_type": "markdown",
   "metadata": {},
   "source": [
    "## Notes for Zach to keep up\n",
    "\n",
    "Wrap into Coffea Executor!!!!!!!!!!!!\n",
    "\n",
    "Seperate values, weights and triggers(X)\n",
    "read these into tensors for Keras(X)\n",
    "Best ML Algorithm?\n",
    "- Deep Neural Net\n",
    "- Iterative Boosted Tree\n",
    "    - They are fast\n",
    "    - External ML algorithm modifies BDT parameters\n",
    "- Combine old processes together\n",
    "Should I use Keras or PyTorch"
   ]
  },
  {
   "cell_type": "markdown",
   "metadata": {},
   "source": [
    "## Sources/Further Reading:\n",
    "\n",
    "CMS Draft Analysis Note(FIT, AAS, Wayne State, NISTR): https://drive.google.com/file/d/1XEOLyZ-Q1HdEQY379RpyyQkOF1Q8KlsL/view\n",
    "\n",
    "Invariant Mass Wikipedia Article: https://en.wikipedia.org/wiki/Invariant_mass\n",
    "\n",
    "Measurement of the semileptonic tt + γ production cross-section in pp collisions at √s = 8 Tev: https://arxiv.org/pdf/1706.08128.pdf\n",
    "\n",
    "Coffea Documentation: https://coffeateam.github.io/coffea/\n",
    "\n",
    "Awkward Array Documentation: https://awkward-array.readthedocs.io/en/latest/\n",
    "\n",
    "AOD DATA GUIDE: https://twiki.cern.ch/twiki/bin/view/CMSPublic/SWGuideAodDataTable"
   ]
  }
 ],
 "metadata": {
  "kernelspec": {
   "display_name": "Python 3",
   "language": "python",
   "name": "python3"
  },
  "language_info": {
   "codemirror_mode": {
    "name": "ipython",
    "version": 3
   },
   "file_extension": ".py",
   "mimetype": "text/x-python",
   "name": "python",
   "nbconvert_exporter": "python",
   "pygments_lexer": "ipython3",
   "version": "3.7.9"
  }
 },
 "nbformat": 4,
 "nbformat_minor": 4
}
