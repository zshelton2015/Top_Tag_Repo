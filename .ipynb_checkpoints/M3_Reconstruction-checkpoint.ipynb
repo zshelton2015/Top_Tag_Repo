{
 "cells": [
  {
   "cell_type": "markdown",
   "metadata": {},
   "source": [
    "# M3 Reconstruction\n",
    "### Using the 3 highest P_{T} jets Lorentz Vector to construct and invariant mass. Known as M3 Reconstruction\n",
    "By Zach Shelton\n",
    "01/25/2021"
   ]
  },
  {
   "cell_type": "code",
   "execution_count": 1,
   "metadata": {},
   "outputs": [],
   "source": [
    "#NanoAOD HackSchema\n",
    "#Solution from Danny Noonan\n"
   ]
  },
  {
   "cell_type": "raw",
   "metadata": {},
   "source": [
    "# RAN ON ANACONDA ENVIRONMENT(Python 3.7) \n",
    "## LIST OF INSTALLED PACKAGES\n",
    "### Name                    Version                   Build  Channel\n",
    "argon2-cffi               20.1.0                   pypi_0    pypi\n",
    "async-generator           1.10                     pypi_0    pypi\n",
    "attrs                     20.3.0                   pypi_0    pypi\n",
    "awkward                   0.14.0                   pypi_0    pypi\n",
    "awkward0                  0.15.2                   pypi_0    pypi\n",
    "awkward1                  0.4.5                    pypi_0    pypi\n",
    "backcall                  0.2.0                    pypi_0    pypi\n",
    "bleach                    3.2.1                    pypi_0    pypi\n",
    "ca-certificates           2020.12.8            haa95532_0\n",
    "cachetools                4.2.0                    pypi_0    pypi\n",
    "certifi                   2020.12.5        py37haa95532_0\n",
    "cffi                      1.14.4                   pypi_0    pypi\n",
    "chardet                   4.0.0                    pypi_0    pypi\n",
    "cloudpickle               1.6.0                    pypi_0    pypi\n",
    "coffea                    0.6.50                   pypi_0    pypi\n",
    "colorama                  0.4.4                    pypi_0    pypi\n",
    "cycler                    0.10.0                   pypi_0    pypi\n",
    "decorator                 4.4.2                    pypi_0    pypi\n",
    "defusedxml                0.6.0                    pypi_0    pypi\n",
    "entrypoints               0.3                      pypi_0    pypi\n",
    "hepunits                  2.0.1                    pypi_0    pypi\n",
    "idna                      2.10                     pypi_0    pypi\n",
    "importlib-metadata        3.3.0                    pypi_0    pypi\n",
    "ipykernel                 5.4.2                    pypi_0    pypi\n",
    "ipython                   7.19.0                   pypi_0    pypi\n",
    "ipython-genutils          0.2.0                    pypi_0    pypi\n",
    "ipywidgets                7.6.3                    pypi_0    pypi\n",
    "jedi                      0.17.0                   pypi_0    pypi\n",
    "jinja2                    2.11.2                   pypi_0    pypi\n",
    "jsonschema                3.2.0                    pypi_0    pypi\n",
    "jupyter-client            6.1.10                   pypi_0    pypi\n",
    "jupyter-core              4.7.0                    pypi_0    pypi\n",
    "jupyterlab-pygments       0.1.2                    pypi_0    pypi\n",
    "jupyterlab-widgets        1.0.0                    pypi_0    pypi\n",
    "kiwisolver                1.3.1                    pypi_0    pypi\n",
    "llvmlite                  0.35.0                   pypi_0    pypi\n",
    "lz4                       3.1.1                    pypi_0    pypi\n",
    "markupsafe                1.1.1                    pypi_0    pypi\n",
    "matplotlib                3.3.3                    pypi_0    pypi\n",
    "mistune                   0.8.4                    pypi_0    pypi\n",
    "mplhep                    0.2.9                    pypi_0    pypi\n",
    "nbclient                  0.5.1                    pypi_0    pypi\n",
    "nbconvert                 6.0.7                    pypi_0    pypi\n",
    "nbformat                  5.0.8                    pypi_0    pypi\n",
    "nest-asyncio              1.4.3                    pypi_0    pypi\n",
    "notebook                  6.1.6                    pypi_0    pypi\n",
    "numba                     0.52.0                   pypi_0    pypi\n",
    "openssl                   1.1.1i               h2bbff1b_0\n",
    "packaging                 20.8                     pypi_0    pypi\n",
    "pandas                    1.2.0                    pypi_0    pypi\n",
    "pandocfilters             1.4.3                    pypi_0    pypi\n",
    "parso                     0.8.1                    pypi_0    pypi\n",
    "particle                  0.14.0                   pypi_0    pypi\n",
    "pickleshare               0.7.5                    pypi_0    pypi\n",
    "pillow                    8.1.0                    pypi_0    pypi\n",
    "pip                       20.3.3           py37haa95532_0\n",
    "prometheus-client         0.9.0                    pypi_0    pypi\n",
    "prompt-toolkit            3.0.10                   pypi_0    pypi\n",
    "pyarrow                   2.0.0                    pypi_0    pypi\n",
    "pycparser                 2.20                     pypi_0    pypi\n",
    "pygments                  2.7.3                    pypi_0    pypi\n",
    "pyparsing                 2.4.7                    pypi_0    pypi\n",
    "pyrsistent                0.17.3                   pypi_0    pypi\n",
    "python                    3.7.9                h60c2a47_0\n",
    "python-dateutil           2.8.1                    pypi_0    pypi\n",
    "pytz                      2020.5                   pypi_0    pypi\n",
    "pywin32                   300                      pypi_0    pypi\n",
    "pywinpty                  0.5.7                    pypi_0    pypi\n",
    "pyzmq                     20.0.0                   pypi_0    pypi\n",
    "requests                  2.25.1                   pypi_0    pypi\n",
    "scipy                     1.6.0                    pypi_0    pypi\n",
    "seaborn                   0.11.1                   pypi_0    pypi\n",
    "send2trash                1.5.0                    pypi_0    pypi\n",
    "setuptools                51.0.0           py37haa95532_2\n",
    "six                       1.15.0                   pypi_0    pypi\n",
    "sqlite                    3.34.0               h8ffe710_0    conda-forge\n",
    "terminado                 0.9.2                    pypi_0    pypi\n",
    "testpath                  0.4.4                    pypi_0    pypi\n",
    "tornado                   6.1                      pypi_0    pypi\n",
    "tqdm                      4.55.1                   pypi_0    pypi\n",
    "traitlets                 5.0.5                    pypi_0    pypi\n",
    "typing-extensions         3.7.4.3                  pypi_0    pypi\n",
    "uproot                    3.13.1                   pypi_0    pypi\n",
    "uproot-methods            0.8.0                    pypi_0    pypi\n",
    "uproot3                   3.14.2                   pypi_0    pypi\n",
    "uproot3-methods           0.10.0                   pypi_0    pypi\n",
    "uproot4                   0.1.2                    pypi_0    pypi\n",
    "urllib3                   1.26.2                   pypi_0    pypi\n",
    "vc                        14.2                 h21ff451_1\n",
    "vs2015_runtime            14.28.29325          h5e1d092_0    conda-forge\n",
    "wcwidth                   0.2.5                    pypi_0    pypi\n",
    "webencodings              0.5.1                    pypi_0    pypi\n",
    "wheel                     0.36.2             pyhd3eb1b0_0\n",
    "widgetsnbextension        3.5.1                    pypi_0    pypi\n",
    "wincertstore              0.2                      py37_0\n",
    "zipp                      3.4.0                    pypi_0    pypi"
   ]
  },
  {
   "cell_type": "code",
   "execution_count": 1,
   "metadata": {},
   "outputs": [
    {
     "name": "stderr",
     "output_type": "stream",
     "text": [
      "C:\\Users\\zshel\\anaconda3\\envs\\top_tag1\\lib\\site-packages\\awkward0\\__init__.py:23: FutureWarning: Consider switching from 'awkward0' to 'awkward', since the new interface became the default in 2020.\n",
      "\n",
      "    pip install -U awkward\n",
      "\n",
      "In Python:\n",
      "\n",
      "    >>> import awkward as ak\n",
      "    >>> new_style_array = ak.from_awkward0(old_style_array)\n",
      "    >>> old_style_array = ak.to_awkward0(new_style_array)\n",
      "\n",
      "  FutureWarning\n"
     ]
    }
   ],
   "source": [
    "from __future__ import print_function, division\n",
    "import uproot\n",
    "import uproot_methods\n",
    "import numpy as np\n",
    "#Make sure to install both old awkward0 and new awkward1(referred to now as awkward)\n",
    "import awkward as ak\n",
    "import awkward1 as ak0\n",
    "from coffea.nanoevents import NanoAODSchema,NanoEventsFactory\n",
    "from uproot_methods import TLorentzVectorArray\n",
    "import uproot3_methods\n",
    "import numpy as np\n",
    "import awkward\n",
    "class HackSchema(NanoAODSchema):\n",
    "    def __init__(self, base_form):\n",
    "        base_form[\"contents\"].pop(\"Muon_fsrPhotonIdx\", None)\n",
    "        base_form[\"contents\"].pop(\"Electron_photonIdx\", None)\n",
    "        super().__init__(base_form)\n",
    "def m3_recon(tree):\n",
    "    comb= ak0.combinations(tree,n=3,axis=1,fields=['j1','j2','j3'])\n",
    "    trijets= comb.j1+comb.j2+comb.j3\n",
    "    recon =ak0.max(trijets,axis=1)\n",
    "    reconfinal=np.sqrt(recon.t*recon.t-recon.x*recon.x-recon.y*recon.y-recon.z*recon.z)\n",
    "    #MISUSE/CONFUSION:\n",
    "    #for some reason None values are being placed in array\n",
    "    #So I reconstructed the mass \"manually\"\n",
    "    list1= ak0.to_numpy(reconfinal)\n",
    "    return list1\n",
    "files =\"TTbarPowheg_Semilept_Skim_NanoAOD_1of21.root\""
   ]
  },
  {
   "cell_type": "markdown",
   "metadata": {},
   "source": [
    "## Note: It seems the Jet columns are sorted from greatest p_t to smallest p_t\n",
    "Feel free to test, but it seems to be my observation, choosing the 1st, 2nd or 3rd jet via index should remove the issue of it being a coffea sorting artifact or procedure"
   ]
  },
  {
   "cell_type": "markdown",
   "metadata": {},
   "source": [
    "This seems a lot higher than 173 Gev for the Top quark, I will note in research there are additional bins and tagging I could add to increase accuracy. Like for instance, a matched Muon or Electron."
   ]
  },
  {
   "cell_type": "code",
   "execution_count": 6,
   "metadata": {},
   "outputs": [],
   "source": [
    "#Now lets redo with the cuts detailed by CMS Draft Analysis\n",
    "#https://drive.google.com/file/d/1XEOLyZ-Q1HdEQY379RpyyQkOF1Q8KlsL/view\n",
    "events =NanoEventsFactory.from_root(files,schemaclass=HackSchema).events()\n",
    "#Is this step necessary? I find reference issues when I do the masking\n",
    "#NOTE: Total Events tree has been replaced with just Jet Tree"
   ]
  },
  {
   "cell_type": "code",
   "execution_count": 9,
   "metadata": {},
   "outputs": [
    {
     "data": {
      "text/plain": [
       "<Array [True, True, True, ... True, True, True] type='1734354 * bool'>"
      ]
     },
     "execution_count": 9,
     "metadata": {},
     "output_type": "execute_result"
    }
   ],
   "source": [
    "ak0.count(events.Jet.pt,axis=1)>=3"
   ]
  },
  {
   "cell_type": "code",
   "execution_count": 10,
   "metadata": {},
   "outputs": [
    {
     "name": "stderr",
     "output_type": "stream",
     "text": [
      "C:\\Users\\zshel\\anaconda3\\envs\\top_tag1\\lib\\site-packages\\awkward1\\_connect\\_numpy.py:163: RuntimeWarning: invalid value encountered in sqrt\n",
      "  *[nplike.asarray(x) for x in inputs], **kwargs\n"
     ]
    },
    {
     "name": "stdout",
     "output_type": "stream",
     "text": [
      "318210\n"
     ]
    }
   ],
   "source": [
    "#From table 11, taking direct cuts. \n",
    "non_cut= events\n",
    "no_cutsrecon=m3_recon(non_cut.Jet)\n",
    "#print(events.Jet.cleanmask)\n",
    "events.Jet=events.Jet[((events.Jet.pt>30)&((events.Jet.eta<2.4)|(events.Jet.eta>-2.4))&((events.Jet.btagCSVV2>.4841)))]\n",
    "#print(len(events.Jet.pt))\n",
    "events.Jet=events.Jet[(ak0.count(events.Jet.pt,axis=1)>=3)]#eta tag\n",
    "#print(len(events.Jet.pt))\n",
    "#events.Jet=events.Jet[((events.Jet.btagCSVV2>.4841))]#B-tag\n",
    "print(len(events.Jet.pt))\n",
    "simplecuts =events\n",
    "simpcutsrecon=m3_recon(simplecuts.Jet)\n",
    "#slightcuts_recon= create_sum(events.Jet)"
   ]
  },
  {
   "cell_type": "code",
   "execution_count": 11,
   "metadata": {},
   "outputs": [],
   "source": [
    "#Electron for P-t cuts and eta cuts\n",
    "mask=((events.Electron.pt>35)&(abs(events.Electron.eta<2.4)))\n",
    "events.Electron=events.Electron[mask]"
   ]
  },
  {
   "cell_type": "code",
   "execution_count": 12,
   "metadata": {},
   "outputs": [],
   "source": [
    "#Same procedure with slight cut changes due to mass diffs\n",
    "mask=((events.Muon.pt>30)&(abs(events.Muon.eta<2.4)))\n",
    "events.Muon=events.Muon[mask]"
   ]
  },
  {
   "cell_type": "code",
   "execution_count": 13,
   "metadata": {},
   "outputs": [],
   "source": [
    "#Filtering out events with 1 lepton \n",
    "mask = (ak0.count(events.Muon.pt,axis=1)==1)\n",
    "events.Muon=events.Muon[mask]\n",
    "#print(ak0.shape(events.Muon.pt,axis=1))"
   ]
  },
  {
   "cell_type": "code",
   "execution_count": 14,
   "metadata": {},
   "outputs": [],
   "source": [
    "mask = (ak0.count(events.Electron.pt,axis=1)==1)\n",
    "events.Electron=events.Electron[mask]"
   ]
  },
  {
   "cell_type": "code",
   "execution_count": 15,
   "metadata": {},
   "outputs": [],
   "source": [
    "events.Jet = events.Jet[(ak0.count(events.Jet.pt,axis=-1))>3]"
   ]
  },
  {
   "cell_type": "code",
   "execution_count": 16,
   "metadata": {},
   "outputs": [],
   "source": [
    "events.Jet= events.Jet[ak0.count(events.Jet.pt,axis=1)>=3]"
   ]
  },
  {
   "cell_type": "code",
   "execution_count": 17,
   "metadata": {},
   "outputs": [],
   "source": [
    "leptoncuts=events.Jet"
   ]
  },
  {
   "cell_type": "code",
   "execution_count": 18,
   "metadata": {},
   "outputs": [
    {
     "name": "stdout",
     "output_type": "stream",
     "text": [
      "[997.53253 101.41289 327.11298 ... 249.32051 757.1102  969.911  ]\n",
      "[210.18236 155.5755  244.43076 ... 969.911   243.31763 526.7047 ]\n"
     ]
    }
   ],
   "source": [
    "#post_cutsM3=m3_recon(events)\n",
    "postcuts_m3=(m3_recon(leptoncuts))\n",
    "print(postcuts_m3)\n",
    "print(simpcutsrecon)"
   ]
  },
  {
   "cell_type": "code",
   "execution_count": 21,
   "metadata": {},
   "outputs": [
    {
     "data": {
      "text/plain": [
       "<AxesSubplot:xlabel='p_{t}', ylabel='p_t Comparison'>"
      ]
     },
     "execution_count": 21,
     "metadata": {},
     "output_type": "execute_result"
    },
    {
     "data": {
      "image/png": "[encoded data removed]",
      "text/plain": [
       "<Figure size 432x288 with 1 Axes>"
      ]
     },
     "metadata": {
      "needs_background": "light"
     },
     "output_type": "display_data"
    }
   ],
   "source": [
    "import coffea.hist as hist\n",
    "cat=hist.Cat(\"cut\",\"Cut?\")\n",
    "bins=hist.Bin(\"p_t\",\"p_{t}\",50,0,400)\n",
    "histogram= hist.Hist(\"p_t Comparison\",cat,bins)\n",
    "histogram.fill(cut=\"No Cuts, No JetID\",p_t=ak0.flatten(non_cut.Jet.pt))\n",
    "histogram.fill(cut=\"Simple Cuts, No JetID\",p_t=ak0.flatten(simplecuts.Jet.pt))\n",
    "histogram.fill(cut=\"Lepton Cuts, No JetID\",p_t=ak0.flatten(leptoncuts.pt))\n",
    "hist.plot1d(histogram,overlay='cut')"
   ]
  },
  {
   "cell_type": "code",
   "execution_count": 23,
   "metadata": {},
   "outputs": [
    {
     "data": {
      "text/plain": [
       "<matplotlib.lines.Line2D at 0x2901a8fe3c8>"
      ]
     },
     "execution_count": 23,
     "metadata": {},
     "output_type": "execute_result"
    },
    {
     "data": {
      "image/png": "[encoded data removed]",
      "text/plain": [
       "<Figure size 432x288 with 1 Axes>"
      ]
     },
     "metadata": {
      "needs_background": "light"
     },
     "output_type": "display_data"
    }
   ],
   "source": [
    "#M3 Reconstruction\n",
    "import coffea.hist as hist\n",
    "import matplotlib.pyplot as plt\n",
    "cat=hist.Cat(\"cut\",\"Cut?\")\n",
    "bins=hist.Bin(\"M3\",\"GeV\",50,0,2000)\n",
    "histogram= hist.Hist(\"Counts\",cat,bins)\n",
    "#histogram.fill(cut=\"Lepton Cuts\",M3=postcuts_m3)\n",
    "#histogram.fill(cut=\"No Cuts\",M3=no_cutsrecon)\n",
    "histogram.fill(cut=\"Simple p_t and eta cuts\",M3=simpcutsrecon)\n",
    "histogram.fill(cut=\"Post Lepton Cuts\",M3=postcuts_m3)\n",
    "fig=hist.plot1d(histogram,overlay='cut',density=True)\n",
    "fig.axvline(173, color='k', linestyle='dashed', linewidth=.4)"
   ]
  },
  {
   "cell_type": "markdown",
   "metadata": {},
   "source": [
    "## What's next??\n",
    "- Jet TightID\n",
    "- More \n",
    "- Particle Values\n",
    "- Delta R\n",
    "\n",
    "Wrap into Coffea Executor\n",
    "Seperate values, weights and triggers\n",
    "read these into tensors for Keras\n",
    "Best ML Algorithm?\n",
    "- Deep Neural Net\n",
    "- Iterative Boosted Tree\n",
    "    - They are fast\n",
    "    - External ML algorithm modifies BDT parameters\n",
    "- Combine old processes together\n",
    "Should I use Keras or PyTorch?\n"
   ]
  },
  {
   "cell_type": "markdown",
   "metadata": {},
   "source": [
    "## Sources/Further Reading:\n",
    "\n",
    "CMS Draft Analysis Note(FIT, AAS, Wayne State, NISTR): https://drive.google.com/file/d/1XEOLyZ-Q1HdEQY379RpyyQkOF1Q8KlsL/view\n",
    "\n",
    "Invariant Mass Wikipedia Article: https://en.wikipedia.org/wiki/Invariant_mass\n",
    "\n",
    "Measurement of the semileptonic tt + γ production cross-section in pp collisions at √s = 8 Tev: https://arxiv.org/pdf/1706.08128.pdf\n",
    "\n",
    "Coffea Documentation: https://coffeateam.github.io/coffea/\n",
    "\n",
    "Awkward Array Documentation: https://awkward-array.readthedocs.io/en/latest/"
   ]
  },
  {
   "cell_type": "markdown",
   "metadata": {},
   "source": [
    "# Will be availible on Github: under username zshelton2015"
   ]
  },
  {
   "cell_type": "code",
   "execution_count": null,
   "metadata": {},
   "outputs": [],
   "source": []
  }
 ],
 "metadata": {
  "kernelspec": {
   "display_name": "Python 3",
   "language": "python",
   "name": "python3"
  },
  "language_info": {
   "codemirror_mode": {
    "name": "ipython",
    "version": 3
   },
   "file_extension": ".py",
   "mimetype": "text/x-python",
   "name": "python",
   "nbconvert_exporter": "python",
   "pygments_lexer": "ipython3",
   "version": "3.7.9"
  }
 },
 "nbformat": 4,
 "nbformat_minor": 4
}
