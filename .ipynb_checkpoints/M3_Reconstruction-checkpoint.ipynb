{
 "cells": [
  {
   "cell_type": "markdown",
   "metadata": {},
   "source": [
    "# M3 Reconstruction\n",
    "### Using the 3 highest P_{T} jets Lorentz Vector to construct and invariant mass. Known as M3 Reconstruction\n",
    "By Zach Shelton\n",
    "01/25/2021"
   ]
  },
  {
   "cell_type": "code",
   "execution_count": 8,
   "metadata": {},
   "outputs": [],
   "source": [
    "#NanoAOD HackSchema\n",
    "#Solution from Danny Noonan\n"
   ]
  },
  {
   "cell_type": "code",
   "execution_count": 28,
   "metadata": {},
   "outputs": [],
   "source": [
    "from __future__ import print_function, division\n",
    "import uproot\n",
    "import numpy as np\n",
    "#Make sure to install both old awkward0 and new awkward1(referred to now as awkward)\n",
    "import awkward as ak\n",
    "import awkward0 as ak0\n",
    "from coffea.nanoevents import NanoAODSchema,NanoEventsFactory\n",
    "from uproot3_methods import TLorentzVectorArray\n",
    "import uproot3_methods\n",
    "import numpy as np\n",
    "import awkward\n",
    "class HackSchema(NanoAODSchema):\n",
    "    def __init__(self, base_form):\n",
    "        base_form[\"contents\"].pop(\"Muon_fsrPhotonIdx\", None)\n",
    "        base_form[\"contents\"].pop(\"Electron_photonIdx\", None)\n",
    "        super().__init__(base_form)\n",
    "def m3_recon(tree):\n",
    "    comb= ak.combinations(tree,n=3,axis=1,fields=['j1','j2','j3'])\n",
    "    trijets= comb.j1+comb.j2+comb.j3\n",
    "    recon =ak.max(trijets,axis=1)\n",
    "    reconfinal=np.sqrt(recon.t*recon.t-recon.x*recon.x-recon.y*recon.y-recon.z*recon.z)\n",
    "    #MISUSE/CONFUSION:\n",
    "    #for some reason None values are being placed in array\n",
    "    #So I reconstructed the mass \"manually\"\n",
    "    list1= ak.to_numpy(reconfinal)\n",
    "    return list1\n",
    "files =\"TTbarPowheg_Semilept_Skim_NanoAOD_1of21.root\""
   ]
  },
  {
   "cell_type": "markdown",
   "metadata": {},
   "source": [
    "## Note: It seems the Jet columns are sorted from greatest p_t to smallest p_t\n",
    "Feel free to test, but it seems to be my observation, choosing the 1st, 2nd or 3rd jet via index should remove the issue of it being a coffea sorting artifact or procedure"
   ]
  },
  {
   "cell_type": "code",
   "execution_count": 40,
   "metadata": {},
   "outputs": [],
   "source": [
    "#Now lets redo with the cuts detailed by CMS Draft Analysis\n",
    "#https://drive.google.com/file/d/1XEOLyZ-Q1HdEQY379RpyyQkOF1Q8KlsL/view\n",
    "events =NanoEventsFactory.from_root(files,schemaclass=HackSchema).events()\n"
   ]
  },
  {
   "cell_type": "code",
   "execution_count": 96,
   "metadata": {},
   "outputs": [],
   "source": [
    "#Condensing All Cuts to a single Cell\n",
    "tight_jets=events.Jet\n",
    "jetSelection = ak.sum((ak.num(tight_jets)>=3)&((tight_jets.pt>30)&((tight_jets.eta<2.4)|(tight_jets.eta>-2.4))&((tight_jets.btagCSVV2>.4841))),axis=1)>=1"
   ]
  },
  {
   "cell_type": "code",
   "execution_count": 72,
   "metadata": {},
   "outputs": [
    {
     "name": "stderr",
     "output_type": "stream",
     "text": [
      "/udrive/student/zshelton2015/TopAnalysisExample/ttgenv/lib/python3.6/site-packages/awkward/_connect/_numpy.py:151: RuntimeWarning: invalid value encountered in sqrt\n",
      "  *[nplike.asarray(x) for x in inputs], **kwargs\n"
     ]
    }
   ],
   "source": [
    "recon_precuts = m3_recon(tight_jets)"
   ]
  },
  {
   "cell_type": "code",
   "execution_count": 84,
   "metadata": {},
   "outputs": [
    {
     "name": "stdout",
     "output_type": "stream",
     "text": [
      "[False, False, False, False, False, False, ... True, False, False, False, False]\n"
     ]
    }
   ],
   "source": [
    "#Condensing_all Lepton_cuts\n",
    "tight_muons = events.Muon\n",
    "muonsel=(ak.sum((ak.num(tight_muons)==1)&(tight_muons.pt>30)&(abs(tight_muons.eta<2.4)),axis=1)>=1)\n",
    "tight_electrons= events.Electron\n",
    "electronsel=ak.sum(((ak.num(tight_electrons)==1)&(tight_electrons.pt>35)&(abs(tight_electrons.eta<2.4))),axis=1)>=1"
   ]
  },
  {
   "cell_type": "code",
   "execution_count": 103,
   "metadata": {},
   "outputs": [
    {
     "name": "stdout",
     "output_type": "stream",
     "text": [
      "[True, False, False, False, False, False, ... True, True, False, False, False, False]\n",
      "[<event 1:50992:8498517>, <event 1:50992:8498524>, ... <event 1:641843:106973889>]\n"
     ]
    }
   ],
   "source": [
    "jetlepselmask = (jetSelection&leptonsel)\n",
    "print((jetlepselmask))\n",
    "print(events[jetlepselmask])\n",
    "final=events[jetlepselmask]\n",
    "postcuts_m3=m3_recon(events[jetlepselmask].Jet)"
   ]
  },
  {
   "cell_type": "code",
   "execution_count": 112,
   "metadata": {},
   "outputs": [
    {
     "data": {
      "text/plain": [
       "<AxesSubplot:xlabel='p_{t}', ylabel='p_t Comparison'>"
      ]
     },
     "execution_count": 112,
     "metadata": {},
     "output_type": "execute_result"
    },
    {
     "data": {
      "image/png": "[encoded data removed]",
      "text/plain": [
       "<Figure size 432x288 with 1 Axes>"
      ]
     },
     "metadata": {
      "needs_background": "light"
     },
     "output_type": "display_data"
    }
   ],
   "source": [
    "import coffea.hist as hist\n",
    "cat=hist.Cat(\"cut\",\"Cut?\")\n",
    "bins=hist.Bin(\"p_t\",\"p_{t}\",50,0,400)\n",
    "histogram= hist.Hist(\"p_t Comparison\",cat,bins)\n",
    "histogram.fill(cut=\"No Cuts, No JetID\",p_t=ak.flatten(events.Jet.pt))\n",
    "#histogram.fill(cut=\"Simple Cuts, No JetID\",p_t=ak.flatten(simplecuts.Jet.pt))\n",
    "histogram.fill(cut=\"Lepton Cuts, No JetID\",p_t=ak.flatten(events[jetlepselmask].Jet.pt))\n",
    "hist.plot1d(histogram,overlay='cut')"
   ]
  },
  {
   "cell_type": "code",
   "execution_count": 107,
   "metadata": {},
   "outputs": [
    {
     "data": {
      "text/plain": [
       "<matplotlib.lines.Line2D at 0x7f73514fa0f0>"
      ]
     },
     "execution_count": 107,
     "metadata": {},
     "output_type": "execute_result"
    },
    {
     "data": {
      "image/png": "[encoded data removed]",
      "text/plain": [
       "<Figure size 432x288 with 1 Axes>"
      ]
     },
     "metadata": {
      "needs_background": "light"
     },
     "output_type": "display_data"
    }
   ],
   "source": [
    "#M3 Reconstruction\n",
    "import coffea.hist as hist\n",
    "import matplotlib.pyplot as plt\n",
    "cat=hist.Cat(\"cut\",\"Cut?\")\n",
    "bins=hist.Bin(\"M3\",\"GeV\",50,0,2000)\n",
    "histogram= hist.Hist(\"Counts\",cat,bins)\n",
    "#histogram.fill(cut=\"Lepton Cuts\",M3=postcuts_m3)\n",
    "histogram.fill(cut=\"No Cuts\",M3=recon_precuts)\n",
    "#histogram.fill(cut=\"Simple p_t and eta cuts\",M3=simpcutsrecon)\n",
    "histogram.fill(cut=\"Post Lepton Cuts\",M3=postcuts_m3)\n",
    "fig=hist.plot1d(histogram,overlay='cut',density=True)\n",
    "fig.axvline(173, color='k', linestyle='dashed', linewidth=.4)\n",
    "#They seem to be identical? Should they be different?"
   ]
  },
  {
   "cell_type": "markdown",
   "metadata": {},
   "source": [
    "Conclusions?\n",
    "2/15/21\n",
    "I find that the density of the M3 reconstruction still matches the original uncut values. Is there missing parameter I am not factoring in?\n"
   ]
  },
  {
   "cell_type": "markdown",
   "metadata": {},
   "source": [
    "## What's next?? Worth Including? Are these covered in the CMS Analysis notes?\n",
    "- Jet TightID\n",
    "- More \n",
    "- Particle Values\n",
    "- Delta R\n",
    "\n",
    "Wrap into Coffea Executor\n",
    "Seperate values, weights and triggers\n",
    "read these into tensors for Keras\n",
    "Best ML Algorithm?\n",
    "- Deep Neural Net\n",
    "- Iterative Boosted Tree\n",
    "    - They are fast\n",
    "    - External ML algorithm modifies BDT parameters\n",
    "- Combine old processes together\n",
    "Should I use Keras or PyTorch?\n"
   ]
  },
  {
   "cell_type": "markdown",
   "metadata": {},
   "source": [
    "## Sources/Further Reading:\n",
    "\n",
    "CMS Draft Analysis Note(FIT, AAS, Wayne State, NISTR): https://drive.google.com/file/d/1XEOLyZ-Q1HdEQY379RpyyQkOF1Q8KlsL/view\n",
    "\n",
    "Invariant Mass Wikipedia Article: https://en.wikipedia.org/wiki/Invariant_mass\n",
    "\n",
    "Measurement of the semileptonic tt + γ production cross-section in pp collisions at √s = 8 Tev: https://arxiv.org/pdf/1706.08128.pdf\n",
    "\n",
    "Coffea Documentation: https://coffeateam.github.io/coffea/\n",
    "\n",
    "Awkward Array Documentation: https://awkward-array.readthedocs.io/en/latest/"
   ]
  },
  {
   "cell_type": "markdown",
   "metadata": {},
   "source": [
    "# Will be availible on Github: under username zshelton2015"
   ]
  },
  {
   "cell_type": "code",
   "execution_count": null,
   "metadata": {},
   "outputs": [],
   "source": []
  }
 ],
 "metadata": {
  "kernelspec": {
   "display_name": "Python 3",
   "language": "python",
   "name": "python3"
  },
  "language_info": {
   "codemirror_mode": {
    "name": "ipython",
    "version": 3
   },
   "file_extension": ".py",
   "mimetype": "text/x-python",
   "name": "python",
   "nbconvert_exporter": "python",
   "pygments_lexer": "ipython3",
   "version": "3.6.10"
  }
 },
 "nbformat": 4,
 "nbformat_minor": 4
}
