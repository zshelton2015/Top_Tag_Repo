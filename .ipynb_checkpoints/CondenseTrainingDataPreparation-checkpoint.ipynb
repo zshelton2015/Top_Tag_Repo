{
 "cells": [
  {
   "cell_type": "code",
   "execution_count": 1,
   "id": "b74e5f32",
   "metadata": {},
   "outputs": [],
   "source": [
    "#Zach Shelton\n",
    "# Purpose of file is to create a coffea Processor for taking experimental data.\n",
    "# Experimental meaning NOT training data\n",
    "# There will be no designation of truth Values"
   ]
  },
  {
   "cell_type": "code",
   "execution_count": 2,
   "id": "a66c6842",
   "metadata": {},
   "outputs": [],
   "source": [
    "import awkward1 as ak\n",
    "import uproot\n",
    "from coffea.nanoevents import NanoAODSchema,NanoEventsFactory\n",
    "import coffea\n",
    "from uproot3_methods import TLorentzVectorArray\n",
    "import numpy as np\n",
    "class HackSchema(NanoAODSchema):\n",
    "    def __init__(self, base_form):\n",
    "        base_form[\"contents\"].pop(\"Muon_fsrPhotonIdx\", None)\n",
    "        base_form[\"contents\"].pop(\"Electron_photonIdx\", None)\n",
    "        super().__init__(base_form)\n",
    "files =\"TTbarPowheg_Semilept_Skim_NanoAOD_1of21.root\"\n",
    "import coffea.processor as processor\n",
    "from pprint import pprint\n",
    "file=uproot.open(files)\n",
    "from pprint import pprint"
   ]
  },
  {
   "cell_type": "code",
   "execution_count": 1,
   "id": "09137ec1",
   "metadata": {},
   "outputs": [],
   "source": [
    "def PreProcessData(file,counts):\n",
    "    events=NanoEventsFactory.from_root(files,schemaclass=HackSchema,entry_stop=10000).events()\n",
    "    #Condensing_all Lepton_cuts\n",
    "    jets=events.Jet\n",
    "    jetSel = (jets.pt>30) & (abs(jets.eta)<2.4)\n",
    "    tightJet = jets[jetSel]\n",
    "    #Selecting Jets0\n",
    "    bJet = tightJet[tightJet.btagDeepFlavB > 0.642]\n",
    "    muons = events.Muon\n",
    "    muonSel = (muons.pt>30) & (abs(muons.eta)<2.4)\n",
    "    tightMuon = muons[muonSel]\n",
    "    #Selecting Events that have decaying leptons\n",
    "    ele = events.Electron\n",
    "    eleSel = (ele.pt>35)&(abs(ele.eta)<2.4)\n",
    "    tightEle = ele[eleSel]\n",
    "    eventSel = (((ak.num(tightMuon)==1) | (ak.num(tightEle)==1)) &\n",
    "            (ak.num(tightJet)>= 3) & (ak.num(bJet)>=1)\n",
    "           )\n",
    "    final=events[eventSel]\n",
    "    jetSel=(abs(finaljets.eta)<2.4)&(finaljets.pt>30)\n",
    "    finalJets=final.Jet[jetSel]\n",
    "    jetcombos=ak.combinations(finaljet,3,axis=1)\n",
    "    j1,j2,j3=ak.unzip(jetcombos)\n",
    "    event=ak.broadcast_arrays(final.event,combs['0'].pt)\n",
    "    dR1_2=j1.delta_r(j2)\n",
    "    dR1_3=j1.delta_r(j3)\n",
    "    dR2_3=j2.delta_r(j3)\n",
    "    j1b_tag=j1.btagCSVV2\n",
    "    j2b_tag=j1.btagCSVV2\n",
    "    j3b_tag=j1.btagCSVV2\n",
    "    j1area=j1.area\n",
    "    j2area=j2.area\n",
    "    j3area=j3.area\n",
    "    j1p4=ak.zip({\"pt\":j1.pt,\"phi\":j1.phi,\"eta\":j1.eta,\"mass\":j1.mass},with_name=\"PtEtaPhiMLorentzVector\")\n",
    "    j2p4=ak.zip({\"pt\":j2.pt,\"phi\":j2.phi,\"eta\":j2.eta,\"mass\":j2.mass},with_name=\"PtEtaPhiMLorentzVector\")\n",
    "    j3p4=ak.zip({\"pt\":j3.pt,\"phi\":j3.phi,\"eta\":j3.eta,\"mass\":j2.mass},with_name=\"PtEtaPhiMLorentzVector\")\n",
    "    processedMLdata=ak.zip({\"j1p4\":j1p4,\"j2p4\":j2p4,\"j3p4\":j3p4,\n",
    "                        \"dR12\":dR1_2,\"dR13\":dR1_3,\"dR23\":dR2_3,\n",
    "                       \"j1btag\":j1b_tag,\"j2btag\":j2b_tag,\"j3btag\":j3b_tag,\n",
    "                       \"j1area\":j1area,\"j2area\":j2area,\"j3area\":j3area,\"event\":event})\n",
    "    df=ak.to_pandas(processedMLdata)\n",
    "    df.to_csv(\"data/ML_data_Experimental.csv\",index=False)"
   ]
  },
  {
   "cell_type": "code",
   "execution_count": null,
   "id": "e0064921",
   "metadata": {},
   "outputs": [],
   "source": []
  }
 ],
 "metadata": {
  "kernelspec": {
   "display_name": "Python 3",
   "language": "python",
   "name": "python3"
  },
  "language_info": {
   "codemirror_mode": {
    "name": "ipython",
    "version": 3
   },
   "file_extension": ".py",
   "mimetype": "text/x-python",
   "name": "python",
   "nbconvert_exporter": "python",
   "pygments_lexer": "ipython3",
   "version": "3.8.10"
  }
 },
 "nbformat": 4,
 "nbformat_minor": 5
}
