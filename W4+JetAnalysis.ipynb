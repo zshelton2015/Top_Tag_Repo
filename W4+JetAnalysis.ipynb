{
 "cells": [
  {
   "cell_type": "markdown",
   "metadata": {},
   "source": [
    "# Data Preparation\n",
    "### Training a Neural Network to identify the best M3 Combo\n",
    "By Zach Shelton\n",
    "5/13/21\n"
   ]
  },
  {
   "cell_type": "code",
   "execution_count": 1,
   "metadata": {},
   "outputs": [],
   "source": [
    "#NanoAOD HackSchema\n",
    "#Solution from Danny Noonan"
   ]
  },
  {
   "cell_type": "code",
   "execution_count": 2,
   "metadata": {},
   "outputs": [],
   "source": [
    "from __future__ import print_function, division\n",
    "import uproot\n",
    "import numpy as np\n",
    "from coffea.nanoevents import NanoAODSchema,NanoEventsFactory\n",
    "import coffea\n",
    "from uproot3_methods import TLorentzVectorArray\n",
    "import uproot3_methods\n",
    "import numpy as np\n",
    "import coffea.hist as hist\n",
    "import matplotlib.pyplot as plt\n",
    "import awkward as ak\n",
    "class HackSchema(NanoAODSchema):\n",
    "    def __init__(self, base_form):\n",
    "        base_form[\"contents\"].pop(\"Muon_fsrPhotonIdx\", None)\n",
    "        base_form[\"contents\"].pop(\"Electron_photonIdx\", None)\n",
    "        super().__init__(base_form)\n",
    "files =\"W4jets_2016_skim.root\"\n",
    "import coffea.processor as processor\n",
    "from pprint import pprint\n",
    "file=uproot.open(files)\n",
    "from pprint import pprint"
   ]
  },
  {
   "cell_type": "code",
   "execution_count": 3,
   "metadata": {},
   "outputs": [
    {
     "name": "stderr",
     "output_type": "stream",
     "text": [
      "C:\\Users\\zshel\\anaconda3\\envs\\py38\\lib\\site-packages\\coffea\\nanoevents\\schemas\\nanoaod.py:193: RuntimeWarning: Missing cross-reference index for Electron_photonIdx => Photon\n",
      "  warnings.warn(\n",
      "C:\\Users\\zshel\\anaconda3\\envs\\py38\\lib\\site-packages\\coffea\\nanoevents\\schemas\\nanoaod.py:193: RuntimeWarning: Missing cross-reference index for FatJet_genJetAK8Idx => GenJetAK8\n",
      "  warnings.warn(\n",
      "C:\\Users\\zshel\\anaconda3\\envs\\py38\\lib\\site-packages\\coffea\\nanoevents\\schemas\\nanoaod.py:193: RuntimeWarning: Missing cross-reference index for FatJet_subJetIdx1 => SubJet\n",
      "  warnings.warn(\n",
      "C:\\Users\\zshel\\anaconda3\\envs\\py38\\lib\\site-packages\\coffea\\nanoevents\\schemas\\nanoaod.py:193: RuntimeWarning: Missing cross-reference index for FatJet_subJetIdx2 => SubJet\n",
      "  warnings.warn(\n",
      "C:\\Users\\zshel\\anaconda3\\envs\\py38\\lib\\site-packages\\coffea\\nanoevents\\schemas\\nanoaod.py:193: RuntimeWarning: Missing cross-reference index for FsrPhoton_muonIdx => Muon\n",
      "  warnings.warn(\n",
      "C:\\Users\\zshel\\anaconda3\\envs\\py38\\lib\\site-packages\\coffea\\nanoevents\\schemas\\nanoaod.py:193: RuntimeWarning: Missing cross-reference index for GenVisTau_genPartIdxMother => GenPart\n",
      "  warnings.warn(\n",
      "C:\\Users\\zshel\\anaconda3\\envs\\py38\\lib\\site-packages\\coffea\\nanoevents\\schemas\\nanoaod.py:193: RuntimeWarning: Missing cross-reference index for Muon_fsrPhotonIdx => FsrPhoton\n",
      "  warnings.warn(\n",
      "C:\\Users\\zshel\\anaconda3\\envs\\py38\\lib\\site-packages\\coffea\\nanoevents\\schemas\\nanoaod.py:193: RuntimeWarning: Missing cross-reference index for Tau_genPartIdx => GenPart\n",
      "  warnings.warn(\n",
      "C:\\Users\\zshel\\anaconda3\\envs\\py38\\lib\\site-packages\\coffea\\nanoevents\\schemas\\nanoaod.py:193: RuntimeWarning: Missing cross-reference index for Tau_jetIdx => Jet\n",
      "  warnings.warn(\n"
     ]
    }
   ],
   "source": [
    "#Now lets redo with the cuts detailed by CMS Draft Analysis\n",
    "#https://drive.google.com/file/d/1XEOLyZ-Q1HdEQY379RpyyQkOF1Q8KlsL/view\n",
    "events = NanoEventsFactory.from_root(files,schemaclass=HackSchema,entry_stop=1000).events()"
   ]
  },
  {
   "cell_type": "code",
   "execution_count": 4,
   "metadata": {},
   "outputs": [],
   "source": [
    "#Condensing_all Lepton_cuts\n",
    "jets=events.Jet\n",
    "jetSel = (jets.pt>30) & (abs(jets.eta)<2.4)\n",
    "tightJet = jets[jetSel]\n",
    "bJet = tightJet[tightJet.btagDeepFlavB > 0.642]\n",
    "muons = events.Muon\n",
    "muonSel = (muons.pt>30) & (abs(muons.eta)<2.4)\n",
    "tightMuon = muons[muonSel]\n",
    "ele = events.Electron\n",
    "eleSel = (ele.pt>35)&(abs(ele.eta)<2.4)\n",
    "tightEle = ele[eleSel]\n",
    "eventSel = (((ak.num(tightMuon)==1) | (ak.num(tightEle)==1)) &\n",
    "            (ak.num(tightJet)>= 3) & (ak.num(bJet)>=1)\n",
    "           )\n",
    "final = events[eventSel]"
   ]
  },
  {
   "cell_type": "code",
   "execution_count": 5,
   "metadata": {
    "scrolled": true
   },
   "outputs": [
    {
     "name": "stdout",
     "output_type": "stream",
     "text": [
      "33\n"
     ]
    }
   ],
   "source": [
    "#G = Global index of particles - Artifact from Coffea/NanoAOD Tools\n",
    "print(len(final))"
   ]
  },
  {
   "cell_type": "code",
   "execution_count": 8,
   "metadata": {},
   "outputs": [
    {
     "name": "stdout",
     "output_type": "stream",
     "text": [
      "[[GenParticle, GenParticle, GenParticle, ... GenParticle, GenParticle, GenParticle]]\n"
     ]
    }
   ],
   "source": [
    "tightJet.genJetIdx[2]\n",
    "print(events.GenPart)"
   ]
  },
  {
   "cell_type": "code",
   "execution_count": 10,
   "metadata": {
    "scrolled": false
   },
   "outputs": [
    {
     "name": "stdout",
     "output_type": "stream",
     "text": [
      "[[], [], [], [], [], [], [], [], [], [], ... [], [], [], [], [], [], [], [], [], []]\n",
      "[[], [], [], [], [], [], [], [], [], [], ... [], [], [], [], [], [], [], [], [], []]\n"
     ]
    }
   ],
   "source": [
    "tDecay = tDecay[tDecay.hasFlags('isLastCopy')]\n",
    "t_Events=tDecay[abs(tDecay.pdgId)==5]\n",
    "W = tDecay[abs(tDecay.pdgId)==24]\n",
    "W = W[W.hasFlags('isLastCopy')]\n",
    "WDecay = W.distinctChildren\n",
    "WDecay = WDecay[WDecay.hasFlags('isLastCopy')]\n",
    "#t_events is the lone bottom, W_events is the -> two jets\n",
    "W_Events=ak.flatten(WDecay[ak.all(abs(WDecay.pdgId)<=8,axis=-1)],axis=3)\n",
    "#select the hadronically decaying W\n",
    "hadW = ak.num(W_Events,axis=2)==2\n",
    "#select b quarks associated with hadronically decaying W\n",
    "hadB = t_Events[hadW]\n",
    "hadB = ak.flatten(hadB,axis=2)\n",
    "W_quarks = W_Events[hadW]\n",
    "W_quarks = ak.flatten(W_quarks,axis=2)\n",
    "qqb = ak.concatenate([hadB,W_quarks],axis=1)\n",
    "#To start lets filter for only 1 HadronicW\n",
    "#Filter out qqb events that have mare than 4 jets\n",
    "mask=ak.count(qqb.pdgId,axis=1)<4\n",
    "qqb = qqb[ak.count(qqb.pdgId,axis=1)<4]\n",
    "print(qqb)"
   ]
  },
  {
   "cell_type": "code",
   "execution_count": 609,
   "metadata": {},
   "outputs": [],
   "source": [
    "from matplotlib import pyplot as plt "
   ]
  },
  {
   "cell_type": "code",
   "execution_count": 11,
   "metadata": {},
   "outputs": [],
   "source": [
    "eventcombs= ak.combinations(final.Jet,3,axis=1)"
   ]
  },
  {
   "cell_type": "code",
   "execution_count": 12,
   "metadata": {},
   "outputs": [],
   "source": [
    "reco=eventcombs['0']+eventcombs['1']+eventcombs['2']"
   ]
  },
  {
   "cell_type": "code",
   "execution_count": 13,
   "metadata": {},
   "outputs": [
    {
     "data": {
      "text/plain": [
       "<Array [1.19e+03, 933, 902, ... 817, 368, 212] type='3061 * float32'>"
      ]
     },
     "execution_count": 13,
     "metadata": {},
     "output_type": "execute_result"
    }
   ],
   "source": [
    "ak.flatten(reco.mass)"
   ]
  },
  {
   "cell_type": "code",
   "execution_count": 752,
   "metadata": {},
   "outputs": [],
   "source": [
    "jetcombos=ak.flatten(combs)\n",
    "genpart_vals=ak.combinations(qqb,3)\n",
    "good_vals=jetcombos[trutharray]\n",
    "bad_vals=jetcombos[np.invert(trutharray)]\n",
    "genreco=genpart_vals['0']+genpart_vals['1']+genpart_vals['2']"
   ]
  },
  {
   "cell_type": "code",
   "execution_count": 588,
   "metadata": {},
   "outputs": [],
   "source": [
    "print(len(events.Jet[events.Jet.bt]))"
   ]
  },
  {
   "cell_type": "code",
   "execution_count": 16,
   "metadata": {},
   "outputs": [],
   "source": [
    "bins1=[]\n",
    "n=0\n",
    "while n*5<=500:\n",
    "    bins1.append(n*10)\n",
    "    n+=1"
   ]
  },
  {
   "cell_type": "code",
   "execution_count": 15,
   "metadata": {},
   "outputs": [
    {
     "data": {
      "image/png": "[encoded data removed]",
      "text/plain": [
       "<Figure size 1600x800 with 1 Axes>"
      ]
     },
     "metadata": {
      "needs_background": "light"
     },
     "output_type": "display_data"
    }
   ],
   "source": [
    "plt.figure(figsize=(20,10),dpi=80)\n",
    "plt.hist(ak.flatten(reco.mass),alpha=.5,density=True,bins=40)\n",
    "plt.legend([\"True\",\"False\"])\n",
    "plt.title(\"Mass of M3 Reconstruction\")\n",
    "plt.show()"
   ]
  },
  {
   "cell_type": "code",
   "execution_count": 720,
   "metadata": {},
   "outputs": [
    {
     "data": {
      "text/plain": [
       "7816"
      ]
     },
     "execution_count": 720,
     "metadata": {},
     "output_type": "execute_result"
    }
   ],
   "source": [
    "len(ak.flatten(matchedjets))\n",
    "print(ak.flatten(len()))"
   ]
  },
  {
   "cell_type": "code",
   "execution_count": 756,
   "metadata": {},
   "outputs": [],
   "source": [
    "bins1=[]\n",
    "n=0\n",
    "while n*5<=500:\n",
    "    bins1.append(n*10)\n",
    "    n+=1"
   ]
  },
  {
   "cell_type": "code",
   "execution_count": 589,
   "metadata": {
    "scrolled": true
   },
   "outputs": [
    {
     "data": {
      "text/plain": [
       "['childrenIdxG',\n",
       " 'distinctChildrenIdxG',\n",
       " 'distinctParentIdxG',\n",
       " 'eta',\n",
       " 'genPartIdxMother',\n",
       " 'genPartIdxMotherG',\n",
       " 'mass',\n",
       " 'pdgId',\n",
       " 'phi',\n",
       " 'pt',\n",
       " 'status',\n",
       " 'statusFlags']"
      ]
     },
     "execution_count": 589,
     "metadata": {},
     "output_type": "execute_result"
    }
   ],
   "source": [
    "genjetmatches.fields"
   ]
  },
  {
   "cell_type": "code",
   "execution_count": 757,
   "metadata": {},
   "outputs": [
    {
     "data": {
      "image/png": "[encoded data removed]",
      "text/plain": [
       "<Figure size 1600x800 with 1 Axes>"
      ]
     },
     "metadata": {
      "needs_background": "light"
     },
     "output_type": "display_data"
    },
    {
     "data": {
      "text/plain": [
       "<Figure size 432x288 with 0 Axes>"
      ]
     },
     "metadata": {},
     "output_type": "display_data"
    }
   ],
   "source": [
    "plt.figure(figsize=(20,10),dpi=80)\n",
    "greco=good_vals['0']+good_vals['1']+good_vals['2']\n",
    "breco=bad_vals['0']+bad_vals['1']+bad_vals['2']\n",
    "plt.hist(greco.mass,alpha=.5,density=True,bins=bins1)\n",
    "plt.hist(breco.mass,alpha=.5,density=True,bins=bins1)\n",
    "plt.legend([\"True\",\"False\"])\n",
    "plt.title(\"Mass of M3 Reconstruction\")\n",
    "plt.show()\n",
    "plt.savefig(\"Mass.png\")"
   ]
  },
  {
   "cell_type": "code",
   "execution_count": 730,
   "metadata": {},
   "outputs": [
    {
     "ename": "AttributeError",
     "evalue": "module 'awkward0' has no attribute 'permutations'",
     "output_type": "error",
     "traceback": [
      "\u001b[1;31m---------------------------------------------------------------------------\u001b[0m",
      "\u001b[1;31mAttributeError\u001b[0m                            Traceback (most recent call last)",
      "\u001b[1;32m<ipython-input-730-d1a7509494f9>\u001b[0m in \u001b[0;36m<module>\u001b[1;34m\u001b[0m\n\u001b[0;32m      1\u001b[0m \u001b[1;31m#We create combinations from TightJet\u001b[0m\u001b[1;33m\u001b[0m\u001b[1;33m\u001b[0m\u001b[1;33m\u001b[0m\u001b[0m\n\u001b[1;32m----> 2\u001b[1;33m \u001b[0mcombs\u001b[0m\u001b[1;33m=\u001b[0m\u001b[0mak0\u001b[0m\u001b[1;33m.\u001b[0m\u001b[0mpermutations\u001b[0m\u001b[1;33m(\u001b[0m\u001b[0mevents\u001b[0m\u001b[1;33m.\u001b[0m\u001b[0mJet\u001b[0m\u001b[1;33m,\u001b[0m\u001b[1;36m3\u001b[0m\u001b[1;33m,\u001b[0m\u001b[0mreplacement\u001b[0m\u001b[1;33m=\u001b[0m\u001b[1;32mFalse\u001b[0m\u001b[1;33m)\u001b[0m\u001b[1;33m\u001b[0m\u001b[1;33m\u001b[0m\u001b[0m\n\u001b[0m\u001b[0;32m      3\u001b[0m \u001b[0margcombs\u001b[0m\u001b[1;33m=\u001b[0m\u001b[0mak\u001b[0m\u001b[1;33m.\u001b[0m\u001b[0margcombinations\u001b[0m\u001b[1;33m(\u001b[0m\u001b[0mevents\u001b[0m\u001b[1;33m.\u001b[0m\u001b[0mJet\u001b[0m\u001b[1;33m,\u001b[0m\u001b[1;36m3\u001b[0m\u001b[1;33m,\u001b[0m\u001b[0mreplacement\u001b[0m\u001b[1;33m=\u001b[0m\u001b[1;32mFalse\u001b[0m\u001b[1;33m)\u001b[0m\u001b[1;33m\u001b[0m\u001b[1;33m\u001b[0m\u001b[0m\n\u001b[0;32m      4\u001b[0m \u001b[1;31m#match GenJets to nearest GenPart\u001b[0m\u001b[1;33m\u001b[0m\u001b[1;33m\u001b[0m\u001b[1;33m\u001b[0m\u001b[0m\n\u001b[0;32m      5\u001b[0m \u001b[0mgenjetmatches\u001b[0m \u001b[1;33m=\u001b[0m \u001b[0mevents\u001b[0m\u001b[1;33m.\u001b[0m\u001b[0mGenJet\u001b[0m\u001b[1;33m.\u001b[0m\u001b[0mnearest\u001b[0m\u001b[1;33m(\u001b[0m\u001b[0mevents\u001b[0m\u001b[1;33m.\u001b[0m\u001b[0mGenJet\u001b[0m\u001b[1;33m)\u001b[0m\u001b[1;33m\u001b[0m\u001b[1;33m\u001b[0m\u001b[0m\n",
      "\u001b[1;31mAttributeError\u001b[0m: module 'awkward0' has no attribute 'permutations'"
     ]
    }
   ],
   "source": [
    "#We create combinations from TightJet\n",
    "combs=ak0.combinations(events.Jet,3,replacement=False)\n",
    "argcombs=ak.argcombinations(events.Jet,3,replacement=False)\n",
    "#match GenJets to nearest GenPart\n",
    "genjetmatches = events.GenJet.nearest(events.GenJet)\n",
    "#match TightJet to nearest correct GenJet\n",
    "matchedjets=genjetmatches.nearest(events.Jet)\n",
    "#In order to accomodate the nearest ccombination specific arrangement, using replacement create EVERY permutation of jets\n",
    "#byfilling match jets with identical dummyjet, since every combo is unique. it will always be false.\n",
    "matchjetsfilled=ak.fill_none(ak.pad_none(matchjets,3),dummyjet)"
   ]
  },
  {
   "cell_type": "code",
   "execution_count": 718,
   "metadata": {},
   "outputs": [
    {
     "data": {
      "text/plain": [
       "219.8357835591133"
      ]
     },
     "execution_count": 718,
     "metadata": {},
     "output_type": "execute_result"
    }
   ],
   "source": [
    "np.mean(greco.mass)"
   ]
  },
  {
   "cell_type": "code",
   "execution_count": 722,
   "metadata": {},
   "outputs": [
    {
     "name": "stdout",
     "output_type": "stream",
     "text": [
      "[123, 87.9, 44.4, 36.2, 31.9]\n",
      "[133, 83.2, 39.7, 32.1, 32.1]\n"
     ]
    }
   ],
   "source": [
    "print(matchedjets[0].pt)\n",
    "print(genjetmatches[0].pt)"
   ]
  },
  {
   "cell_type": "code",
   "execution_count": 750,
   "metadata": {},
   "outputs": [
    {
     "name": "stdout",
     "output_type": "stream",
     "text": [
      "\n",
      "[False, False, False, False, False, True, ... False, False, False, False, False]\n"
     ]
    }
   ],
   "source": [
    "print()\n",
    "test=matchjetsfilled.genJetIdx\n",
    "t1=(combs['0'].genJetIdx==test[:,0])|(combs['0'].genJetIdx==test[:,1])|(combs['0'].genJetIdx==test[:,2])\n",
    "t2=(combs['1'].genJetIdx==test[:,0])|(combs['1'].genJetIdx==test[:,1])|(combs['1'].genJetIdx==test[:,2])\n",
    "t3=(combs['2'].genJetIdx==test[:,0])|(combs['2'].genJetIdx==test[:,1])|(combs['2'].genJetIdx==test[:,2])\n",
    "t=t1&t2&t3\n",
    "combs['0'].genJetIdx\n",
    "trutharray=ak.flatten(t)\n",
    "print(trutharray)"
   ]
  },
  {
   "cell_type": "code",
   "execution_count": 751,
   "metadata": {},
   "outputs": [
    {
     "name": "stdout",
     "output_type": "stream",
     "text": [
      "[0, 0, 0, 0, 0, 0, 1, 1, 1, 2]\n",
      "[False, False, False, False, False, True, False, False, False, False]\n",
      "[True, True, True, True, True, True, False, False, False, False]\n"
     ]
    }
   ],
   "source": [
    "print(combs['0'].genJetIdx[0])\n",
    "print(t[0])\n",
    "print(combs['0'].genJetIdx[0]==test[:,0][0])"
   ]
  },
  {
   "cell_type": "code",
   "execution_count": 697,
   "metadata": {},
   "outputs": [
    {
     "data": {
      "text/plain": [
       "<Array [True, True, True, ... False, False] type='10 * bool'>"
      ]
     },
     "execution_count": 697,
     "metadata": {},
     "output_type": "execute_result"
    }
   ],
   "source": [
    "combs['0'].genJetIdx[0]==test[:,0][0]"
   ]
  },
  {
   "cell_type": "code",
   "execution_count": 759,
   "metadata": {},
   "outputs": [
    {
     "name": "stdout",
     "output_type": "stream",
     "text": [
      "[True, True, True, True, True, True, False, False, False, False]\n",
      "[False, False, False, False, False, True, False, False, True, True]\n",
      "[False, True, True, True, True, True, True, True, True, True]\n",
      "[False, False, False, False, False, True, False, False, False, False]\n"
     ]
    }
   ],
   "source": [
    "from pprint import pprint\n",
    "print(t1[0])\n",
    "print(t2[0])\n",
    "print(t3[0])\n",
    "print(t[0])"
   ]
  },
  {
   "cell_type": "code",
   "execution_count": 607,
   "metadata": {},
   "outputs": [
    {
     "name": "stdout",
     "output_type": "stream",
     "text": [
      "True\n"
     ]
    }
   ],
   "source": [
    "#Finds the arguments of the matching jet in an event\n",
    "def equal(j1,j2):\n",
    "    #created this to utilize jit and to avoid any unitended errors, \n",
    "    #these are the nearest function values and should be obtainable\n",
    "    return (j1.pt==j2.pt)&(j1.eta==j2.eta)&(j1.phi==j2.phi)&(j1.mass==j2.mass)&(j1.area==j2.area)\n",
    "print(equal(events.Jet[0][0],events.Jet[0][0]))"
   ]
  },
  {
   "cell_type": "code",
   "execution_count": 678,
   "metadata": {},
   "outputs": [
    {
     "data": {
      "text/plain": [
       "Jet"
      ]
     },
     "execution_count": 678,
     "metadata": {},
     "output_type": "execute_result"
    }
   ],
   "source": [
    "jetcombos[0]['0']"
   ]
  },
  {
   "cell_type": "markdown",
   "metadata": {},
   "source": [
    "## Dataset Parameters:\n",
    "* 4-Vector\n",
    "* Area\n",
    "* Delta-r 1-2\n",
    "* Delta-r 2-3\n",
    "* Delta-r 1-3\n",
    "* B-tag"
   ]
  },
  {
   "cell_type": "code",
   "execution_count": 760,
   "metadata": {},
   "outputs": [],
   "source": [
    "j1,j2,j3=ak.unzip(jetcombos)\n",
    "dR1_2=j1.delta_r(j2)\n",
    "dR1_3=j1.delta_r(j3)\n",
    "dR2_3=j2.delta_r(j3)\n",
    "j1b_tag=j1.btagCSVV2\n",
    "j2b_tag=j1.btagCSVV2\n",
    "j3b_tag=j1.btagCSVV2\n",
    "j1area=j1.area\n",
    "j2area=j2.area\n",
    "j3area=j3.area\n",
    "j1p4=ak.zip({\"pt\":j1.pt,\"phi\":j1.phi,\"eta\":j1.eta,\"mass\":j1.mass},with_name=\"PtEtaPhiMLorentzVector\")\n",
    "j2p4=ak.zip({\"pt\":j2.pt,\"phi\":j2.phi,\"eta\":j2.eta,\"mass\":j2.mass},with_name=\"PtEtaPhiMLorentzVector\")\n",
    "j3p4=ak.zip({\"pt\":j3.pt,\"phi\":j3.phi,\"eta\":j3.eta,\"mass\":j2.mass},with_name=\"PtEtaPhiMLorentzVector\")\n",
    "processedMLdata=ak.zip({\"j1p4\":j1p4,\"j2p4\":j2p4,\"j3p4\":j3p4,\n",
    "                        \"dR12\":dR1_2,\"dR13\":dR1_3,\"dR23\":dR2_3,\n",
    "                       \"j1btag\":j1b_tag,\"j2btag\":j2b_tag,\"j3btag\":j3b_tag,\n",
    "                       \"j1area\":j1area,\"j2area\":j2area,\"j3area\":j3area})"
   ]
  },
  {
   "cell_type": "code",
   "execution_count": 761,
   "metadata": {},
   "outputs": [],
   "source": [
    "df=ak.to_pandas(processedMLdata)\n",
    "df.to_csv(\"data/ML_data.csv\",index=False)\n",
    "vf=ak.to_pandas(trutharray)\n",
    "vf.to_csv(\"data/Valid_data.csv\",index=False)"
   ]
  },
  {
   "cell_type": "code",
   "execution_count": 81,
   "metadata": {},
   "outputs": [],
   "source": [
    "import keras\n",
    "import tensorflow as tf\n",
    "import pandas as pd"
   ]
  },
  {
   "cell_type": "markdown",
   "metadata": {},
   "source": [
    "______________________________________________________________________________\n",
    "# Running Notes and questions\n",
    "- Losing Data because of arbitrary 8 jet cut?"
   ]
  },
  {
   "cell_type": "markdown",
   "metadata": {},
   "source": [
    "## Notes for Zach to keep up\n",
    "\n",
    "create JIT compiler\n",
    "\n",
    "Seperate values, weights and triggers(X)\n",
    "read these into tensors for Keras(X)\n",
    "Best ML Algorithm?\n",
    "- Deep Neural Net\n",
    "- Iterative Boosted Tree\n",
    "    - They are fast\n",
    "    - External ML algorithm modifies BDT parameters\n",
    "Should I use Keras or PyTorch"
   ]
  },
  {
   "cell_type": "markdown",
   "metadata": {},
   "source": [
    "# Sources/Further Reading:\n",
    "\n",
    "CMS Draft Analysis Note(FIT, AAS, Wayne State, NISTR): https://drive.google.com/file/d/1XEOLyZ-Q1HdEQY379RpyyQkOF1Q8KlsL/view\n",
    "\n",
    "Invariant Mass Wikipedia Article: https://en.wikipedia.org/wiki/Invariant_mass\n",
    "\n",
    "Measurement of the semileptonic tt + γ production cross-section in pp collisions at √s = 8 Tev: https://arxiv.org/pdf/1706.08128.pdf\n",
    "\n",
    "Coffea Documentation: https://coffeateam.github.io/coffea/\n",
    "\n",
    "Awkward Array Documentation: https://awkward-array.readthedocs.io/en/latest/\n",
    "\n",
    "AOD DATA GUIDE: https://twiki.cern.ch/twiki/bin/view/CMSPublic/SWGuideAodDataTable"
   ]
  }
 ],
 "metadata": {
  "kernelspec": {
   "display_name": "Python 3",
   "language": "python",
   "name": "python3"
  },
  "language_info": {
   "codemirror_mode": {
    "name": "ipython",
    "version": 3
   },
   "file_extension": ".py",
   "mimetype": "text/x-python",
   "name": "python",
   "nbconvert_exporter": "python",
   "pygments_lexer": "ipython3",
   "version": "3.8.10"
  }
 },
 "nbformat": 4,
 "nbformat_minor": 4
}
