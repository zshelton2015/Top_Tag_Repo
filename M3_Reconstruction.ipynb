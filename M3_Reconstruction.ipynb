{
 "cells": [
  {
   "cell_type": "markdown",
   "metadata": {},
   "source": [
    "# M3 Reconstruction\n",
    "### Using the 3 highest P_{T} jets Lorentz Vector to construct and invariant mass. Known as M3 Reconstruction\n",
    "By Zach Shelton\n",
    "01/25/2021"
   ]
  },
  {
   "cell_type": "code",
   "execution_count": 1,
   "metadata": {},
   "outputs": [],
   "source": [
    "#NanoAOD HackSchema\n",
    "#Solution from Danny Noonan\n"
   ]
  },
  {
   "cell_type": "code",
   "execution_count": 201,
   "metadata": {},
   "outputs": [],
   "source": [
    "from __future__ import print_function, division\n",
    "import uproot\n",
    "import numpy as np\n",
    "#Make sure to install both old awkward0 and new awkward1(referred to now as awkward)\n",
    "import awkward1 as ak\n",
    "import awkward0 as ak0\n",
    "from coffea.nanoevents import NanoAODSchema,NanoEventsFactory\n",
    "from uproot3_methods import TLorentzVectorArray\n",
    "import uproot3_methods\n",
    "import numpy as np\n",
    "import awkward\n",
    "class HackSchema(NanoAODSchema):\n",
    "    def __init__(self, base_form):\n",
    "        base_form[\"contents\"].pop(\"Muon_fsrPhotonIdx\", None)\n",
    "        base_form[\"contents\"].pop(\"Electron_photonIdx\", None)\n",
    "        super().__init__(base_form)\n",
    "def m3_recon(tree):\n",
    "    comb= ak.combinations(tree,n=3,axis=1,fields=['j1','j2','j3'])\n",
    "    trijets= comb.j1+comb.j2+comb.j3\n",
    "    recon =ak.max(trijets,axis=1)\n",
    "    reconfinal=np.sqrt(recon.t*recon.t-recon.x*recon.x-recon.y*recon.y-recon.z*recon.z)\n",
    "    #MISUSE/CONFUSION:\n",
    "    #for some reason None values are being placed in array\n",
    "    #So I reconstructed the mass \"manually\"\n",
    "    list1= ak.to_numpy(reconfinal)\n",
    "    return list1\n",
    "files =\"TTbarPowheg_Semilept_Skim_NanoAOD_1of21.root\"\n",
    "import coffea.processor as processor\n",
    "from pprint import pprint\n",
    "file=uproot.open(files)\n",
    "nEvents=file['hEvents'].values[0]+file['hEvents'].values[2]"
   ]
  },
  {
   "cell_type": "markdown",
   "metadata": {},
   "source": [
    "## Note: It seems the Jet columns are sorted from greatest p_t to smallest p_t\n",
    "Feel free to test, but it seems to be my observation, choosing the 1st, 2nd or 3rd jet via index should remove the issue of it being a coffea sorting artifact or procedure"
   ]
  },
  {
   "cell_type": "code",
   "execution_count": 3,
   "metadata": {},
   "outputs": [],
   "source": [
    "#Now lets redo with the cuts detailed by CMS Draft Analysis\n",
    "#https://drive.google.com/file/d/1XEOLyZ-Q1HdEQY379RpyyQkOF1Q8KlsL/view\n",
    "events =NanoEventsFactory.from_root(files,schemaclass=HackSchema).events()\n"
   ]
  },
  {
   "cell_type": "code",
   "execution_count": 4,
   "metadata": {},
   "outputs": [
    {
     "name": "stdout",
     "output_type": "stream",
     "text": [
      "[[Jet, Jet, Jet, Jet, Jet], [Jet, Jet, ... Jet, Jet, Jet, Jet, Jet, Jet, Jet, Jet]]\n"
     ]
    }
   ],
   "source": [
    "#Condensing All Cuts to a single Cell\n",
    "tight_jets=events.Jet\n",
    "print(tight_jets)\n",
    "jetSel = ak.num(tight_jets[((tight_jets.pt>30)&(tight_jets.eta<2.4)&(tight_jets.eta>-2.4))],axis=1)>=3\n",
    "jetSelection=(jetSel&(ak.num(tight_jets.btagCSVV2>.4184)>=1))"
   ]
  },
  {
   "cell_type": "code",
   "execution_count": 20,
   "metadata": {},
   "outputs": [
    {
     "name": "stdout",
     "output_type": "stream",
     "text": [
      "1734354\n"
     ]
    },
    {
     "data": {
      "text/plain": [
       "<Array [[5, -5, 0, -1, 2, ... -5, 21, 5, 1]] type='1734354 * var * int32[paramet...'>"
      ]
     },
     "execution_count": 20,
     "metadata": {},
     "output_type": "execute_result"
    }
   ],
   "source": [
    "print(len(jetSelection))\n",
    "events.GenJet.partonFlavour"
   ]
  },
  {
   "cell_type": "code",
   "execution_count": 6,
   "metadata": {},
   "outputs": [
    {
     "name": "stderr",
     "output_type": "stream",
     "text": [
      "C:\\Users\\zshel\\anaconda3\\envs\\top_tag1\\lib\\site-packages\\awkward1\\_connect\\_numpy.py:163: RuntimeWarning: invalid value encountered in sqrt\n",
      "  *[nplike.asarray(x) for x in inputs], **kwargs\n"
     ]
    }
   ],
   "source": [
    "recon_precuts = m3_recon(tight_jets)"
   ]
  },
  {
   "cell_type": "code",
   "execution_count": 7,
   "metadata": {},
   "outputs": [
    {
     "name": "stdout",
     "output_type": "stream",
     "text": [
      "[True, True, True, True, False, True, True, ... True, True, True, True, True, True]\n"
     ]
    }
   ],
   "source": [
    "#Condensing_all Lepton_cuts\n",
    "tight_muons = events.Muon\n",
    "muonsel=ak.num(tight_muons[((tight_muons.pt>30)&(abs(tight_muons.eta)<2.4))],axis=1)==1\n",
    "tight_electrons= events.Electron\n",
    "electronsel=ak.num(tight_electrons[((tight_electrons.pt>35)&(abs(tight_electrons.eta)<2.4))],axis=1)==1\n",
    "leptonsel=(muonsel|electronsel)\n",
    "print(leptonsel)"
   ]
  },
  {
   "cell_type": "code",
   "execution_count": 8,
   "metadata": {},
   "outputs": [
    {
     "name": "stdout",
     "output_type": "stream",
     "text": [
      "[True, True, True, True, False, True, True, ... True, True, True, True, True, True]\n",
      "[<event 1:50992:8498517>, <event 1:50992:8498507>, ... <event 1:641843:106973897>]\n"
     ]
    }
   ],
   "source": [
    "jetlepselmask = (jetSelection&leptonsel)\n",
    "print((jetlepselmask))\n",
    "print(events[jetlepselmask])\n",
    "final=events[jetlepselmask]\n",
    "postcuts_m3=m3_recon(events[jetlepselmask].Jet)"
   ]
  },
  {
   "cell_type": "code",
   "execution_count": 9,
   "metadata": {},
   "outputs": [
    {
     "name": "stdout",
     "output_type": "stream",
     "text": [
      "1381189\n"
     ]
    }
   ],
   "source": [
    "print(len(final))"
   ]
  },
  {
   "cell_type": "code",
   "execution_count": 10,
   "metadata": {},
   "outputs": [
    {
     "data": {
      "text/plain": [
       "<AxesSubplot:xlabel='p_{t}', ylabel='p_t Comparison'>"
      ]
     },
     "execution_count": 10,
     "metadata": {},
     "output_type": "execute_result"
    },
    {
     "data": {
      "image/png": "[encoded data removed]",
      "text/plain": [
       "<Figure size 432x288 with 1 Axes>"
      ]
     },
     "metadata": {
      "needs_background": "light"
     },
     "output_type": "display_data"
    }
   ],
   "source": [
    "import coffea.hist as hist\n",
    "cat=hist.Cat(\"cut\",\"Cut?\")\n",
    "bins=hist.Bin(\"p_t\",\"p_{t}\",50,0,400)\n",
    "histogram= hist.Hist(\"p_t Comparison\",cat,bins)\n",
    "histogram.fill(cut=\"No Cuts, No JetID\",p_t=ak.flatten(events.Jet.pt))\n",
    "#histogram.fill(cut=\"Simple Cuts, No JetID\",p_t=ak.flatten(simplecuts.Jet.pt))\n",
    "histogram.fill(cut=\"Lepton Cuts, No JetID\",p_t=ak.flatten(events[jetlepselmask].Jet.pt))\n",
    "hist.plot1d(histogram,overlay='cut')"
   ]
  },
  {
   "cell_type": "code",
   "execution_count": 11,
   "metadata": {},
   "outputs": [
    {
     "data": {
      "text/plain": [
       "<matplotlib.lines.Line2D at 0x25cbf090088>"
      ]
     },
     "execution_count": 11,
     "metadata": {},
     "output_type": "execute_result"
    },
    {
     "data": {
      "image/png": "[encoded data removed]",
      "text/plain": [
       "<Figure size 432x288 with 1 Axes>"
      ]
     },
     "metadata": {
      "needs_background": "light"
     },
     "output_type": "display_data"
    }
   ],
   "source": [
    "#M3 Reconstruction\n",
    "import coffea.hist as hist\n",
    "import matplotlib.pyplot as plt\n",
    "cat=hist.Cat(\"cut\",\"Cut?\")\n",
    "bins=hist.Bin(\"M3\",\"GeV\",50,0,2000)\n",
    "histogram= hist.Hist(\"Counts\",cat,bins)\n",
    "#histogram.fill(cut=\"Lepton Cuts\",M3=postcuts_m3)\n",
    "histogram.fill(cut=\"No Cuts\",M3=recon_precuts)\n",
    "#histogram.fill(cut=\"Simple p_t and eta cuts\",M3=simpcutsrecon)\n",
    "histogram.fill(cut=\"Post Lepton Cuts\",M3=postcuts_m3)\n",
    "fig=hist.plot1d(histogram,overlay='cut',density=False)\n",
    "fig.axvline(173, color='k', linestyle='dashed', linewidth=.4)\n",
    "#They seem to be identical? Should they be different?"
   ]
  },
  {
   "cell_type": "markdown",
   "metadata": {},
   "source": [
    "Conclusions?\n",
    "2/15/21\n",
    "I find that the density of the M3 reconstruction still matches the original uncut values. \n",
    "- Is there missing parameter I am not factoring in?\n",
    "- Now, it seems I am applying the cuts correctly\n",
    "- I want to overlay a plot with \"correct jets\" from the generator\n",
    "- Neural Network data Prepararation\n",
    "\n"
   ]
  },
  {
   "cell_type": "markdown",
   "metadata": {},
   "source": [
    "## What's next?? Worth Including? Are these covered in the CMS Analysis notes?\n",
    "- Jet TightID\n",
    "- More \n",
    "- Particle Values\n",
    "- Delta R\n",
    "\n",
    "Wrap into Coffea Executor\n",
    "Seperate values, weights and triggers\n",
    "read these into tensors for Keras\n",
    "Best ML Algorithm?\n",
    "- Deep Neural Net\n",
    "- Iterative Boosted Tree\n",
    "    - They are fast\n",
    "    - External ML algorithm modifies BDT parameters\n",
    "- Combine old processes together\n",
    "Should I use Keras or PyTorch?\n",
    "_______________________________________________________________________________\n",
    "Running Notes and questions\n",
    "- Standardizing the \"size\", tensorflow has a ragged tensor, which is tf's variable size data arrays. I keep getting the following output\n",
    "    \n",
    "- Awkward doesn't have native access to ndim? That seems not correct, not sure if its my implementation. "
   ]
  },
  {
   "cell_type": "markdown",
   "metadata": {},
   "source": [
    "## Sources/Further Reading:\n",
    "\n",
    "CMS Draft Analysis Note(FIT, AAS, Wayne State, NISTR): https://drive.google.com/file/d/1XEOLyZ-Q1HdEQY379RpyyQkOF1Q8KlsL/view\n",
    "\n",
    "Invariant Mass Wikipedia Article: https://en.wikipedia.org/wiki/Invariant_mass\n",
    "\n",
    "Measurement of the semileptonic tt + γ production cross-section in pp collisions at √s = 8 Tev: https://arxiv.org/pdf/1706.08128.pdf\n",
    "\n",
    "Coffea Documentation: https://coffeateam.github.io/coffea/\n",
    "\n",
    "Awkward Array Documentation: https://awkward-array.readthedocs.io/en/latest/\n",
    "\n",
    "AOD DATA GUIDE: https://twiki.cern.ch/twiki/bin/view/CMSPublic/SWGuideAodDataTable"
   ]
  },
  {
   "cell_type": "markdown",
   "metadata": {},
   "source": [
    "# Coffea Processor to precuts on data, This may be a slow loop as I'll need a "
   ]
  },
  {
   "cell_type": "code",
   "execution_count": 182,
   "metadata": {},
   "outputs": [],
   "source": [
    "class HackSchema(NanoAODSchema):\n",
    "    def __init__(self, base_form):\n",
    "        base_form[\"contents\"].pop(\"Muon_fsrPhotonIdx\", None)\n",
    "        base_form[\"contents\"].pop(\"Electron_photonIdx\", None)\n",
    "        super().__init__(base_form)\n",
    "def m3_recon(tree):\n",
    "    #print(tree[1])\n",
    "    comb= ak.combinations(tree,n=3,axis=1,fields=['j1','j2','j3'])\n",
    "    #print(comb[1])\n",
    "    trijets= comb.j1+comb.j2+comb.j3\n",
    "    recon =ak.max(trijets,axis=1)\n",
    "    #print(recon[1])\n",
    "    reconfinal=np.sqrt(recon.t*recon.t-recon.x*recon.x-recon.y*recon.y-recon.z*recon.z)\n",
    "    list1= ak.to_numpy(reconfinal)\n",
    "    return list1\n",
    "files =\"TTbarPowheg_Semilept_Skim_NanoAOD_1of21.root\"\n",
    "class JetPreProcess(processor.ProcessorABC):\n",
    "    def __init__(self):\n",
    "\n",
    "        #Declare an axis for the dataset\n",
    "        dataset_axis = hist.Cat(\"dataset\",\"Dataset\")\n",
    "        \n",
    "        #Declare an axis for the muon pt\n",
    "        pt_axis = hist.Bin(\"pt\",\"$p_{T}$ [GeV]\", 50, 0, 200)\n",
    "        mass_axis= hist.Bin(\"mass\",\"Mass [GeV]\",100,0,1000)\n",
    "\n",
    "        \n",
    "        #Utilizing Column Accumulators, the structure of data can be retained utilizing the pad_none function. during conversion to Numpy arrays\n",
    "        #None values are converted to zeros.\n",
    "        self._accumulator = processor.dict_accumulator({\n",
    "            'pre-cuts_M3': hist.Hist(\"Counts\", dataset_axis, mass_axis),\n",
    "            'post-cuts_M3':hist.Hist(\"Counts\", dataset_axis, mass_axis),\n",
    "            'pre-cuts_pt': hist.Hist(\"Counts\", dataset_axis, pt_axis),\n",
    "            'post-cuts_pt':hist.Hist(\"Counts\", dataset_axis, pt_axis),\n",
    "            'jet_phi':processor.column_accumulator(np.ndarray(shape=(1,8))),\n",
    "            'jet_eta':processor.column_accumulator(np.ndarray(shape=(1,8))),\n",
    "            'jet_pt':processor.column_accumulator(np.ndarray(shape=(1,8))),\n",
    "            'jet_mass':processor.column_accumulator(np.ndarray(shape=(1,8))),\n",
    "            'genjet_id':processor.column_accumulator(np.ndarray(shape=(1,8)))\n",
    "        }\n",
    "        )\n",
    "\n",
    "    @property\n",
    "    def accumulator(self):\n",
    "        return self._accumulator\n",
    "\n",
    "    def process(self, events):\n",
    "        \n",
    "        output = self.accumulator.identity()\n",
    "        dataset = events.metadata['dataset']\n",
    "        #####\n",
    "        #Tight Lepton selection\n",
    "        #####\n",
    "        tight_muons = events.Muon\n",
    "        muonsel=ak.num(tight_muons[((tight_muons.pt>30)&(abs(tight_muons.eta)<2.4))],axis=1)==1\n",
    "        tight_electrons= events.Electron\n",
    "        electronsel=ak.num(tight_electrons[((tight_electrons.pt>35)&(abs(tight_electrons.eta)<2.4))],axis=1)==1\n",
    "        leptonsel=(muonsel|electronsel)\n",
    "        \n",
    "        ######\n",
    "        #Selects Jets with Jet cuts AND at least one b-tagged jet\n",
    "        ######\n",
    "        tight_jets=events.Jet\n",
    "        jetSel = ak.num(tight_jets[((tight_jets.pt>30)&(tight_jets.eta<2.4)&(tight_jets.eta>-2.4))],axis=1)>=3\n",
    "        jetSelection=(jetSel&(ak.num(tight_jets.btagCSVV2>.4184)>=1))\n",
    "        #JetSelection and Lepton Selection combined create final \"Pre-processed Data\"\n",
    "        f_events=events[(jetSelection&leptonsel)]\n",
    "        jet_pt=(processor.column_accumulator(np.array(ak.to_numpy(ak.pad_none(f_events.Jet.pt,8,clip=True)))))\n",
    "        output['pre-cuts_M3'].fill(dataset=dataset,mass=m3_recon(events[ak.num(events.Jet)>=3].Jet))\n",
    "        output['post-cuts_M3'].fill(dataset=dataset,mass=m3_recon(f_events.Jet))\n",
    "        output['pre-cuts_pt'].fill(dataset=dataset,pt=ak.flatten(events.Jet.pt))\n",
    "        output['post-cuts_pt'].fill(dataset=dataset,pt=ak.flatten(f_events.Jet.pt))\n",
    "        output['jet_pt']+=jet_pt\n",
    "        output['jet_mass']+=processor.column_accumulator(np.array(ak.to_numpy(ak.pad_none(f_events.Jet.mass,8,clip=True))))\n",
    "        output['jet_phi']+=processor.column_accumulator(np.array(ak.to_numpy(ak.pad_none(f_events.Jet.phi,8,clip=True))))\n",
    "        output['jet_eta']+=processor.column_accumulator(np.array(ak.to_numpy(ak.pad_none(f_events.Jet.eta,8,clip=True))))\n",
    "        output['genjet_id']+=processor.column_accumulator(np.array(ak.to_numpy(ak.pad_none(f_events.GenJet.partonFlavour,8,clip=True))))\n",
    "        return output\n",
    "\n",
    "    def postprocess(self, accumulator):\n",
    "        return accumulator"
   ]
  },
  {
   "cell_type": "code",
   "execution_count": 183,
   "metadata": {},
   "outputs": [
    {
     "data": {
      "application/vnd.jupyter.widget-view+json": {
       "model_id": "f9c5409356ea4fbc8ba830b3f5d6d35b",
       "version_major": 2,
       "version_minor": 0
      },
      "text/plain": [
       "Processing:   0%|          | 0/17 [00:00<?, ?chunk/s]"
      ]
     },
     "metadata": {},
     "output_type": "display_data"
    }
   ],
   "source": [
    "#Run coffea processor again, this time using the filesetData list\n",
    "fileset = {\n",
    "    'tt-bar': [files]\n",
    "}\n",
    "outputData = processor.run_uproot_job(\n",
    "    fileset,\n",
    "    \"Events\",\n",
    "    JetPreProcess(),\n",
    "    processor.iterative_executor,\n",
    "    executor_args={\"schema\": HackSchema,'workers': 8}, \n",
    "    chunksize=100000,\n",
    ")\n"
   ]
  },
  {
   "cell_type": "code",
   "execution_count": 249,
   "metadata": {},
   "outputs": [
    {
     "data": {
      "text/plain": [
       "array([71.25   , 54.34375, 32.90625, 32.625  , 27.71875, 19.90625,\n",
       "        0.     ,  0.     ])"
      ]
     },
     "execution_count": 249,
     "metadata": {},
     "output_type": "execute_result"
    }
   ],
   "source": [
    "outputData['jet_pt'].value[20000]"
   ]
  },
  {
   "cell_type": "code",
   "execution_count": 257,
   "metadata": {},
   "outputs": [
    {
     "data": {
      "text/plain": [
       "<Array [[5, -5, 0, -1, 2, ... -5, 21, 5, 1]] type='1734354 * var * int32[paramet...'>"
      ]
     },
     "execution_count": 257,
     "metadata": {},
     "output_type": "execute_result"
    }
   ],
   "source": [
    "events.GenJet.partonFlavour"
   ]
  },
  {
   "cell_type": "code",
   "execution_count": 238,
   "metadata": {},
   "outputs": [
    {
     "data": {
      "image/png": "[encoded data removed]",
      "text/plain": [
       "<Figure size 432x288 with 1 Axes>"
      ]
     },
     "metadata": {
      "needs_background": "light"
     },
     "output_type": "display_data"
    }
   ],
   "source": [
    "import coffea.hist as hist\n",
    "import matplotlib.pyplot as plt\n",
    "#hist.plot1d(outputData['pre-cuts_M3'],overlay='dataset',stack=True)\n",
    "plt = hist.plot1d(outputData['post-cuts_M3'],overlay='dataset',stack=True)"
   ]
  },
  {
   "cell_type": "code",
   "execution_count": 188,
   "metadata": {},
   "outputs": [
    {
     "data": {
      "image/png": "[encoded data removed]",
      "text/plain": [
       "<Figure size 432x288 with 1 Axes>"
      ]
     },
     "metadata": {
      "needs_background": "light"
     },
     "output_type": "display_data"
    }
   ],
   "source": [
    "import coffea.hist as hist\n",
    "import matplotlib.pyplot as plt\n",
    "hist.plot1d(outputData['pre-cuts_pt'],overlay='dataset',stack=True)\n",
    "hist.plot1d(outputData['post-cuts_pt'],overlay='dataset',stack=True)\n",
    "data_err_opts = {\n",
    "    'linestyle':'none',\n",
    "    'marker': '.',\n",
    "    'markersize': 10.,\n",
    "    'color':'k',\n",
    "    'elinewidth': 1,\n",
    "}"
   ]
  },
  {
   "cell_type": "code",
   "execution_count": 114,
   "metadata": {},
   "outputs": [],
   "source": [
    "import keras\n",
    "import math\n",
    "import tensorflow as tf"
   ]
  },
  {
   "cell_type": "code",
   "execution_count": null,
   "metadata": {},
   "outputs": [],
   "source": []
  },
  {
   "cell_type": "code",
   "execution_count": 50,
   "metadata": {},
   "outputs": [],
   "source": [
    "ML_events = events[jetlepselmask]\n",
    "comb= ak.combinations(events.Jet,n=3,axis=1,fields=['j1','j2','j3'])"
   ]
  },
  {
   "cell_type": "code",
   "execution_count": null,
   "metadata": {},
   "outputs": [],
   "source": [
    "ML_predata=tf.ragged.constant((ML_events.Jet.pt))"
   ]
  },
  {
   "cell_type": "code",
   "execution_count": null,
   "metadata": {},
   "outputs": [],
   "source": []
  }
 ],
 "metadata": {
  "kernelspec": {
   "display_name": "Python 3",
   "language": "python",
   "name": "python3"
  },
  "language_info": {
   "codemirror_mode": {
    "name": "ipython",
    "version": 3
   },
   "file_extension": ".py",
   "mimetype": "text/x-python",
   "name": "python",
   "nbconvert_exporter": "python",
   "pygments_lexer": "ipython3",
   "version": "3.7.9"
  }
 },
 "nbformat": 4,
 "nbformat_minor": 4
}
