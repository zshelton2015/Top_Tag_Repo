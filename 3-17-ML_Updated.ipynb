{
 "cells": [
  {
   "cell_type": "code",
   "execution_count": 1,
   "id": "hazardous-prison",
   "metadata": {},
   "outputs": [
    {
     "name": "stderr",
     "output_type": "stream",
     "text": [
      "C:\\Users\\zshel\\anaconda3\\envs\\top_tag1\\lib\\site-packages\\awkward0\\__init__.py:23: FutureWarning: Consider switching from 'awkward0' to 'awkward', since the new interface became the default in 2020.\n",
      "\n",
      "    pip install -U awkward\n",
      "\n",
      "In Python:\n",
      "\n",
      "    >>> import awkward as ak\n",
      "    >>> new_style_array = ak.from_awkward0(old_style_array)\n",
      "    >>> old_style_array = ak.to_awkward0(new_style_array)\n",
      "\n",
      "  FutureWarning\n"
     ]
    }
   ],
   "source": [
    "from __future__ import print_function, division\n",
    "import uproot\n",
    "import numpy as np\n",
    "#Make sure to install both old awkward0 and new awkward1(referred to now as awkward)\n",
    "import awkward1 as ak\n",
    "import awkward0 as ak0\n",
    "from coffea.nanoevents import NanoAODSchema,NanoEventsFactory\n",
    "from uproot3_methods import TLorentzVectorArray\n",
    "import uproot3_methods\n",
    "import numpy as np\n",
    "import coffea.hist as hist\n",
    "import matplotlib.pyplot as plt\n",
    "import awkward\n",
    "class HackSchema(NanoAODSchema):\n",
    "    def __init__(self, base_form):\n",
    "        base_form[\"contents\"].pop(\"Muon_fsrPhotonIdx\", None)\n",
    "        base_form[\"contents\"].pop(\"Electron_photonIdx\", None)\n",
    "        super().__init__(base_form)\n",
    "def m3_recon(tree):\n",
    "    comb= ak.combinations(tree,n=3,axis=1,fields=['j1','j2','j3'])\n",
    "    trijets= comb.j1+comb.j2+comb.j3\n",
    "    recon =ak.max(trijets,axis=1)\n",
    "    reconfinal=np.sqrt(recon.t*recon.t-recon.x*recon.x-recon.y*recon.y-recon.z*recon.z)\n",
    "    list1= ak.to_numpy(reconfinal)\n",
    "    return list1\n",
    "files =\"TTbarPowheg_Semilept_Skim_NanoAOD_1of21.root\"\n",
    "import coffea.processor as processor\n",
    "from pprint import pprint\n",
    "file=uproot.open(files)\n",
    "nEvents=file['hEvents'].values[0]+file['hEvents'].values[2]\n",
    "from pprint import pprint"
   ]
  },
  {
   "cell_type": "code",
   "execution_count": 2,
   "id": "charming-injection",
   "metadata": {},
   "outputs": [],
   "source": [
    "class HackSchema(NanoAODSchema):\n",
    "    def __init__(self, base_form):\n",
    "        base_form[\"contents\"].pop(\"Muon_fsrPhotonIdx\", None)\n",
    "        base_form[\"contents\"].pop(\"Electron_photonIdx\", None)\n",
    "        super().__init__(base_form)\n",
    "def m3_recon(tree):\n",
    "    #print(tree[1])\n",
    "    comb= ak.combinations(tree,n=3,axis=1,fields=['j1','j2','j3'])\n",
    "    #print(comb[1])\n",
    "    trijets= comb.j1+comb.j2+comb.j3\n",
    "    recon =ak.max(trijets,axis=1)\n",
    "    #print(recon[1])\n",
    "    reconfinal=np.sqrt(recon.t*recon.t-recon.x*recon.x-recon.y*recon.y-recon.z*recon.z)\n",
    "    list1= ak.to_numpy(reconfinal)\n",
    "    return list1\n",
    "files =\"TTbarPowheg_Semilept_Skim_NanoAOD_1of21.root\"\n",
    "class JetPreProcess(processor.ProcessorABC):\n",
    "    def __init__(self):\n",
    "\n",
    "        #Declare an axis for the dataset\n",
    "        dataset_axis = hist.Cat(\"dataset\",\"Dataset\")\n",
    "        \n",
    "        #Declare an axis for the muon pt\n",
    "        pt_axis = hist.Bin(\"pt\",\"$p_{T}$ [GeV]\", 50, 0, 200)\n",
    "        mass_axis= hist.Bin(\"mass\",\"Mass [GeV]\",100,0,1000)\n",
    "\n",
    "        \n",
    "        #Utilizing Column Accumulators, the structure of data can be retained utilizing the pad_none function. during conversion to Numpy arrays\n",
    "        #None values are converted to zeros.\n",
    "        self._accumulator = processor.dict_accumulator({\n",
    "            'pre-cuts_M3': hist.Hist(\"Counts\", dataset_axis, mass_axis),\n",
    "            'post-cuts_M3':hist.Hist(\"Counts\", dataset_axis, mass_axis),\n",
    "            'pre-cuts_pt': hist.Hist(\"Counts\", dataset_axis, pt_axis),\n",
    "            'post-cuts_pt':hist.Hist(\"Counts\", dataset_axis, pt_axis),\n",
    "            'jet_phi':processor.column_accumulator(np.ndarray(shape=(1,8))),\n",
    "            'jet_eta':processor.column_accumulator(np.ndarray(shape=(1,8))),\n",
    "            'jet_pt':processor.column_accumulator(np.ndarray(shape=(1,8))),\n",
    "            'jet_mass':processor.column_accumulator(np.ndarray(shape=(1,8))),\n",
    "            'genjet_id':processor.column_accumulator(np.ndarray(shape=(1,8))),\n",
    "            'pdgId':processor.column_accumulator(np.ndarray(shape=(1,8)))\n",
    "        }\n",
    "        )\n",
    "\n",
    "    @property\n",
    "    def accumulator(self):\n",
    "        return self._accumulator\n",
    "\n",
    "    def process(self, events):\n",
    "        \n",
    "        output = self.accumulator.identity()\n",
    "        dataset = events.metadata['dataset']\n",
    "        #####\n",
    "        #Tight Lepton selection\n",
    "        #####\n",
    "        tight_muons = events.Muon\n",
    "        muonsel=ak.num(tight_muons[((tight_muons.pt>30)&(abs(tight_muons.eta)<2.4))],axis=1)==1\n",
    "        tight_electrons= events.Electron\n",
    "        electronsel=ak.num(tight_electrons[((tight_electrons.pt>35)&(abs(tight_electrons.eta)<2.4))],axis=1)==1\n",
    "        leptonsel=(muonsel|electronsel)\n",
    "        \n",
    "        ######\n",
    "        #Selects Jets with Jet cuts AND at least one b-tagged jet\n",
    "        ######\n",
    "        tight_jets=events.Jet\n",
    "        jetSel = ak.num(tight_jets[((tight_jets.pt>30)&(tight_jets.eta<2.4)&(tight_jets.eta>-2.4))],axis=1)>=3\n",
    "        jetSelection=(jetSel&(ak.num(tight_jets.btagCSVV2>.4184)>=1))\n",
    "        \n",
    "        ######\n",
    "        #Leading Jet Delta_r cuts for preprocessing\n",
    "        #JetSelection and Lepton Selection combined create final \"Pre-processed Data\"\n",
    "        \n",
    "        \n",
    "        f_events=events[(jetSelection&leptonsel)]\n",
    "        jet_pt=(processor.column_accumulator(np.array(ak.to_numpy(ak.pad_none(f_events.Jet.pt,8,clip=True)))))\n",
    "        output['pre-cuts_M3'].fill(dataset=dataset,mass=m3_recon(events[ak.num(events.Jet)>=3].Jet))\n",
    "        output['post-cuts_M3'].fill(dataset=dataset,mass=m3_recon(f_events.Jet))\n",
    "        output['pre-cuts_pt'].fill(dataset=dataset,pt=ak.flatten(events.Jet.pt))\n",
    "        output['post-cuts_pt'].fill(dataset=dataset,pt=ak.flatten(f_events.Jet.pt))\n",
    "        output['jet_pt']+=jet_pt\n",
    "        output['jet_mass']+=processor.column_accumulator(np.array(ak.to_numpy(ak.pad_none(f_events.Jet.mass,8,clip=True))))\n",
    "        output['jet_phi']+=processor.column_accumulator(np.array(ak.to_numpy(ak.pad_none(f_events.Jet.phi,8,clip=True))))\n",
    "        output['jet_eta']+=processor.column_accumulator(np.array(ak.to_numpy(ak.pad_none(f_events.Jet.eta,8,clip=True))))\n",
    "        output['genjet_id']+=processor.column_accumulator(np.array(ak.to_numpy(ak.pad_none(f_events.GenJet.partonFlavour,8,clip=True))))\n",
    "        output['pdgId']+=processor.column_accumulator(np.array(ak.to_numpy(ak.pad_none(f_events.GenPart.pdgId,8,clip=True))))\n",
    "        return output\n",
    "\n",
    "    def postprocess(self, accumulator):\n",
    "        return accumulator"
   ]
  },
  {
   "cell_type": "code",
   "execution_count": 3,
   "id": "downtown-gnome",
   "metadata": {},
   "outputs": [
    {
     "data": {
      "application/vnd.jupyter.widget-view+json": {
       "model_id": "f726b4589f544155960e16e9d932cb10",
       "version_major": 2,
       "version_minor": 0
      },
      "text/plain": [
       "Preprocessing:   0%|          | 0/1 [00:00<?, ?file/s]"
      ]
     },
     "metadata": {},
     "output_type": "display_data"
    },
    {
     "data": {
      "application/vnd.jupyter.widget-view+json": {
       "model_id": "ad8593a3c2af4a5a91af0e0cfe2242dd",
       "version_major": 2,
       "version_minor": 0
      },
      "text/plain": [
       "Processing:   0%|          | 0/17 [00:00<?, ?chunk/s]"
      ]
     },
     "metadata": {},
     "output_type": "display_data"
    },
    {
     "name": "stderr",
     "output_type": "stream",
     "text": [
      "C:\\Users\\zshel\\anaconda3\\envs\\top_tag1\\lib\\site-packages\\awkward1\\_connect\\_numpy.py:163: RuntimeWarning: invalid value encountered in sqrt\n",
      "  *[nplike.asarray(x) for x in inputs], **kwargs\n"
     ]
    }
   ],
   "source": [
    "#Run coffea processor again, this time using the filesetData list\n",
    "fileset = {\n",
    "    'tt-bar': [files]\n",
    "}\n",
    "outputData = processor.run_uproot_job(\n",
    "    fileset,\n",
    "    \"Events\",\n",
    "    JetPreProcess(),\n",
    "    processor.iterative_executor,\n",
    "    executor_args={\"schema\": HackSchema,'workers': 8}, \n",
    "    chunksize=100000,\n",
    ")\n"
   ]
  },
  {
   "cell_type": "code",
   "execution_count": 19,
   "id": "academic-housing",
   "metadata": {},
   "outputs": [],
   "source": [
    "from coffea.nanoevents.methods import vector\n",
    "ak.behavior.update(vector.behavior)\n",
    "jets = ak.zip({\"pt\":outputData[\"jet_pt\"].value,\"eta\":outputData[\"jet_eta\"].value,\"phi\":outputData[\"jet_phi\"].value,\"mass\":outputData[\"jet_mass\"].value}, with_name=\"PtEtaPhiMLorentzVector\")\n",
    "assert np.allclose(np.array(jets.x), np.array(jets.x))\n",
    "assert np.allclose(np.array(jets.y), np.array(jets.y))\n",
    "assert np.allclose(np.array(jets.z), np.array(jets.z))\n",
    "jet"
   ]
  },
  {
   "cell_type": "code",
   "execution_count": 26,
   "id": "single-while",
   "metadata": {},
   "outputs": [
    {
     "name": "stdout",
     "output_type": "stream",
     "text": [
      "[0.0,\n",
      " 2.3515918453827447,\n",
      " 2.717351562703073,\n",
      " 2.272541318487382,\n",
      " 2.9244709044550623,\n",
      " 4.977472614084221,\n",
      " 3.342129427559331,\n",
      " 1.8880814553536411]\n"
     ]
    }
   ],
   "source": [
    "l=[]\n",
    "n=1\n",
    "for j in jets[n]:\n",
    "    #j1 is leading jet(highes p_T)\n",
    "    j1=jets[n][0]\n",
    "    l.append(j1.delta_r(j))\n",
    "pprint(l)"
   ]
  },
  {
   "cell_type": "code",
   "execution_count": 27,
   "id": "australian-kazakhstan",
   "metadata": {},
   "outputs": [
    {
     "name": "stdout",
     "output_type": "stream",
     "text": [
      "[[21.0, <Particle: name=\"g\", pdgid=21, mass=0.0 MeV>],\n",
      " [21.0, <Particle: name=\"g\", pdgid=21, mass=0.0 MeV>],\n",
      " [6.0, <Particle: name=\"t\", pdgid=6, mass=172400 ± 700 MeV>],\n",
      " [-6.0, <Particle: name=\"t~\", pdgid=-6, mass=172400 ± 700 MeV>],\n",
      " [21.0, <Particle: name=\"g\", pdgid=21, mass=0.0 MeV>],\n",
      " [21.0, <Particle: name=\"g\", pdgid=21, mass=0.0 MeV>],\n",
      " [21.0, <Particle: name=\"g\", pdgid=21, mass=0.0 MeV>],\n",
      " [6.0, <Particle: name=\"t\", pdgid=6, mass=172400 ± 700 MeV>]]\n"
     ]
    }
   ],
   "source": [
    "from particle import Particle\n",
    "l=[]\n",
    "for ev in outputData['pdgId'].value[1]:\n",
    "    if ev!=0:\n",
    "        l.append([ev,Particle.from_pdgid(ev)])\n",
    "    else:\n",
    "        l.append([0,0])\n",
    "pprint(l)"
   ]
  },
  {
   "cell_type": "code",
   "execution_count": 6,
   "id": "single-ferry",
   "metadata": {},
   "outputs": [
    {
     "data": {
      "text/plain": [
       "<PtEtaPhiMCollectionArray [[{eta: 0.427, ... pt: 14.7}]] type='1734354 * var * s...'>"
      ]
     },
     "execution_count": 6,
     "metadata": {},
     "output_type": "execute_result"
    }
   ],
   "source": [
    "#Trying to scale existing data\n",
    "events =NanoEventsFactory.from_root(files,schemaclass=HackSchema).events()\n"
   ]
  },
  {
   "cell_type": "code",
   "execution_count": 13,
   "id": "dense-consistency",
   "metadata": {},
   "outputs": [
    {
     "data": {
      "text/plain": [
       "<Array [[], [], [], [], ... [], [], [], []] type='1734354 * var * int32[paramete...'>"
      ]
     },
     "execution_count": 13,
     "metadata": {},
     "output_type": "execute_result"
    }
   ],
   "source": [
    "events.GenJet.partonFlavour[abs(events.GenJet.partonFlavour)==6]"
   ]
  },
  {
   "cell_type": "code",
   "execution_count": 15,
   "id": "specialized-bargain",
   "metadata": {},
   "outputs": [],
   "source": [
    "val =abs(events.GenJet.partonFlavour)==6"
   ]
  },
  {
   "cell_type": "code",
   "execution_count": 23,
   "id": "closed-smith",
   "metadata": {},
   "outputs": [
    {
     "ename": "RecursionError",
     "evalue": "maximum recursion depth exceeded while calling a Python object",
     "output_type": "error",
     "traceback": [
      "\u001b[1;31m---------------------------------------------------------------------------\u001b[0m",
      "\u001b[1;31mRecursionError\u001b[0m                            Traceback (most recent call last)",
      "\u001b[1;32m<ipython-input-23-e55599029845>\u001b[0m in \u001b[0;36m<module>\u001b[1;34m\u001b[0m\n\u001b[1;32m----> 1\u001b[1;33m \u001b[0mtest\u001b[0m\u001b[1;33m=\u001b[0m\u001b[1;33m(\u001b[0m\u001b[0mak\u001b[0m\u001b[1;33m.\u001b[0m\u001b[0mcartesian\u001b[0m\u001b[1;33m(\u001b[0m\u001b[0mval\u001b[0m\u001b[1;33m,\u001b[0m\u001b[0maxis\u001b[0m\u001b[1;33m=\u001b[0m\u001b[1;36m1\u001b[0m\u001b[1;33m)\u001b[0m\u001b[1;33m)\u001b[0m\u001b[1;33m\u001b[0m\u001b[1;33m\u001b[0m\u001b[0m\n\u001b[0m",
      "\u001b[1;32m~\\anaconda3\\envs\\top_tag1\\lib\\site-packages\\awkward1\\operations\\structure.py\u001b[0m in \u001b[0;36mcartesian\u001b[1;34m(arrays, axis, nested, parameters, with_name, highlevel)\u001b[0m\n\u001b[0;32m   2331\u001b[0m             \u001b[0mlayouts\u001b[0m \u001b[1;33m=\u001b[0m \u001b[1;33m[\u001b[0m\u001b[1;33m]\u001b[0m\u001b[1;33m\u001b[0m\u001b[1;33m\u001b[0m\u001b[0m\n\u001b[0;32m   2332\u001b[0m             \u001b[1;32mfor\u001b[0m \u001b[0mi\u001b[0m\u001b[1;33m,\u001b[0m \u001b[0mx\u001b[0m \u001b[1;32min\u001b[0m \u001b[0menumerate\u001b[0m\u001b[1;33m(\u001b[0m\u001b[0mnew_arrays\u001b[0m\u001b[1;33m)\u001b[0m\u001b[1;33m:\u001b[0m\u001b[1;33m\u001b[0m\u001b[1;33m\u001b[0m\u001b[0m\n\u001b[1;32m-> 2333\u001b[1;33m                 \u001b[0mlayouts\u001b[0m\u001b[1;33m.\u001b[0m\u001b[0mappend\u001b[0m\u001b[1;33m(\u001b[0m\u001b[0mapply\u001b[0m\u001b[1;33m(\u001b[0m\u001b[0mx\u001b[0m\u001b[1;33m,\u001b[0m \u001b[0mi\u001b[0m\u001b[1;33m)\u001b[0m\u001b[1;33m)\u001b[0m\u001b[1;33m\u001b[0m\u001b[1;33m\u001b[0m\u001b[0m\n\u001b[0m\u001b[0;32m   2334\u001b[0m                 \u001b[1;32mif\u001b[0m \u001b[0mi\u001b[0m \u001b[1;33m<\u001b[0m \u001b[0mlen\u001b[0m\u001b[1;33m(\u001b[0m\u001b[0mnew_arrays\u001b[0m\u001b[1;33m)\u001b[0m \u001b[1;33m-\u001b[0m \u001b[1;36m1\u001b[0m \u001b[1;32mand\u001b[0m \u001b[0mi\u001b[0m \u001b[1;32mnot\u001b[0m \u001b[1;32min\u001b[0m \u001b[0mnested\u001b[0m\u001b[1;33m:\u001b[0m\u001b[1;33m\u001b[0m\u001b[1;33m\u001b[0m\u001b[0m\n\u001b[0;32m   2335\u001b[0m                     \u001b[0mtoflatten\u001b[0m\u001b[1;33m.\u001b[0m\u001b[0mappend\u001b[0m\u001b[1;33m(\u001b[0m\u001b[0maxis\u001b[0m \u001b[1;33m+\u001b[0m \u001b[0mi\u001b[0m \u001b[1;33m+\u001b[0m \u001b[1;36m1\u001b[0m\u001b[1;33m)\u001b[0m\u001b[1;33m\u001b[0m\u001b[1;33m\u001b[0m\u001b[0m\n",
      "\u001b[1;32m~\\anaconda3\\envs\\top_tag1\\lib\\site-packages\\awkward1\\operations\\structure.py\u001b[0m in \u001b[0;36mapply\u001b[1;34m(x, i)\u001b[0m\n\u001b[0;32m   2292\u001b[0m                 ),\n\u001b[0;32m   2293\u001b[0m                 \u001b[0mgetfunction2\u001b[0m\u001b[1;33m,\u001b[0m\u001b[1;33m\u001b[0m\u001b[1;33m\u001b[0m\u001b[0m\n\u001b[1;32m-> 2294\u001b[1;33m                 \u001b[0margs\u001b[0m\u001b[1;33m=\u001b[0m\u001b[1;33m(\u001b[0m\u001b[0mi\u001b[0m\u001b[1;33m,\u001b[0m\u001b[1;33m)\u001b[0m\u001b[1;33m,\u001b[0m\u001b[1;33m\u001b[0m\u001b[1;33m\u001b[0m\u001b[0m\n\u001b[0m\u001b[0;32m   2295\u001b[0m             )\n\u001b[0;32m   2296\u001b[0m \u001b[1;33m\u001b[0m\u001b[0m\n",
      "\u001b[1;32m~\\anaconda3\\envs\\top_tag1\\lib\\site-packages\\awkward1\\_util.py\u001b[0m in \u001b[0;36mrecursively_apply\u001b[1;34m(layout, getfunction, args, depth, keep_parameters, numpy_to_regular)\u001b[0m\n\u001b[0;32m   1063\u001b[0m     \u001b[0mcustom\u001b[0m \u001b[1;33m=\u001b[0m \u001b[0mgetfunction\u001b[0m\u001b[1;33m(\u001b[0m\u001b[0mlayout\u001b[0m\u001b[1;33m,\u001b[0m \u001b[0mdepth\u001b[0m\u001b[1;33m,\u001b[0m \u001b[1;33m*\u001b[0m\u001b[0margs\u001b[0m\u001b[1;33m)\u001b[0m\u001b[1;33m\u001b[0m\u001b[1;33m\u001b[0m\u001b[0m\n\u001b[0;32m   1064\u001b[0m     \u001b[1;32mif\u001b[0m \u001b[0mcustom\u001b[0m \u001b[1;32mis\u001b[0m \u001b[1;32mnot\u001b[0m \u001b[1;32mNone\u001b[0m\u001b[1;33m:\u001b[0m\u001b[1;33m\u001b[0m\u001b[1;33m\u001b[0m\u001b[0m\n\u001b[1;32m-> 1065\u001b[1;33m         \u001b[1;32mreturn\u001b[0m \u001b[0mcustom\u001b[0m\u001b[1;33m(\u001b[0m\u001b[1;33m)\u001b[0m\u001b[1;33m\u001b[0m\u001b[1;33m\u001b[0m\u001b[0m\n\u001b[0m\u001b[0;32m   1066\u001b[0m \u001b[1;33m\u001b[0m\u001b[0m\n\u001b[0;32m   1067\u001b[0m     \u001b[1;32melif\u001b[0m \u001b[0misinstance\u001b[0m\u001b[1;33m(\u001b[0m\u001b[0mlayout\u001b[0m\u001b[1;33m,\u001b[0m \u001b[0mawkward1\u001b[0m\u001b[1;33m.\u001b[0m\u001b[0mpartition\u001b[0m\u001b[1;33m.\u001b[0m\u001b[0mPartitionedArray\u001b[0m\u001b[1;33m)\u001b[0m\u001b[1;33m:\u001b[0m\u001b[1;33m\u001b[0m\u001b[1;33m\u001b[0m\u001b[0m\n",
      "\u001b[1;32m~\\anaconda3\\envs\\top_tag1\\lib\\site-packages\\awkward1\\operations\\structure.py\u001b[0m in \u001b[0;36m<lambda>\u001b[1;34m()\u001b[0m\n\u001b[0;32m   2281\u001b[0m                         \u001b[0mlayout\u001b[0m\u001b[1;33m,\u001b[0m \u001b[0mgetfunction1\u001b[0m\u001b[1;33m,\u001b[0m \u001b[0margs\u001b[0m\u001b[1;33m=\u001b[0m\u001b[1;33m(\u001b[0m\u001b[0minside\u001b[0m\u001b[1;33m,\u001b[0m\u001b[1;33m)\u001b[0m\u001b[1;33m\u001b[0m\u001b[1;33m\u001b[0m\u001b[0m\n\u001b[0;32m   2282\u001b[0m                     ),\n\u001b[1;32m-> 2283\u001b[1;33m                     \u001b[0moutside\u001b[0m\u001b[1;33m,\u001b[0m\u001b[1;33m\u001b[0m\u001b[1;33m\u001b[0m\u001b[0m\n\u001b[0m\u001b[0;32m   2284\u001b[0m                 )\n\u001b[0;32m   2285\u001b[0m             \u001b[1;32melse\u001b[0m\u001b[1;33m:\u001b[0m\u001b[1;33m\u001b[0m\u001b[1;33m\u001b[0m\u001b[0m\n",
      "\u001b[1;32m~\\anaconda3\\envs\\top_tag1\\lib\\site-packages\\awkward1\\operations\\structure.py\u001b[0m in \u001b[0;36mnewaxis\u001b[1;34m(layout, i)\u001b[0m\n\u001b[0;32m   2265\u001b[0m                 \u001b[1;32mreturn\u001b[0m \u001b[0mlayout\u001b[0m\u001b[1;33m\u001b[0m\u001b[1;33m\u001b[0m\u001b[0m\n\u001b[0;32m   2266\u001b[0m             \u001b[1;32melse\u001b[0m\u001b[1;33m:\u001b[0m\u001b[1;33m\u001b[0m\u001b[1;33m\u001b[0m\u001b[0m\n\u001b[1;32m-> 2267\u001b[1;33m                 \u001b[1;32mreturn\u001b[0m \u001b[0mawkward1\u001b[0m\u001b[1;33m.\u001b[0m\u001b[0mlayout\u001b[0m\u001b[1;33m.\u001b[0m\u001b[0mRegularArray\u001b[0m\u001b[1;33m(\u001b[0m\u001b[0mnewaxis\u001b[0m\u001b[1;33m(\u001b[0m\u001b[0mlayout\u001b[0m\u001b[1;33m,\u001b[0m \u001b[0mi\u001b[0m \u001b[1;33m-\u001b[0m \u001b[1;36m1\u001b[0m\u001b[1;33m)\u001b[0m\u001b[1;33m,\u001b[0m \u001b[1;36m1\u001b[0m\u001b[1;33m)\u001b[0m\u001b[1;33m\u001b[0m\u001b[1;33m\u001b[0m\u001b[0m\n\u001b[0m\u001b[0;32m   2268\u001b[0m \u001b[1;33m\u001b[0m\u001b[0m\n\u001b[0;32m   2269\u001b[0m         \u001b[1;32mdef\u001b[0m \u001b[0mgetfunction1\u001b[0m\u001b[1;33m(\u001b[0m\u001b[0mlayout\u001b[0m\u001b[1;33m,\u001b[0m \u001b[0mdepth\u001b[0m\u001b[1;33m,\u001b[0m \u001b[0mi\u001b[0m\u001b[1;33m)\u001b[0m\u001b[1;33m:\u001b[0m\u001b[1;33m\u001b[0m\u001b[1;33m\u001b[0m\u001b[0m\n",
      "... last 1 frames repeated, from the frame below ...\n",
      "\u001b[1;32m~\\anaconda3\\envs\\top_tag1\\lib\\site-packages\\awkward1\\operations\\structure.py\u001b[0m in \u001b[0;36mnewaxis\u001b[1;34m(layout, i)\u001b[0m\n\u001b[0;32m   2265\u001b[0m                 \u001b[1;32mreturn\u001b[0m \u001b[0mlayout\u001b[0m\u001b[1;33m\u001b[0m\u001b[1;33m\u001b[0m\u001b[0m\n\u001b[0;32m   2266\u001b[0m             \u001b[1;32melse\u001b[0m\u001b[1;33m:\u001b[0m\u001b[1;33m\u001b[0m\u001b[1;33m\u001b[0m\u001b[0m\n\u001b[1;32m-> 2267\u001b[1;33m                 \u001b[1;32mreturn\u001b[0m \u001b[0mawkward1\u001b[0m\u001b[1;33m.\u001b[0m\u001b[0mlayout\u001b[0m\u001b[1;33m.\u001b[0m\u001b[0mRegularArray\u001b[0m\u001b[1;33m(\u001b[0m\u001b[0mnewaxis\u001b[0m\u001b[1;33m(\u001b[0m\u001b[0mlayout\u001b[0m\u001b[1;33m,\u001b[0m \u001b[0mi\u001b[0m \u001b[1;33m-\u001b[0m \u001b[1;36m1\u001b[0m\u001b[1;33m)\u001b[0m\u001b[1;33m,\u001b[0m \u001b[1;36m1\u001b[0m\u001b[1;33m)\u001b[0m\u001b[1;33m\u001b[0m\u001b[1;33m\u001b[0m\u001b[0m\n\u001b[0m\u001b[0;32m   2268\u001b[0m \u001b[1;33m\u001b[0m\u001b[0m\n\u001b[0;32m   2269\u001b[0m         \u001b[1;32mdef\u001b[0m \u001b[0mgetfunction1\u001b[0m\u001b[1;33m(\u001b[0m\u001b[0mlayout\u001b[0m\u001b[1;33m,\u001b[0m \u001b[0mdepth\u001b[0m\u001b[1;33m,\u001b[0m \u001b[0mi\u001b[0m\u001b[1;33m)\u001b[0m\u001b[1;33m:\u001b[0m\u001b[1;33m\u001b[0m\u001b[1;33m\u001b[0m\u001b[0m\n",
      "\u001b[1;31mRecursionError\u001b[0m: maximum recursion depth exceeded while calling a Python object"
     ]
    }
   ],
   "source": [
    "test=(ak.cartesian(val,axis=1))"
   ]
  },
  {
   "cell_type": "code",
   "execution_count": null,
   "id": "bottom-archives",
   "metadata": {},
   "outputs": [],
   "source": []
  }
 ],
 "metadata": {
  "kernelspec": {
   "display_name": "Python 3",
   "language": "python",
   "name": "python3"
  },
  "language_info": {
   "codemirror_mode": {
    "name": "ipython",
    "version": 3
   },
   "file_extension": ".py",
   "mimetype": "text/x-python",
   "name": "python",
   "nbconvert_exporter": "python",
   "pygments_lexer": "ipython3",
   "version": "3.7.9"
  }
 },
 "nbformat": 4,
 "nbformat_minor": 5
}
