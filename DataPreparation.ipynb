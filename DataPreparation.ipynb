{
 "cells": [
  {
   "cell_type": "markdown",
   "metadata": {},
   "source": [
    "# Data Preparation\n",
    "### Training a Neural Network to identify the best M3 Combo\n",
    "By Zach Shelton\n",
    "5/13/21\n"
   ]
  },
  {
   "cell_type": "code",
   "execution_count": 1,
   "metadata": {},
   "outputs": [],
   "source": [
    "#NanoAOD HackSchema\n",
    "#Solution from Danny Noonan"
   ]
  },
  {
   "cell_type": "code",
   "execution_count": 1,
   "metadata": {},
   "outputs": [],
   "source": [
    "from __future__ import print_function, division\n",
    "import uproot\n",
    "import numpy as np\n",
    "from coffea.nanoevents import NanoAODSchema,NanoEventsFactory\n",
    "import coffea\n",
    "from uproot3_methods import TLorentzVectorArray\n",
    "import uproot3_methods\n",
    "import numpy as np\n",
    "import coffea.hist as hist\n",
    "import matplotlib.pyplot as plt\n",
    "import awkward1 as ak\n",
    "class HackSchema(NanoAODSchema):\n",
    "    def __init__(self, base_form):\n",
    "        base_form[\"contents\"].pop(\"Muon_fsrPhotonIdx\", None)\n",
    "        base_form[\"contents\"].pop(\"Electron_photonIdx\", None)\n",
    "        super().__init__(base_form)\n",
    "files =\"TTbarPowheg_Semilept_Skim_NanoAOD_1of21.root\"\n",
    "import coffea.processor as processor\n",
    "from pprint import pprint\n",
    "file=uproot.open(files)\n",
    "from pprint import pprint"
   ]
  },
  {
   "cell_type": "code",
   "execution_count": 33,
   "metadata": {},
   "outputs": [],
   "source": [
    "#Now lets redo with the cuts detailed by CMS Draft Analysis\n",
    "#https://drive.google.com/file/d/1XEOLyZ-Q1HdEQY379RpyyQkOF1Q8KlsL/view\n",
    "events = NanoEventsFactory.from_root(files,schemaclass=HackSchema).events()"
   ]
  },
  {
   "cell_type": "code",
   "execution_count": 34,
   "metadata": {},
   "outputs": [],
   "source": [
    "#Condensing_all Lepton_cuts\n",
    "jets=events.Jet\n",
    "jetSel = (jets.pt>30) & (abs(jets.eta)<2.4)\n",
    "tightJet = jets[jetSel]\n",
    "bJet = tightJet[tightJet.btagDeepFlavB > 0.642]\n",
    "muons = events.Muon\n",
    "muonSel = (muons.pt>30) & (abs(muons.eta)<2.4)\n",
    "tightMuon = muons[muonSel]\n",
    "ele = events.Electron\n",
    "eleSel = (ele.pt>35)&(abs(ele.eta)<2.4)\n",
    "tightEle = ele[eleSel]\n",
    "eventSel = (((ak.num(tightMuon)==1) | (ak.num(tightEle)==1)) &\n",
    "            (ak.num(tightJet)>= 3) & (ak.num(bJet)>=1)\n",
    "           )\n",
    "final = events[eventSel]"
   ]
  },
  {
   "cell_type": "code",
   "execution_count": 35,
   "metadata": {},
   "outputs": [
    {
     "name": "stdout",
     "output_type": "stream",
     "text": [
      "1034882\n"
     ]
    }
   ],
   "source": [
    "#G = Global index of particles - Artifact from Coffea/NanoAOD Tools\n",
    "print(len(final))"
   ]
  },
  {
   "cell_type": "code",
   "execution_count": 36,
   "metadata": {},
   "outputs": [
    {
     "name": "stdout",
     "output_type": "stream",
     "text": [
      "[[GenParticle, GenParticle, GenParticle, ... GenParticle, GenParticle, GenParticle]]\n"
     ]
    }
   ],
   "source": [
    "tightJet.genJetIdx[2]\n",
    "print(events.GenPart)"
   ]
  },
  {
   "cell_type": "code",
   "execution_count": 37,
   "metadata": {
    "scrolled": false
   },
   "outputs": [],
   "source": [
    "genPart = final.GenPart\n",
    "tops = genPart[abs(genPart.pdgId)==6]\n",
    "#The isLastCopy Flag filters out copy Genparticles:\n",
    "tops = tops[tops.hasFlags('isLastCopy')]\n",
    "tDecay = tops.distinctChildren\n",
    "tDecay = tDecay[tDecay.hasFlags('isLastCopy')]\n",
    "t_Events=tDecay[abs(tDecay.pdgId)==5]\n",
    "W = tDecay[abs(tDecay.pdgId)==24]\n",
    "W = W[W.hasFlags('isLastCopy')]\n",
    "WDecay = W.distinctChildren\n",
    "WDecay = WDecay[WDecay.hasFlags('isLastCopy')]\n",
    "#t_events is the lone bottom, W_events is the -> two jets\n",
    "#select the hadronically decaying W\n",
    "W_Events=ak.flatten(WDecay[ak.all(abs(WDecay.pdgId)<=8,axis=-1)],axis=3)\n",
    "#print(qqb)\n",
    "#HadW is mask for Quark deacying W boson\n",
    "hadW = ak.num(W_Events,axis=2)==2\n",
    "#filters out t_events that have a hadronically decayign W Boson\n",
    "hadB = t_Events[hadW]\n",
    "hadB = ak.flatten(hadB,axis=2)\n",
    "W_quarks = W_Events[hadW]\n",
    "W_quarks = ak.flatten(W_quarks,axis=2)\n",
    "#concatentating these two arrays make an array of events with the correctly decaying GenParticles.\n",
    "qqb = ak.concatenate([hadB,W_quarks],axis=1)"
   ]
  },
  {
   "cell_type": "code",
   "execution_count": 40,
   "metadata": {},
   "outputs": [
    {
     "name": "stdout",
     "output_type": "stream",
     "text": [
      "[[0.427, 0.29, 1.42], [1.05, 0.703, 1.05], [-1.04, -0.225, 0.735]]\n",
      "[[5, 2, -1], [-3, 4, -3], [-5, 1, -2]]\n",
      "[[5, 2, -1], [5, 4, -3], [-5, 1, -2]]\n",
      "3035748\n",
      "3035748\n"
     ]
    }
   ],
   "source": [
    "#Filtering Out events with extra tops\n",
    "final=final[(ak.count(qqb.pdgId,axis=1)==3)]\n",
    "finaljets=final.Jet\n",
    "qqb=qqb[(ak.count(qqb.pdgId,axis=1)==3)]\n",
    "#Implementing Tight Jet Cuts on Training Data\n",
    "finaljetSel=(abs(finaljets.eta)<2.4)&(finaljets.pt>30)\n",
    "finalJets=finaljets[finaljetSel]\n",
    "matchedGenJets=qqb.nearest(final.GenJet)\n",
    "print(matchedGenJets.eta[0:3])\n",
    "print(matchedGenJets.partonFlavour[0:3])\n",
    "print(qqb.pdgId[0:3])\n",
    "matchedJets=matchedGenJets.nearest(finalJets)\n",
    "print(len(ak.flatten(matchedJets)))\n",
    "print(len(ak.flatten(matchedJets[(abs(matchedJets.eta)<2.4)])))"
   ]
  },
  {
   "cell_type": "code",
   "execution_count": 41,
   "metadata": {},
   "outputs": [
    {
     "name": "stdout",
     "output_type": "stream",
     "text": [
      "11121831\n"
     ]
    }
   ],
   "source": [
    "test=matchedJets.genJetIdx\n",
    "combs=ak.combinations(finalJets,3,replacement=False)\n",
    "t1=(combs['0'].genJetIdx==test[:,0])|(combs['0'].genJetIdx==test[:,1])|(combs['0'].genJetIdx==test[:,2])\n",
    "t2=(combs['1'].genJetIdx==test[:,0])|(combs['1'].genJetIdx==test[:,1])|(combs['1'].genJetIdx==test[:,2])\n",
    "t3=(combs['2'].genJetIdx==test[:,0])|(combs['2'].genJetIdx==test[:,1])|(combs['2'].genJetIdx==test[:,2])\n",
    "t=t1&t2&t3\n",
    "trutharray=ak.flatten(t)\n",
    "print(len(trutharray))"
   ]
  },
  {
   "cell_type": "code",
   "execution_count": 44,
   "metadata": {},
   "outputs": [
    {
     "name": "stdout",
     "output_type": "stream",
     "text": [
      "[True, True, True, True, True, True, False, False, False, False]\n",
      "[False, False, False, False, False, True, False, False, True, True]\n",
      "[False, True, True, True, True, True, True, True, True, True]\n",
      "[False, False, False, False, False, True, False, False, False, False]\n"
     ]
    }
   ],
   "source": [
    "from pprint import pprint\n",
    "print(t1[0])\n",
    "print(t2[0])\n",
    "print(t3[0])\n",
    "print(t[0])"
   ]
  },
  {
   "cell_type": "code",
   "execution_count": 609,
   "metadata": {},
   "outputs": [],
   "source": [
    "from matplotlib import pyplot as plt "
   ]
  },
  {
   "cell_type": "code",
   "execution_count": 45,
   "metadata": {},
   "outputs": [],
   "source": [
    "jetcombos=ak.flatten(combs)\n",
    "genpart_vals=ak.combinations(qqb,3)\n",
    "good_vals=jetcombos[trutharray]\n",
    "bad_vals=jetcombos[np.invert(trutharray)]\n",
    "genreco=genpart_vals['0']+genpart_vals['1']+genpart_vals['2']"
   ]
  },
  {
   "cell_type": "code",
   "execution_count": 46,
   "metadata": {},
   "outputs": [
    {
     "name": "stdout",
     "output_type": "stream",
     "text": [
      "634135\n",
      "10487696\n"
     ]
    }
   ],
   "source": [
    "print(len(good_vals))\n",
    "print(len(bad_vals))"
   ]
  },
  {
   "cell_type": "code",
   "execution_count": 47,
   "metadata": {},
   "outputs": [
    {
     "data": {
      "image/png": "[encoded data removed]",
      "text/plain": [
       "<Figure size 1600x800 with 1 Axes>"
      ]
     },
     "metadata": {
      "needs_background": "light"
     },
     "output_type": "display_data"
    }
   ],
   "source": [
    "import matplotlib.pyplot as plt\n",
    "bins1=[]\n",
    "n=0\n",
    "while n*5<=500:\n",
    "    bins1.append(n*5)\n",
    "    n+=1\n",
    "plt.figure(figsize=(20,10),dpi=80)\n",
    "greco=good_vals['0']+good_vals['1']+good_vals['2']\n",
    "breco=bad_vals['0']+bad_vals['1']+bad_vals['2']\n",
    "genreco=genpart_vals['0']+genpart_vals['1']+genpart_vals['2']\n",
    "plt.hist(greco.mass,alpha=.5,density=True,bins=bins1)\n",
    "plt.hist(breco.mass,alpha=.5,density=True,bins=bins1)\n",
    "plt.hist(ak.flatten(genreco.mass),alpha=.5,density=True,bins=bins1)\n",
    "plt.legend([\"Matched Jets Combos\",\"Bad Event Combos\",\"GenPart Combos\"])\n",
    "plt.title(\"Mass of M3 Reconstruction\")\n",
    "plt.show()"
   ]
  },
  {
   "cell_type": "code",
   "execution_count": 50,
   "metadata": {},
   "outputs": [],
   "source": [
    "j1,j2,j3=ak.unzip(jetcombos)\n",
    "dR1_2=j1.delta_r(j2)\n",
    "dR1_3=j1.delta_r(j3)\n",
    "dR2_3=j2.delta_r(j3)\n",
    "j1b_tag=j1.btagCSVV2\n",
    "j2b_tag=j1.btagCSVV2\n",
    "j3b_tag=j1.btagCSVV2\n",
    "j1area=j1.area\n",
    "j2area=j2.area\n",
    "j3area=j3.area\n",
    "j1p4=ak.zip({\"pt\":j1.pt,\"phi\":j1.phi,\"eta\":j1.eta,\"mass\":j1.mass},with_name=\"PtEtaPhiMLorentzVector\")\n",
    "j2p4=ak.zip({\"pt\":j2.pt,\"phi\":j2.phi,\"eta\":j2.eta,\"mass\":j2.mass},with_name=\"PtEtaPhiMLorentzVector\")\n",
    "j3p4=ak.zip({\"pt\":j3.pt,\"phi\":j3.phi,\"eta\":j3.eta,\"mass\":j2.mass},with_name=\"PtEtaPhiMLorentzVector\")\n",
    "processedMLdata=ak.zip({\"j1p4\":j1p4,\"j2p4\":j2p4,\"j3p4\":j3p4,\n",
    "                        \"dR12\":dR1_2,\"dR13\":dR1_3,\"dR23\":dR2_3,\n",
    "                       \"j1btag\":j1b_tag,\"j2btag\":j2b_tag,\"j3btag\":j3b_tag,\n",
    "                       \"j1area\":j1area,\"j2area\":j2area,\"j3area\":j3area})"
   ]
  },
  {
   "cell_type": "code",
   "execution_count": 52,
   "metadata": {},
   "outputs": [],
   "source": [
    "df=ak.to_pandas(processedMLdata)\n",
    "df.to_csv(\"data/Total_ML_Training_data.csv\",index=False)\n",
    "vf=ak.to_pandas(trutharray)\n",
    "vf.to_csv(\"data/Total_Valid_data.csv\",index=False)"
   ]
  },
  {
   "cell_type": "markdown",
   "metadata": {},
   "source": [
    "## Dataset Parameters:\n",
    "* 4-Vector\n",
    "* Area\n",
    "* Delta-r 1-2\n",
    "* Delta-r 2-3\n",
    "* Delta-r 1-3\n",
    "* B-tag"
   ]
  },
  {
   "cell_type": "markdown",
   "metadata": {},
   "source": [
    "## Notes for Zach to keep up\n",
    "\n",
    "create JIT compiler\n",
    "\n",
    "Seperate values, weights and triggers(X)\n",
    "read these into tensors for Keras(X)\n",
    "Best ML Algorithm?\n",
    "- Deep Neural Net\n",
    "- Iterative Boosted Tree\n",
    "    - They are fast\n",
    "    - External ML algorithm modifies BDT parameters\n",
    "Should I use Keras or PyTorch"
   ]
  },
  {
   "cell_type": "markdown",
   "metadata": {},
   "source": [
    "# Sources/Further Reading:\n",
    "\n",
    "CMS Draft Analysis Note(FIT, AAS, Wayne State, NISTR): https://drive.google.com/file/d/1XEOLyZ-Q1HdEQY379RpyyQkOF1Q8KlsL/view\n",
    "\n",
    "Invariant Mass Wikipedia Article: https://en.wikipedia.org/wiki/Invariant_mass\n",
    "\n",
    "Measurement of the semileptonic tt + γ production cross-section in pp collisions at √s = 8 Tev: https://arxiv.org/pdf/1706.08128.pdf\n",
    "\n",
    "Coffea Documentation: https://coffeateam.github.io/coffea/\n",
    "\n",
    "Awkward Array Documentation: https://awkward-array.readthedocs.io/en/latest/\n",
    "\n",
    "AOD DATA GUIDE: https://twiki.cern.ch/twiki/bin/view/CMSPublic/SWGuideAodDataTable"
   ]
  }
 ],
 "metadata": {
  "kernelspec": {
   "display_name": "Python 3",
   "language": "python",
   "name": "python3"
  },
  "language_info": {
   "codemirror_mode": {
    "name": "ipython",
    "version": 3
   },
   "file_extension": ".py",
   "mimetype": "text/x-python",
   "name": "python",
   "nbconvert_exporter": "python",
   "pygments_lexer": "ipython3",
   "version": "3.8.10"
  }
 },
 "nbformat": 4,
 "nbformat_minor": 4
}
