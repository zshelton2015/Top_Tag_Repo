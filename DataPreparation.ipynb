{
 "cells": [
  {
   "cell_type": "markdown",
   "metadata": {},
   "source": [
    "# M3 Reconstruction\n",
    "### Training a Neural Network to identify the best M3 Combo\n",
    "By Zach Shelton\n",
    "5/13/21\n"
   ]
  },
  {
   "cell_type": "code",
   "execution_count": 1,
   "metadata": {},
   "outputs": [],
   "source": [
    "#NanoAOD HackSchema\n",
    "#Solution from Danny Noonan"
   ]
  },
  {
   "cell_type": "code",
   "execution_count": 365,
   "metadata": {},
   "outputs": [],
   "source": [
    "from __future__ import print_function, division\n",
    "import uproot\n",
    "import numpy as np\n",
    "#Make sure to install both old awkward0 and new awkward1(referred to now as awkward)\n",
    "import awkward1 as ak\n",
    "from coffea.nanoevents import NanoAODSchema,NanoEventsFactory\n",
    "import coffea\n",
    "from uproot3_methods import TLorentzVectorArray\n",
    "import uproot3_methods\n",
    "import numpy as np\n",
    "import coffea.hist as hist\n",
    "import matplotlib.pyplot as plt\n",
    "import awkward\n",
    "class HackSchema(NanoAODSchema):\n",
    "    def __init__(self, base_form):\n",
    "        base_form[\"contents\"].pop(\"Muon_fsrPhotonIdx\", None)\n",
    "        base_form[\"contents\"].pop(\"Electron_photonIdx\", None)\n",
    "        super().__init__(base_form)\n",
    "files =\"TTbarPowheg_Semilept_Skim_NanoAOD_1of21.root\"\n",
    "import coffea.processor as processor\n",
    "from pprint import pprint\n",
    "file=uproot.open(files)\n",
    "from pprint import pprint"
   ]
  },
  {
   "cell_type": "markdown",
   "metadata": {},
   "source": [
    "## Note: It seems the Jet columns are sorted from greatest p_t to smallest p_t\n",
    "Feel free to test, but it seems to be my observation, choosing the 1st, 2nd or 3rd jet via index should remove the issue of it being a coffea sorting artifact or procedure"
   ]
  },
  {
   "cell_type": "code",
   "execution_count": 2,
   "metadata": {},
   "outputs": [],
   "source": [
    "#Now lets redo with the cuts detailed by CMS Draft Analysis\n",
    "#https://drive.google.com/file/d/1XEOLyZ-Q1HdEQY379RpyyQkOF1Q8KlsL/view\n",
    "events =NanoEventsFactory.from_root(files,schemaclass=HackSchema).events()"
   ]
  },
  {
   "cell_type": "code",
   "execution_count": 3,
   "metadata": {},
   "outputs": [],
   "source": [
    "#Condensing_all Lepton_cuts\n",
    "tight_jets=events.Jet\n",
    "jetSel = ak.num(tight_jets[((tight_jets.pt>30)&(tight_jets.eta<2.4)&(tight_jets.eta>-2.4))],axis=1)>=3\n",
    "jetSelection=(jetSel&(ak.num(tight_jets.btagCSVV2>.4184)>=1))\n",
    "tight_muons = events.Muon\n",
    "muonsel=ak.num(tight_muons[((tight_muons.pt>30)&(abs(tight_muons.eta)<2.4))],axis=1)==1\n",
    "tight_electrons= events.Electron\n",
    "electronsel=ak.num(tight_electrons[((tight_electrons.pt>35)&(abs(tight_electrons.eta)<2.4))],axis=1)==1\n",
    "leptonsel=(muonsel|electronsel)\n",
    "jetlepselmask = (jetSelection&leptonsel)\n",
    "final=events[jetlepselmask]"
   ]
  },
  {
   "cell_type": "code",
   "execution_count": null,
   "metadata": {},
   "outputs": [],
   "source": [
    "jets = ak.zip({\"pt\":final.Jet.pt[:,0:8],\"eta\":final.Jet.eta[:,0:8],\"phi\":final.Jet.phi[:,0:8],\"mass\":final.Jet.mass[:,0:8],\"btag\":final.Jet.btagCSVV2[:,0:8]})\n",
    "jet_kinematics=ak.zip({\"pt\":final.Jet.pt[:,0:8],\"eta\":final.Jet.eta[:,0:8],\"phi\":final.Jet.phi[:,0:8],\"mass\":final.Jet.mass[:,0:8]},with_name=\"PtEtaPhiMLorentzVector\")\n",
    "\n",
    "jets.fields"
   ]
  },
  {
   "cell_type": "code",
   "execution_count": null,
   "metadata": {},
   "outputs": [],
   "source": [
    "#First cut Combos without b-tagged\n",
    "#This will become my data tensor I pass to a Neural Net, pending additions of more(the combinations):\n",
    "comb= ak.combinations(jets,n=3,axis=1,highlevel=1)\n",
    "truthcomb=ak.combinations(final.GenJet.partonFlavour[:,0:8],n=3,axis=1)"
   ]
  },
  {
   "cell_type": "code",
   "execution_count": 103,
   "metadata": {},
   "outputs": [
    {
     "data": {
      "text/plain": [
       "<Array [[0, 0, 172, 170, 0, ... 0, 0, 0, 0, 0]] type='1381189 * var * float32[pa...'>"
      ]
     },
     "execution_count": 103,
     "metadata": {},
     "output_type": "execute_result"
    }
   ],
   "source": [
    "#G = Global index of particles - Artifact from Coffea/NanoAOD Tools\n",
    "final.GenPart.mass"
   ]
  },
  {
   "cell_type": "code",
   "execution_count": 27,
   "metadata": {},
   "outputs": [],
   "source": [
    "genPart = events.GenPart\n",
    "tops = genPart[abs(genPart.pdgId)==6]\n",
    "tops = tops[tops.hasFlags('isLastCopy')]\n",
    "tDecay = tops.distinctChildren\n",
    "tDecay = tDecay[tDecay.hasFlags('isLastCopy')]\n",
    "t_Events=tDecay[abs(tDecay.pdgId)==5]\n",
    "W = tDecay[abs(tDecay.pdgId)==24]\n",
    "W = W[W.hasFlags('isLastCopy')]\n",
    "WDecay = W.distinctChildren\n",
    "WDecay = WDecay[WDecay.hasFlags('isLastCopy')]\n",
    "#t_events is the lone bottom, W_events is the -> two jets"
   ]
  },
  {
   "cell_type": "code",
   "execution_count": 28,
   "metadata": {},
   "outputs": [
    {
     "name": "stdout",
     "output_type": "stream",
     "text": [
      "<Array [[True], [False]] type='2 * var * ?bool'>\n"
     ]
    }
   ],
   "source": [
    "isHadronic = ak.all(abs(WDecay.pdgId)<10,axis=-1)\n",
    "pprint(isHadronic[1])"
   ]
  },
  {
   "cell_type": "code",
   "execution_count": 376,
   "metadata": {},
   "outputs": [
    {
     "data": {
      "text/plain": [
       "<JetArray [Jet, Jet, Jet, Jet, Jet] type='5 * jet'>"
      ]
     },
     "execution_count": 376,
     "metadata": {},
     "output_type": "execute_result"
    }
   ],
   "source": [
    "final.Jet[0]"
   ]
  },
  {
   "cell_type": "code",
   "execution_count": 377,
   "metadata": {},
   "outputs": [
    {
     "ename": "ValueError",
     "evalue": "cannot broadcast records because keys don't match:\n    childrenIdxG, distinctChildrenIdxG, distinctParentIdxG, eta, genPartIdxMother, genPartIdxMotherG, mass, pdgId, phi, pt, status, statusFlags\n    area, bRegCorr, bRegRes, btagCMVA, btagCSVV2, btagDeepB, btagDeepC, btagDeepFlavB, btagDeepFlavC, chEmEF, chHEF, cleanmask, electronIdx1, electronIdx1G, electronIdx2, electronIdx2G, electronIdxG, eta, genJetIdx, genJetIdxG, hadronFlavour, jercCHF, jercCHPUF, jetId, mass, muEF, muonIdx1, muonIdx1G, muonIdx2, muonIdx2G, muonIdxG, muonSubtrFactor, nConstituents, nElectrons, nMuons, neEmEF, neHEF, partonFlavour, phi, pt, puId, qgl, rawFactor\n\n(https://github.com/scikit-hep/awkward-1.0/blob/0.4.5/src/awkward1/_util.py#L915)",
     "output_type": "error",
     "traceback": [
      "\u001b[1;31m---------------------------------------------------------------------------\u001b[0m",
      "\u001b[1;31mValueError\u001b[0m                                Traceback (most recent call last)",
      "\u001b[1;32m<ipython-input-377-b6b2ea71d15b>\u001b[0m in \u001b[0;36m<module>\u001b[1;34m\u001b[0m\n\u001b[1;32m----> 1\u001b[1;33m \u001b[0mt_Events\u001b[0m\u001b[1;33m[\u001b[0m\u001b[1;36m0\u001b[0m\u001b[1;33m]\u001b[0m\u001b[1;33m[\u001b[0m\u001b[1;36m0\u001b[0m\u001b[1;33m]\u001b[0m\u001b[1;33m.\u001b[0m\u001b[0mnearest\u001b[0m\u001b[1;33m(\u001b[0m\u001b[0mfinal\u001b[0m\u001b[1;33m.\u001b[0m\u001b[0mJet\u001b[0m\u001b[1;33m[\u001b[0m\u001b[1;36m0\u001b[0m\u001b[1;33m]\u001b[0m\u001b[1;33m)\u001b[0m\u001b[1;33m\u001b[0m\u001b[1;33m\u001b[0m\u001b[0m\n\u001b[0m",
      "\u001b[1;32m~\\anaconda3\\envs\\top_tag1\\lib\\site-packages\\coffea\\nanoevents\\methods\\vector.py\u001b[0m in \u001b[0;36mnearest\u001b[1;34m(self, other, axis, metric, return_metric, threshold)\u001b[0m\n\u001b[0;32m    453\u001b[0m         \u001b[1;32melse\u001b[0m\u001b[1;33m:\u001b[0m\u001b[1;33m\u001b[0m\u001b[1;33m\u001b[0m\u001b[0m\n\u001b[0;32m    454\u001b[0m             a, b = awkward1.unzip(\n\u001b[1;32m--> 455\u001b[1;33m                 \u001b[0mawkward1\u001b[0m\u001b[1;33m.\u001b[0m\u001b[0mcartesian\u001b[0m\u001b[1;33m(\u001b[0m\u001b[1;33m[\u001b[0m\u001b[0mself\u001b[0m\u001b[1;33m,\u001b[0m \u001b[0mother\u001b[0m\u001b[1;33m]\u001b[0m\u001b[1;33m,\u001b[0m \u001b[0maxis\u001b[0m\u001b[1;33m=\u001b[0m\u001b[0maxis\u001b[0m\u001b[1;33m,\u001b[0m \u001b[0mnested\u001b[0m\u001b[1;33m=\u001b[0m\u001b[1;32mTrue\u001b[0m\u001b[1;33m)\u001b[0m\u001b[1;33m\u001b[0m\u001b[1;33m\u001b[0m\u001b[0m\n\u001b[0m\u001b[0;32m    456\u001b[0m             )\n\u001b[0;32m    457\u001b[0m         \u001b[0mmval\u001b[0m \u001b[1;33m=\u001b[0m \u001b[0mmetric\u001b[0m\u001b[1;33m(\u001b[0m\u001b[0ma\u001b[0m\u001b[1;33m,\u001b[0m \u001b[0mb\u001b[0m\u001b[1;33m)\u001b[0m\u001b[1;33m\u001b[0m\u001b[1;33m\u001b[0m\u001b[0m\n",
      "\u001b[1;32m~\\anaconda3\\envs\\top_tag1\\lib\\site-packages\\awkward1\\operations\\structure.py\u001b[0m in \u001b[0;36mcartesian\u001b[1;34m(arrays, axis, nested, parameters, with_name, highlevel)\u001b[0m\n\u001b[0;32m   2345\u001b[0m                 \u001b[1;32mreturn\u001b[0m \u001b[1;32mNone\u001b[0m\u001b[1;33m\u001b[0m\u001b[1;33m\u001b[0m\u001b[0m\n\u001b[0;32m   2346\u001b[0m \u001b[1;33m\u001b[0m\u001b[0m\n\u001b[1;32m-> 2347\u001b[1;33m         \u001b[0mout\u001b[0m \u001b[1;33m=\u001b[0m \u001b[0mawkward1\u001b[0m\u001b[1;33m.\u001b[0m\u001b[0m_util\u001b[0m\u001b[1;33m.\u001b[0m\u001b[0mbroadcast_and_apply\u001b[0m\u001b[1;33m(\u001b[0m\u001b[0mlayouts\u001b[0m\u001b[1;33m,\u001b[0m \u001b[0mgetfunction3\u001b[0m\u001b[1;33m,\u001b[0m \u001b[0mbehavior\u001b[0m\u001b[1;33m)\u001b[0m\u001b[1;33m\u001b[0m\u001b[1;33m\u001b[0m\u001b[0m\n\u001b[0m\u001b[0;32m   2348\u001b[0m         \u001b[1;32massert\u001b[0m \u001b[0misinstance\u001b[0m\u001b[1;33m(\u001b[0m\u001b[0mout\u001b[0m\u001b[1;33m,\u001b[0m \u001b[0mtuple\u001b[0m\u001b[1;33m)\u001b[0m \u001b[1;32mand\u001b[0m \u001b[0mlen\u001b[0m\u001b[1;33m(\u001b[0m\u001b[0mout\u001b[0m\u001b[1;33m)\u001b[0m \u001b[1;33m==\u001b[0m \u001b[1;36m1\u001b[0m\u001b[1;33m\u001b[0m\u001b[1;33m\u001b[0m\u001b[0m\n\u001b[0;32m   2349\u001b[0m         \u001b[0mresult\u001b[0m \u001b[1;33m=\u001b[0m \u001b[0mout\u001b[0m\u001b[1;33m[\u001b[0m\u001b[1;36m0\u001b[0m\u001b[1;33m]\u001b[0m\u001b[1;33m\u001b[0m\u001b[1;33m\u001b[0m\u001b[0m\n",
      "\u001b[1;32m~\\anaconda3\\envs\\top_tag1\\lib\\site-packages\\awkward1\\_util.py\u001b[0m in \u001b[0;36mbroadcast_and_apply\u001b[1;34m(inputs, getfunction, behavior, allow_records, left_broadcast, right_broadcast, numpy_to_regular)\u001b[0m\n\u001b[0;32m   1008\u001b[0m     \u001b[1;32melse\u001b[0m\u001b[1;33m:\u001b[0m\u001b[1;33m\u001b[0m\u001b[1;33m\u001b[0m\u001b[0m\n\u001b[0;32m   1009\u001b[0m         \u001b[0misscalar\u001b[0m \u001b[1;33m=\u001b[0m \u001b[1;33m[\u001b[0m\u001b[1;33m]\u001b[0m\u001b[1;33m\u001b[0m\u001b[1;33m\u001b[0m\u001b[0m\n\u001b[1;32m-> 1010\u001b[1;33m         \u001b[0mout\u001b[0m \u001b[1;33m=\u001b[0m \u001b[0mapply\u001b[0m\u001b[1;33m(\u001b[0m\u001b[0mbroadcast_pack\u001b[0m\u001b[1;33m(\u001b[0m\u001b[0minputs\u001b[0m\u001b[1;33m,\u001b[0m \u001b[0misscalar\u001b[0m\u001b[1;33m)\u001b[0m\u001b[1;33m,\u001b[0m \u001b[1;36m0\u001b[0m\u001b[1;33m)\u001b[0m\u001b[1;33m\u001b[0m\u001b[1;33m\u001b[0m\u001b[0m\n\u001b[0m\u001b[0;32m   1011\u001b[0m         \u001b[1;32massert\u001b[0m \u001b[0misinstance\u001b[0m\u001b[1;33m(\u001b[0m\u001b[0mout\u001b[0m\u001b[1;33m,\u001b[0m \u001b[0mtuple\u001b[0m\u001b[1;33m)\u001b[0m\u001b[1;33m\u001b[0m\u001b[1;33m\u001b[0m\u001b[0m\n\u001b[0;32m   1012\u001b[0m         \u001b[1;32mreturn\u001b[0m \u001b[0mtuple\u001b[0m\u001b[1;33m(\u001b[0m\u001b[0mbroadcast_unpack\u001b[0m\u001b[1;33m(\u001b[0m\u001b[0mx\u001b[0m\u001b[1;33m,\u001b[0m \u001b[0misscalar\u001b[0m\u001b[1;33m)\u001b[0m \u001b[1;32mfor\u001b[0m \u001b[0mx\u001b[0m \u001b[1;32min\u001b[0m \u001b[0mout\u001b[0m\u001b[1;33m)\u001b[0m\u001b[1;33m\u001b[0m\u001b[1;33m\u001b[0m\u001b[0m\n",
      "\u001b[1;32m~\\anaconda3\\envs\\top_tag1\\lib\\site-packages\\awkward1\\_util.py\u001b[0m in \u001b[0;36mapply\u001b[1;34m(inputs, depth)\u001b[0m\n\u001b[0;32m    584\u001b[0m                     \u001b[0mnextinputs\u001b[0m\u001b[1;33m.\u001b[0m\u001b[0mappend\u001b[0m\u001b[1;33m(\u001b[0m\u001b[0mx\u001b[0m\u001b[1;33m)\u001b[0m\u001b[1;33m\u001b[0m\u001b[1;33m\u001b[0m\u001b[0m\n\u001b[0;32m    585\u001b[0m                 \u001b[1;32mif\u001b[0m \u001b[0many\u001b[0m\u001b[1;33m(\u001b[0m\u001b[0mx\u001b[0m \u001b[1;32mis\u001b[0m \u001b[1;32mnot\u001b[0m \u001b[0my\u001b[0m \u001b[1;32mfor\u001b[0m \u001b[0mx\u001b[0m\u001b[1;33m,\u001b[0m \u001b[0my\u001b[0m \u001b[1;32min\u001b[0m \u001b[0mzip\u001b[0m\u001b[1;33m(\u001b[0m\u001b[0minputs\u001b[0m\u001b[1;33m,\u001b[0m \u001b[0mnextinputs\u001b[0m\u001b[1;33m)\u001b[0m\u001b[1;33m)\u001b[0m\u001b[1;33m:\u001b[0m\u001b[1;33m\u001b[0m\u001b[1;33m\u001b[0m\u001b[0m\n\u001b[1;32m--> 586\u001b[1;33m                     \u001b[1;32mreturn\u001b[0m \u001b[0mapply\u001b[0m\u001b[1;33m(\u001b[0m\u001b[0mnextinputs\u001b[0m\u001b[1;33m,\u001b[0m \u001b[0mdepth\u001b[0m\u001b[1;33m)\u001b[0m\u001b[1;33m\u001b[0m\u001b[1;33m\u001b[0m\u001b[0m\n\u001b[0m\u001b[0;32m    587\u001b[0m \u001b[1;33m\u001b[0m\u001b[0m\n\u001b[0;32m    588\u001b[0m         \u001b[1;31m# now all lengths must agree\u001b[0m\u001b[1;33m\u001b[0m\u001b[1;33m\u001b[0m\u001b[1;33m\u001b[0m\u001b[0m\n",
      "\u001b[1;32m~\\anaconda3\\envs\\top_tag1\\lib\\site-packages\\awkward1\\_util.py\u001b[0m in \u001b[0;36mapply\u001b[1;34m(inputs, depth)\u001b[0m\n\u001b[0;32m    771\u001b[0m                         \u001b[0mnextinputs\u001b[0m\u001b[1;33m.\u001b[0m\u001b[0mappend\u001b[0m\u001b[1;33m(\u001b[0m\u001b[0mx\u001b[0m\u001b[1;33m)\u001b[0m\u001b[1;33m\u001b[0m\u001b[1;33m\u001b[0m\u001b[0m\n\u001b[0;32m    772\u001b[0m \u001b[1;33m\u001b[0m\u001b[0m\n\u001b[1;32m--> 773\u001b[1;33m                 \u001b[0moutcontent\u001b[0m \u001b[1;33m=\u001b[0m \u001b[0mapply\u001b[0m\u001b[1;33m(\u001b[0m\u001b[0mnextinputs\u001b[0m\u001b[1;33m,\u001b[0m \u001b[0mdepth\u001b[0m \u001b[1;33m+\u001b[0m \u001b[1;36m1\u001b[0m\u001b[1;33m)\u001b[0m\u001b[1;33m\u001b[0m\u001b[1;33m\u001b[0m\u001b[0m\n\u001b[0m\u001b[0;32m    774\u001b[0m                 \u001b[1;32massert\u001b[0m \u001b[0misinstance\u001b[0m\u001b[1;33m(\u001b[0m\u001b[0moutcontent\u001b[0m\u001b[1;33m,\u001b[0m \u001b[0mtuple\u001b[0m\u001b[1;33m)\u001b[0m\u001b[1;33m\u001b[0m\u001b[1;33m\u001b[0m\u001b[0m\n\u001b[0;32m    775\u001b[0m \u001b[1;33m\u001b[0m\u001b[0m\n",
      "\u001b[1;32m~\\anaconda3\\envs\\top_tag1\\lib\\site-packages\\awkward1\\_util.py\u001b[0m in \u001b[0;36mapply\u001b[1;34m(inputs, depth)\u001b[0m\n\u001b[0;32m    771\u001b[0m                         \u001b[0mnextinputs\u001b[0m\u001b[1;33m.\u001b[0m\u001b[0mappend\u001b[0m\u001b[1;33m(\u001b[0m\u001b[0mx\u001b[0m\u001b[1;33m)\u001b[0m\u001b[1;33m\u001b[0m\u001b[1;33m\u001b[0m\u001b[0m\n\u001b[0;32m    772\u001b[0m \u001b[1;33m\u001b[0m\u001b[0m\n\u001b[1;32m--> 773\u001b[1;33m                 \u001b[0moutcontent\u001b[0m \u001b[1;33m=\u001b[0m \u001b[0mapply\u001b[0m\u001b[1;33m(\u001b[0m\u001b[0mnextinputs\u001b[0m\u001b[1;33m,\u001b[0m \u001b[0mdepth\u001b[0m \u001b[1;33m+\u001b[0m \u001b[1;36m1\u001b[0m\u001b[1;33m)\u001b[0m\u001b[1;33m\u001b[0m\u001b[1;33m\u001b[0m\u001b[0m\n\u001b[0m\u001b[0;32m    774\u001b[0m                 \u001b[1;32massert\u001b[0m \u001b[0misinstance\u001b[0m\u001b[1;33m(\u001b[0m\u001b[0moutcontent\u001b[0m\u001b[1;33m,\u001b[0m \u001b[0mtuple\u001b[0m\u001b[1;33m)\u001b[0m\u001b[1;33m\u001b[0m\u001b[1;33m\u001b[0m\u001b[0m\n\u001b[0;32m    775\u001b[0m \u001b[1;33m\u001b[0m\u001b[0m\n",
      "\u001b[1;32m~\\anaconda3\\envs\\top_tag1\\lib\\site-packages\\awkward1\\_util.py\u001b[0m in \u001b[0;36mapply\u001b[1;34m(inputs, depth)\u001b[0m\n\u001b[0;32m    721\u001b[0m                     \u001b[0mnextinputs\u001b[0m\u001b[1;33m.\u001b[0m\u001b[0mappend\u001b[0m\u001b[1;33m(\u001b[0m\u001b[0mx\u001b[0m\u001b[1;33m)\u001b[0m\u001b[1;33m\u001b[0m\u001b[1;33m\u001b[0m\u001b[0m\n\u001b[0;32m    722\u001b[0m \u001b[1;33m\u001b[0m\u001b[0m\n\u001b[1;32m--> 723\u001b[1;33m             \u001b[0moutcontent\u001b[0m \u001b[1;33m=\u001b[0m \u001b[0mapply\u001b[0m\u001b[1;33m(\u001b[0m\u001b[0mnextinputs\u001b[0m\u001b[1;33m,\u001b[0m \u001b[0mdepth\u001b[0m\u001b[1;33m)\u001b[0m\u001b[1;33m\u001b[0m\u001b[1;33m\u001b[0m\u001b[0m\n\u001b[0m\u001b[0;32m    724\u001b[0m             \u001b[1;32massert\u001b[0m \u001b[0misinstance\u001b[0m\u001b[1;33m(\u001b[0m\u001b[0moutcontent\u001b[0m\u001b[1;33m,\u001b[0m \u001b[0mtuple\u001b[0m\u001b[1;33m)\u001b[0m\u001b[1;33m\u001b[0m\u001b[1;33m\u001b[0m\u001b[0m\n\u001b[0;32m    725\u001b[0m             return tuple(\n",
      "\u001b[1;32m~\\anaconda3\\envs\\top_tag1\\lib\\site-packages\\awkward1\\_util.py\u001b[0m in \u001b[0;36mapply\u001b[1;34m(inputs, depth)\u001b[0m\n\u001b[0;32m    913\u001b[0m                                 \u001b[1;34m\", \"\u001b[0m\u001b[1;33m.\u001b[0m\u001b[0mjoin\u001b[0m\u001b[1;33m(\u001b[0m\u001b[0msorted\u001b[0m\u001b[1;33m(\u001b[0m\u001b[0mkeys\u001b[0m\u001b[1;33m)\u001b[0m\u001b[1;33m)\u001b[0m\u001b[1;33m,\u001b[0m \u001b[1;34m\", \"\u001b[0m\u001b[1;33m.\u001b[0m\u001b[0mjoin\u001b[0m\u001b[1;33m(\u001b[0m\u001b[0msorted\u001b[0m\u001b[1;33m(\u001b[0m\u001b[0mx\u001b[0m\u001b[1;33m.\u001b[0m\u001b[0mkeys\u001b[0m\u001b[1;33m(\u001b[0m\u001b[1;33m)\u001b[0m\u001b[1;33m)\u001b[0m\u001b[1;33m)\u001b[0m\u001b[1;33m\u001b[0m\u001b[1;33m\u001b[0m\u001b[0m\n\u001b[0;32m    914\u001b[0m                             )\n\u001b[1;32m--> 915\u001b[1;33m                             \u001b[1;33m+\u001b[0m \u001b[0mexception_suffix\u001b[0m\u001b[1;33m(\u001b[0m\u001b[0m__file__\u001b[0m\u001b[1;33m)\u001b[0m\u001b[1;33m\u001b[0m\u001b[1;33m\u001b[0m\u001b[0m\n\u001b[0m\u001b[0;32m    916\u001b[0m                         )\n\u001b[0;32m    917\u001b[0m                     \u001b[1;32mif\u001b[0m \u001b[0mlength\u001b[0m \u001b[1;32mis\u001b[0m \u001b[1;32mNone\u001b[0m\u001b[1;33m:\u001b[0m\u001b[1;33m\u001b[0m\u001b[1;33m\u001b[0m\u001b[0m\n",
      "\u001b[1;31mValueError\u001b[0m: cannot broadcast records because keys don't match:\n    childrenIdxG, distinctChildrenIdxG, distinctParentIdxG, eta, genPartIdxMother, genPartIdxMotherG, mass, pdgId, phi, pt, status, statusFlags\n    area, bRegCorr, bRegRes, btagCMVA, btagCSVV2, btagDeepB, btagDeepC, btagDeepFlavB, btagDeepFlavC, chEmEF, chHEF, cleanmask, electronIdx1, electronIdx1G, electronIdx2, electronIdx2G, electronIdxG, eta, genJetIdx, genJetIdxG, hadronFlavour, jercCHF, jercCHPUF, jetId, mass, muEF, muonIdx1, muonIdx1G, muonIdx2, muonIdx2G, muonIdxG, muonSubtrFactor, nConstituents, nElectrons, nMuons, neEmEF, neHEF, partonFlavour, phi, pt, puId, qgl, rawFactor\n\n(https://github.com/scikit-hep/awkward-1.0/blob/0.4.5/src/awkward1/_util.py#L915)"
     ]
    }
   ],
   "source": [
    "t_Events[0][0].nearest(final.Jet[0])"
   ]
  },
  {
   "cell_type": "code",
   "execution_count": 288,
   "metadata": {},
   "outputs": [
    {
     "name": "stdout",
     "output_type": "stream",
     "text": [
      "2\n",
      "-1\n"
     ]
    }
   ],
   "source": [
    "w_mins=[]\n",
    "for ws in W_Events[0]:\n",
    "    #print(ws)\n",
    "    if len(ws)>0:\n",
    "        for w in ws:\n",
    "            for q in w:\n",
    "                q_mins=[]\n",
    "                print(q.pdgId)\n",
    "                delta_rs=[]\n",
    "                for j in final.Jet[0]:\n",
    "                    dr=q.delta_r(j)\n",
    "                    delta_rs.append(dr)\n",
    "            q_mins.append(np.argmin(delta_rs))\n",
    "        w_mins.append(q_mins)\n",
    "    else:\n",
    "        w_mins.append(None)"
   ]
  },
  {
   "cell_type": "code",
   "execution_count": 287,
   "metadata": {},
   "outputs": [
    {
     "name": "stdout",
     "output_type": "stream",
     "text": [
      "[[3], None]\n"
     ]
    }
   ],
   "source": [
    "print(w_mins)"
   ]
  },
  {
   "cell_type": "code",
   "execution_count": 42,
   "metadata": {},
   "outputs": [],
   "source": [
    "#(-)6->5+W->\n",
    "#(-)6->5+W->\n",
    "#1-6 are quarks\n",
    "#11-16 are leptons+neutrinons\n",
    "#20's are bosons\n",
    "#25 higgs\n",
    "#genPart.hasFlags('isLastCopy') gets rid of copies"
   ]
  },
  {
   "cell_type": "markdown",
   "metadata": {},
   "source": [
    "______________________________________________________________________________\n",
    "# Running Notes and questions\n",
    "- Losing Data because of arbitrary 8 jet cut?"
   ]
  },
  {
   "cell_type": "markdown",
   "metadata": {},
   "source": [
    "## Notes for Zach to keep up\n",
    "- Jet TightID\n",
    "- More \n",
    "- Particle Values\n",
    "- Delta R\n",
    "\n",
    "Wrap into Coffea Executor\n",
    "Seperate values, weights and triggers\n",
    "read these into tensors for Keras\n",
    "Best ML Algorithm?\n",
    "- Deep Neural Net\n",
    "- Iterative Boosted Tree\n",
    "    - They are fast\n",
    "    - External ML algorithm modifies BDT parameters\n",
    "- Combine old processes together\n",
    "Should I use Keras or PyTorch"
   ]
  },
  {
   "cell_type": "markdown",
   "metadata": {},
   "source": [
    "## Sources/Further Reading:\n",
    "\n",
    "CMS Draft Analysis Note(FIT, AAS, Wayne State, NISTR): https://drive.google.com/file/d/1XEOLyZ-Q1HdEQY379RpyyQkOF1Q8KlsL/view\n",
    "\n",
    "Invariant Mass Wikipedia Article: https://en.wikipedia.org/wiki/Invariant_mass\n",
    "\n",
    "Measurement of the semileptonic tt + γ production cross-section in pp collisions at √s = 8 Tev: https://arxiv.org/pdf/1706.08128.pdf\n",
    "\n",
    "Coffea Documentation: https://coffeateam.github.io/coffea/\n",
    "\n",
    "Awkward Array Documentation: https://awkward-array.readthedocs.io/en/latest/\n",
    "\n",
    "AOD DATA GUIDE: https://twiki.cern.ch/twiki/bin/view/CMSPublic/SWGuideAodDataTable"
   ]
  }
 ],
 "metadata": {
  "kernelspec": {
   "display_name": "Python 3",
   "language": "python",
   "name": "python3"
  },
  "language_info": {
   "codemirror_mode": {
    "name": "ipython",
    "version": 3
   },
   "file_extension": ".py",
   "mimetype": "text/x-python",
   "name": "python",
   "nbconvert_exporter": "python",
   "pygments_lexer": "ipython3",
   "version": "3.7.9"
  }
 },
 "nbformat": 4,
 "nbformat_minor": 4
}
