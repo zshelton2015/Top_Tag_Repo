{
 "cells": [
  {
   "cell_type": "markdown",
   "metadata": {},
   "source": [
    "# Data Preparation\n",
    "### Training a Neural Network to identify the best M3 Combo\n",
    "By Zach Shelton\n",
    "5/13/21\n"
   ]
  },
  {
   "cell_type": "code",
   "execution_count": null,
   "metadata": {},
   "outputs": [],
   "source": [
    "#NanoAOD HackSchema\n",
    "#Solution from Danny Noonan"
   ]
  },
  {
   "cell_type": "code",
   "execution_count": null,
   "metadata": {},
   "outputs": [],
   "source": [
    "from __future__ import print_function, division\n",
    "import uproot\n",
    "import numpy as np\n",
    "from coffea.nanoevents import NanoAODSchema,NanoEventsFactory\n",
    "import coffea\n",
    "from uproot3_methods import TLorentzVectorArray\n",
    "import uproot3_methods\n",
    "import numpy as np\n",
    "import coffea.hist as hist\n",
    "import matplotlib.pyplot as plt\n",
    "import awkward1 as ak\n",
    "class HackSchema(NanoAODSchema):\n",
    "    def __init__(self, base_form):\n",
    "        base_form[\"contents\"].pop(\"Muon_fsrPhotonIdx\", None)\n",
    "        base_form[\"contents\"].pop(\"Electron_photonIdx\", None)\n",
    "        super().__init__(base_form)\n",
    "files =\"TTbarPowheg_Semilept_Skim_NanoAOD_1of21.root\"\n",
    "import coffea.processor as processor\n",
    "from pprint import pprint\n",
    "file=uproot.open(files)\n",
    "from pprint import pprint"
   ]
  },
  {
   "cell_type": "markdown",
   "metadata": {},
   "source": [
    "## Note: It seems the Jet columns are sorted from greatest p_t to smallest p_t\n",
    "Feel free to test, but it seems to be my observation, choosing the 1st, 2nd or 3rd jet via index should remove the issue of it being a coffea sorting artifact or procedure"
   ]
  },
  {
   "cell_type": "code",
   "execution_count": null,
   "metadata": {},
   "outputs": [],
   "source": [
    "#Now lets redo with the cuts detailed by CMS Draft Analysis\n",
    "#https://drive.google.com/file/d/1XEOLyZ-Q1HdEQY379RpyyQkOF1Q8KlsL/view\n",
    "events =NanoEventsFactory.from_root(files,schemaclass=NanoAODSchema,entry_stop=100).events()"
   ]
  },
  {
   "cell_type": "code",
   "execution_count": null,
   "metadata": {},
   "outputs": [],
   "source": [
    "#Condensing_all Lepton_cuts\n",
    "jets=events.Jet\n",
    "jetSel = (jets.pt>30) & (abs(jets.eta)<2.4)\n",
    "tightJet = jets[jetSel]\n",
    "bJet = tightJet[tightJet.btagDeepFlavB > 0.642]\n",
    "muons = events.Muon\n",
    "muonSel = (muons.pt>30) & (abs(muons.eta)<2.4)\n",
    "tightMuon = muons[muonSel]\n",
    "ele = events.Electron\n",
    "eleSel = (ele.pt>35)&(abs(ele.eta)<2.4)\n",
    "tightEle = ele[eleSel]\n",
    "eventSel = (((ak.num(tightMuon)==1) | (ak.num(tightEle)==1)) &\n",
    "            (ak.num(tightJet)>= 3) & (ak.num(bJet)>=1)\n",
    "           )\n",
    "final = events[eventSel]"
   ]
  },
  {
   "cell_type": "code",
   "execution_count": null,
   "metadata": {},
   "outputs": [],
   "source": [
    "#G = Global index of particles - Artifact from Coffea/NanoAOD Tools\n",
    "print(len(final))"
   ]
  },
  {
   "cell_type": "code",
   "execution_count": null,
   "metadata": {},
   "outputs": [],
   "source": [
    "genPart = events.GenPart\n",
    "tops = genPart[abs(genPart.pdgId)==6]\n",
    "tops = tops[tops.hasFlags('isLastCopy')]\n",
    "tDecay = tops.distinctChildren\n",
    "tDecay = tDecay[tDecay.hasFlags('isLastCopy')]\n",
    "t_Events=tDecay[abs(tDecay.pdgId)==5]\n",
    "W = tDecay[abs(tDecay.pdgId)==24]\n",
    "W = W[W.hasFlags('isLastCopy')]\n",
    "WDecay = W.distinctChildren\n",
    "WDecay = WDecay[WDecay.hasFlags('isLastCopy')]\n",
    "#t_events is the lone bottom, W_events is the -> two jets\n",
    "W_Events=ak.flatten(WDecay[ak.all(abs(WDecay.pdgId)<=8,axis=-1)],axis=3)\n",
    "#select the hadronically decaying W\n",
    "hadW = ak.num(W_Events,axis=2)==2\n",
    "#select b quarks associated with hadronically decaying W\n",
    "hadB = t_Events[hadW]\n",
    "hadB = ak.flatten(hadB,axis=2)\n",
    "W_quarks = W_Events[hadW]\n",
    "W_quarks = ak.flatten(W_quarks,axis=2)\n",
    "qqb = ak.concatenate([hadB,W_quarks],axis=1)\n",
    "#To start lets filter for only 1 HadronicW\n",
    "#Filter out qqb events that have mare than 4 jets\n",
    "qqb = qqb[ak.count(qqb.pdgId,axis=1)<4]\n",
    "print(qqb)\n",
    "print(qqb.pdgId)"
   ]
  },
  {
   "cell_type": "code",
   "execution_count": null,
   "metadata": {},
   "outputs": [],
   "source": [
    "ak.count(qqb.pdgId,axis=1)\n",
    "qqb[0]"
   ]
  },
  {
   "cell_type": "code",
   "execution_count": null,
   "metadata": {},
   "outputs": [],
   "source": [
    "#Process for determining correct jets.\n",
    "#match Tightjets with nearest.\n",
    "#Take the sum of the combinations and compare the transverse momenta of them."
   ]
  },
  {
   "cell_type": "code",
   "execution_count": 125,
   "metadata": {},
   "outputs": [
    {
     "name": "stdout",
     "output_type": "stream",
     "text": [
      "[[Jet, Jet, Jet], [Jet, Jet, Jet], [Jet, ... Jet], [Jet, Jet, Jet], [Jet, Jet, Jet]]\n",
      "100\n",
      "100\n"
     ]
    }
   ],
   "source": [
    "combs=ak.combinations(tightJet,3,replacement=False)\n",
    "argcombs=ak.argcombinations(tightJet,3,replacement=False)\n",
    "#In order to accomodate the nearest ccombination specific arrangement, using replacement create EVERY permutation of jets\n",
    "matchjets=qqb.nearest(events.Jet,axis=1)\n",
    "print(qqb.nearest(events.Jet,axis=1))\n",
    "print(len(tightJet))\n",
    "print(len(matchjets))\n",
    "#We are matching the pt values"
   ]
  },
  {
   "cell_type": "code",
   "execution_count": 37,
   "metadata": {},
   "outputs": [
    {
     "name": "stdout",
     "output_type": "stream",
     "text": [
      "False\n",
      "False\n",
      "False\n",
      "False\n",
      "True\n"
     ]
    }
   ],
   "source": [
    "j=matchjets[0][1]\n",
    "def equal(j1,j2):\n",
    "    return (j1.pt==j2.pt)&(j1.eta==j2.eta)&(j1.phi==j2.phi)&(j1.mass==j2.mass)&(j1.area==j2.area)\n",
    "for e in events.Jet[0]:\n",
    "    print(equal(j,e))"
   ]
  },
  {
   "cell_type": "code",
   "execution_count": null,
   "metadata": {},
   "outputs": [],
   "source": [
    "#this is a faster and more reliable\n",
    "def equal(j1,j2):\n",
    "    return (j1.pt==j2.pt)&(j1.eta==j2.eta)&(j1.phi==j2.phi)&(j1.mass==j2.mass)&(j1.area==j2.area)\n",
    "print(equal(events.Jet[0][0],events.Jet[0][0]))"
   ]
  },
  {
   "cell_type": "code",
   "execution_count": 183,
   "metadata": {
    "scrolled": true,
    "tags": []
   },
   "outputs": [],
   "source": [
    "import numba as nb\n",
    "#Finds the arguments of the matching jet in an event\n",
    "@nb.jit(nopython=True)\n",
    "def equal(j1,j2):\n",
    "    #created this to utilize jit and to avoid any unitended errors, these are the nearest function values and should be obtainable\n",
    "    return (j1.pt==j2.pt)&(j1.eta==j2.eta)&(j1.phi==j2.phi)&(j1.mass==j2.mass)&(j1.area==j2.area)\n",
    "def find_combo(match,event):\n",
    "    #print(len(match))\n",
    "    if len(match)==0:\n",
    "        return [None,None,None]\n",
    "    a=ak.ArrayBuilder()\n",
    "    #Iterates over every event, matches each jet\n",
    "    #There are jets that are double matched however\n",
    "    mj1,mj2,mj3=match[0],match[1],match[2]\n",
    "    c1=None\n",
    "    c2=None\n",
    "    c3=None\n",
    "    holder=ak.ArrayBuilder()\n",
    "    for n in range(0,len(event)):\n",
    "        #compares item by item slow but is compiling in Jit\n",
    "        #Unsure of how to best use vectorize or numba object methods with awkward, consulting tutorial\n",
    "        if equal(mj1,event[n]):\n",
    "            c1=n\n",
    "            #print(c)\n",
    "        if equal(mj2,event[n]):\n",
    "            c2=n\n",
    "            #print(c)\n",
    "        if equal(mj3,event[n]):\n",
    "            c3=n\n",
    "            #print(c)   \n",
    "    holder.append([c1,c2,c3])\n",
    "    return ak.sort(ak.flatten(holder))\n",
    "def create_combo_array(match_array,event_array):\n",
    "    output=ak.ArrayBuilder()\n",
    "    counter=0\n",
    "    for n1 in range(0,len(event_array)):\n",
    "        output.append(find_combo(match_array[n1],event_array[n1]))\n",
    "    return output\n",
    "output=create_combo_array(matchjets,events.Jet)"
   ]
  },
  {
   "cell_type": "code",
   "execution_count": 178,
   "metadata": {},
   "outputs": [
    {
     "name": "stdout",
     "output_type": "stream",
     "text": [
      "100\n"
     ]
    }
   ],
   "source": [
    "#creates truth array\n",
    "a1,a2,a3=ak.unzip(argcombs)\n",
    "print(len(a1))\n",
    "ta1=(output[:,0]==a1)\n",
    "ta2=(output[:,1]==a2)\n",
    "ta3=(output[:,2]==a3)\n",
    "val=ta1&ta2&ta3\n",
    "trutharray=ak.flatten(val)"
   ]
  },
  {
   "cell_type": "code",
   "execution_count": 179,
   "metadata": {},
   "outputs": [
    {
     "name": "stdout",
     "output_type": "stream",
     "text": [
      "1042\n"
     ]
    }
   ],
   "source": [
    "print(len(trutharray))"
   ]
  },
  {
   "cell_type": "code",
   "execution_count": 181,
   "metadata": {
    "scrolled": true,
    "tags": []
   },
   "outputs": [],
   "source": [
    "#these are good combos( no duplicate matched jets and events with ONLY 1 tW decay)\n",
    "jetcombos=ak.flatten(combs)\n",
    "jetcombos[trutharray]"
   ]
  },
  {
   "cell_type": "code",
   "execution_count": 182,
   "metadata": {},
   "outputs": [
    {
     "data": {
      "text/plain": [
       "<Array [(Jet, Jet, Jet), (, ... Jet, Jet, Jet)] type='48 * (jet, jet, jet)'>"
      ]
     },
     "execution_count": 182,
     "metadata": {},
     "output_type": "execute_result"
    }
   ],
   "source": []
  },
  {
   "cell_type": "code",
   "execution_count": 85,
   "metadata": {},
   "outputs": [
    {
     "name": "stdout",
     "output_type": "stream",
     "text": [
      "10\n"
     ]
    },
    {
     "data": {
      "text/plain": [
       "<Array [(0, 1, 2), (0, 1, 3, ... 4), (2, 3, 4)] type='10 * (int64, int64, int64)'>"
      ]
     },
     "execution_count": 85,
     "metadata": {},
     "output_type": "execute_result"
    }
   ],
   "source": [
    "print(len(temp))\n",
    "argcombs[19"
   ]
  },
  {
   "cell_type": "code",
   "execution_count": 185,
   "metadata": {},
   "outputs": [],
   "source": [
    "from matplotlib import pyplot as plt "
   ]
  },
  {
   "cell_type": "code",
   "execution_count": 186,
   "metadata": {},
   "outputs": [],
   "source": [
    "good_vals=jetcombos[trutharray]\n",
    "bad_vals=jetcombos[np.invert(trutharray)]"
   ]
  },
  {
   "cell_type": "code",
   "execution_count": 188,
   "metadata": {},
   "outputs": [
    {
     "data": {
      "image/png": "[encoded data removed]",
      "text/plain": [
       "<Figure size 432x288 with 1 Axes>"
      ]
     },
     "metadata": {
      "needs_background": "light"
     },
     "output_type": "display_data"
    }
   ],
   "source": [
    "greco=good_vals['0']+good_vals['1']+good_vals['2']\n",
    "breco=bad_vals['0']+bad_vals['1']+bad_vals['2']\n",
    "plt.hist(greco.mass,bins=20,alpha=.5,density=True)\n",
    "plt.hist(breco.mass,bins=20,alpha=.5,density=True)\n",
    "plt.legend([\"True\",\"False\"])\n",
    "plt.show()"
   ]
  },
  {
   "cell_type": "markdown",
   "metadata": {},
   "source": [
    "______________________________________________________________________________\n",
    "# Running Notes and questions\n",
    "- Losing Data because of arbitrary 8 jet cut?"
   ]
  },
  {
   "cell_type": "markdown",
   "metadata": {},
   "source": [
    "## Notes for Zach to keep up\n",
    "\n",
    "Wrap into Coffea Executor!!!!!!!!!!!!\n",
    "\n",
    "Seperate values, weights and triggers(X)\n",
    "read these into tensors for Keras(X)\n",
    "Best ML Algorithm?\n",
    "- Deep Neural Net\n",
    "- Iterative Boosted Tree\n",
    "    - They are fast\n",
    "    - External ML algorithm modifies BDT parameters\n",
    "- Combine old processes together\n",
    "Should I use Keras or PyTorch"
   ]
  },
  {
   "cell_type": "markdown",
   "metadata": {},
   "source": [
    "## Sources/Further Reading:\n",
    "\n",
    "CMS Draft Analysis Note(FIT, AAS, Wayne State, NISTR): https://drive.google.com/file/d/1XEOLyZ-Q1HdEQY379RpyyQkOF1Q8KlsL/view\n",
    "\n",
    "Invariant Mass Wikipedia Article: https://en.wikipedia.org/wiki/Invariant_mass\n",
    "\n",
    "Measurement of the semileptonic tt + γ production cross-section in pp collisions at √s = 8 Tev: https://arxiv.org/pdf/1706.08128.pdf\n",
    "\n",
    "Coffea Documentation: https://coffeateam.github.io/coffea/\n",
    "\n",
    "Awkward Array Documentation: https://awkward-array.readthedocs.io/en/latest/\n",
    "\n",
    "AOD DATA GUIDE: https://twiki.cern.ch/twiki/bin/view/CMSPublic/SWGuideAodDataTable"
   ]
  }
 ],
 "metadata": {
  "kernelspec": {
   "display_name": "Python 3",
   "language": "python",
   "name": "python3"
  },
  "language_info": {
   "codemirror_mode": {
    "name": "ipython",
    "version": 3
   },
   "file_extension": ".py",
   "mimetype": "text/x-python",
   "name": "python",
   "nbconvert_exporter": "python",
   "pygments_lexer": "ipython3",
   "version": "3.8.10"
  }
 },
 "nbformat": 4,
 "nbformat_minor": 4
}
