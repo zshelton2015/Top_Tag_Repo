{
 "cells": [
  {
   "cell_type": "markdown",
   "id": "julian-republic",
   "metadata": {},
   "source": [
    "## Formal Update 7/20/2021\n",
    "### Zach Shelton"
   ]
  },
  {
   "cell_type": "code",
   "execution_count": 3,
   "id": "color-castle",
   "metadata": {},
   "outputs": [],
   "source": [
    "import awkward1 as ak\n",
    "import uproot\n",
    "from coffea.nanoevents import NanoAODSchema,NanoEventsFactory\n",
    "import coffea\n",
    "from uproot3_methods import TLorentzVectorArray\n",
    "import numpy as np\n",
    "class HackSchema(NanoAODSchema):\n",
    "    def __init__(self, base_form):\n",
    "        base_form[\"contents\"].pop(\"Muon_fsrPhotonIdx\", None)\n",
    "        base_form[\"contents\"].pop(\"Electron_photonIdx\", None)\n",
    "        super().__init__(base_form)\n",
    "files =\"TTbarPowheg_Semilept_Skim_NanoAOD_1of21.root\"\n",
    "import coffea.processor as processor\n",
    "from pprint import pprint\n",
    "file=uproot.open(files)\n",
    "from pprint import pprint"
   ]
  },
  {
   "cell_type": "markdown",
   "id": "solid-occasion",
   "metadata": {},
   "source": [
    "### Table of Contents:\n",
    "\n",
    "1. Data Preprocessing and Goals for data usage\n",
    "2. Relevant data per combo and event\n",
    "3. Model Structure and Parameters"
   ]
  },
  {
   "cell_type": "markdown",
   "id": "designed-earth",
   "metadata": {},
   "source": [
    "______________________________________________________________________"
   ]
  },
  {
   "cell_type": "markdown",
   "id": "printable-massachusetts",
   "metadata": {},
   "source": [
    "The data used is event data in the NanoAOD format:"
   ]
  },
  {
   "cell_type": "code",
   "execution_count": 4,
   "id": "oriental-suicide",
   "metadata": {},
   "outputs": [
    {
     "name": "stderr",
     "output_type": "stream",
     "text": [
      "C:\\Users\\zshel\\anaconda3\\envs\\py38\\lib\\site-packages\\coffea\\nanoevents\\schemas\\nanoaod.py:193: RuntimeWarning: Missing cross-reference index for Electron_photonIdx => Photon\n",
      "  warnings.warn(\n",
      "C:\\Users\\zshel\\anaconda3\\envs\\py38\\lib\\site-packages\\coffea\\nanoevents\\schemas\\nanoaod.py:193: RuntimeWarning: Missing cross-reference index for FatJet_genJetAK8Idx => GenJetAK8\n",
      "  warnings.warn(\n",
      "C:\\Users\\zshel\\anaconda3\\envs\\py38\\lib\\site-packages\\coffea\\nanoevents\\schemas\\nanoaod.py:193: RuntimeWarning: Missing cross-reference index for FatJet_subJetIdx1 => SubJet\n",
      "  warnings.warn(\n",
      "C:\\Users\\zshel\\anaconda3\\envs\\py38\\lib\\site-packages\\coffea\\nanoevents\\schemas\\nanoaod.py:193: RuntimeWarning: Missing cross-reference index for FatJet_subJetIdx2 => SubJet\n",
      "  warnings.warn(\n",
      "C:\\Users\\zshel\\anaconda3\\envs\\py38\\lib\\site-packages\\coffea\\nanoevents\\schemas\\nanoaod.py:193: RuntimeWarning: Missing cross-reference index for FsrPhoton_muonIdx => Muon\n",
      "  warnings.warn(\n",
      "C:\\Users\\zshel\\anaconda3\\envs\\py38\\lib\\site-packages\\coffea\\nanoevents\\schemas\\nanoaod.py:193: RuntimeWarning: Missing cross-reference index for GenVisTau_genPartIdxMother => GenPart\n",
      "  warnings.warn(\n",
      "C:\\Users\\zshel\\anaconda3\\envs\\py38\\lib\\site-packages\\coffea\\nanoevents\\schemas\\nanoaod.py:193: RuntimeWarning: Missing cross-reference index for Muon_fsrPhotonIdx => FsrPhoton\n",
      "  warnings.warn(\n",
      "C:\\Users\\zshel\\anaconda3\\envs\\py38\\lib\\site-packages\\coffea\\nanoevents\\schemas\\nanoaod.py:193: RuntimeWarning: Missing cross-reference index for Photon_electronIdx => Electron\n",
      "  warnings.warn(\n",
      "C:\\Users\\zshel\\anaconda3\\envs\\py38\\lib\\site-packages\\coffea\\nanoevents\\schemas\\nanoaod.py:193: RuntimeWarning: Missing cross-reference index for Photon_genPartIdx => GenPart\n",
      "  warnings.warn(\n",
      "C:\\Users\\zshel\\anaconda3\\envs\\py38\\lib\\site-packages\\coffea\\nanoevents\\schemas\\nanoaod.py:193: RuntimeWarning: Missing cross-reference index for Photon_jetIdx => Jet\n",
      "  warnings.warn(\n",
      "C:\\Users\\zshel\\anaconda3\\envs\\py38\\lib\\site-packages\\coffea\\nanoevents\\schemas\\nanoaod.py:193: RuntimeWarning: Missing cross-reference index for Tau_genPartIdx => GenPart\n",
      "  warnings.warn(\n",
      "C:\\Users\\zshel\\anaconda3\\envs\\py38\\lib\\site-packages\\coffea\\nanoevents\\schemas\\nanoaod.py:193: RuntimeWarning: Missing cross-reference index for Tau_jetIdx => Jet\n",
      "  warnings.warn(\n"
     ]
    }
   ],
   "source": [
    "events=NanoEventsFactory.from_root(files,schemaclass=HackSchema,entry_stop=10000).events()"
   ]
  },
  {
   "cell_type": "code",
   "execution_count": 5,
   "id": "prompt-beads",
   "metadata": {},
   "outputs": [
    {
     "data": {
      "text/plain": [
       "['PV',\n",
       " 'Muon',\n",
       " 'Electron',\n",
       " 'LHEScaleWeight',\n",
       " 'LHEPart',\n",
       " 'HLT',\n",
       " 'event',\n",
       " 'GenJet',\n",
       " 'Generator',\n",
       " 'run',\n",
       " 'L1PreFiringWeight',\n",
       " 'LHEPdfWeight',\n",
       " 'PSWeight',\n",
       " 'GenPart',\n",
       " 'L1',\n",
       " 'fixedGridRhoFastjetAll',\n",
       " 'Jet',\n",
       " 'MET',\n",
       " 'L1simulation',\n",
       " 'luminosityBlock',\n",
       " 'Flag',\n",
       " 'GenMET',\n",
       " 'Pileup',\n",
       " 'LHEWeight']"
      ]
     },
     "execution_count": 5,
     "metadata": {},
     "output_type": "execute_result"
    }
   ],
   "source": [
    "events.fields"
   ]
  },
  {
   "cell_type": "code",
   "execution_count": 6,
   "id": "0d5f1aa9",
   "metadata": {},
   "outputs": [],
   "source": [
    "#Condensing_all Lepton_cuts\n",
    "jets=events.Jet\n",
    "jetSel = (jets.pt>30) & (abs(jets.eta)<2.4)\n",
    "tightJet = jets[jetSel]\n",
    "#Selecting Jets\n",
    "bJet = tightJet[tightJet.btagDeepFlavB > 0.642]\n",
    "muons = events.Muon\n",
    "muonSel = (muons.pt>30) & (abs(muons.eta)<2.4)\n",
    "tightMuon = muons[muonSel]\n",
    "#Selecting Events that have decaying leptons\n",
    "ele = events.Electron\n",
    "eleSel = (ele.pt>35)&(abs(ele.eta)<2.4)\n",
    "tightEle = ele[eleSel]\n",
    "eventSel = (((ak.num(tightMuon)==1) | (ak.num(tightEle)==1)) &\n",
    "            (ak.num(tightJet)>= 3) & (ak.num(bJet)>=1)\n",
    "           )\n",
    "final=events[eventSel]"
   ]
  },
  {
   "cell_type": "markdown",
   "id": "analyzed-office",
   "metadata": {},
   "source": [
    "We will be using the GenPart and GenJet columns to match the Jets"
   ]
  },
  {
   "cell_type": "markdown",
   "id": "6f13ad52",
   "metadata": {},
   "source": [
    "We are looking for occurences of hadronically decaying tops:\n",
    "t->bW->bqq.\n",
    "\n",
    "First we will identify top quarks using pdgId.\n",
    "\n",
    "(Link to pdgid number scheme: https://pdg.lbl.gov/2007/reviews/montecarlorpp.pdf)"
   ]
  },
  {
   "cell_type": "code",
   "execution_count": 7,
   "id": "wired-drinking",
   "metadata": {},
   "outputs": [
    {
     "name": "stdout",
     "output_type": "stream",
     "text": [
      "[[6, -6, 6, -6], [6, -6, 6, -6], [6, -6, 6, -6]]\n",
      "[[6, -6], [6, -6], [6, -6]]\n"
     ]
    }
   ],
   "source": [
    "genPart = final.GenPart\n",
    "tops = genPart[abs(genPart.pdgId)==6]\n",
    "print(tops.pdgId[0:3])\n",
    "#The isLastCopy Flag filters out copy Genparticles:\n",
    "tops = tops[tops.hasFlags('isLastCopy')]\n",
    "print(tops.pdgId[0:3])"
   ]
  },
  {
   "cell_type": "markdown",
   "id": "brilliant-frequency",
   "metadata": {},
   "source": [
    "GenPart has the function distinctChildren and distinctParent respectively, using distinctChildren on tops returns top decays products:"
   ]
  },
  {
   "cell_type": "code",
   "execution_count": 8,
   "id": "linear-experiment",
   "metadata": {},
   "outputs": [
    {
     "name": "stdout",
     "output_type": "stream",
     "text": [
      "[[[24, 5], [-24, -5]], [[24, 5], [-24, -5]], [[24, 5], [-24, -5]]]\n"
     ]
    }
   ],
   "source": [
    "tDecay = tops.distinctChildren\n",
    "tDecay = tDecay[tDecay.hasFlags('isLastCopy')]\n",
    "print(tDecay.pdgId[0:3])"
   ]
  },
  {
   "cell_type": "markdown",
   "id": "0a0893fc",
   "metadata": {},
   "source": [
    "Isolating the W boson(+-24) and the bottom(+-5):"
   ]
  },
  {
   "cell_type": "code",
   "execution_count": 9,
   "id": "executed-mambo",
   "metadata": {},
   "outputs": [
    {
     "name": "stdout",
     "output_type": "stream",
     "text": [
      "W Decay\n",
      "[[[[2, -1]], [[15, -16]]], [[[4, -3]], [[13, -14]]], [[[-11, 12]], [[1, -2]]]]\n",
      "Filtering out non-hadronically deacaying product(ie light quarks only)\n",
      "[[[2, -1], []], [[4, -3], []], [[], [1, -2]]]\n"
     ]
    }
   ],
   "source": [
    "t_Events=tDecay[abs(tDecay.pdgId)==5]\n",
    "W = tDecay[abs(tDecay.pdgId)==24]\n",
    "W = W[W.hasFlags('isLastCopy')]\n",
    "WDecay = W.distinctChildren\n",
    "WDecay = WDecay[WDecay.hasFlags('isLastCopy')]\n",
    "#t_events is the lone bottom, W_events is the -> two jets\n",
    "print(\"W Decay\")\n",
    "print(WDecay[0:3].pdgId)\n",
    "print(\"Filtering out non-hadronically deacaying product(ie light quarks only)\")\n",
    "#select the hadronically decaying W\n",
    "W_Events=ak.flatten(WDecay[ak.all(abs(WDecay.pdgId)<=8,axis=-1)],axis=3)\n",
    "print(W_Events[0:3].pdgId)\n",
    "#print(qqb)"
   ]
  },
  {
   "cell_type": "markdown",
   "id": "6b00efff",
   "metadata": {},
   "source": [
    "Create a mask for the quark decay events using W_Events:"
   ]
  },
  {
   "cell_type": "code",
   "execution_count": 10,
   "id": "13be1f2d",
   "metadata": {},
   "outputs": [
    {
     "name": "stdout",
     "output_type": "stream",
     "text": [
      "5947\n",
      "this will only contian bottom quarks, from events that have hadronic W bosons\n",
      "[[5], [5], [-5]]\n",
      "5947\n",
      "5947\n",
      "The final correct combinations\n",
      "[[5, 2, -1], [5, 4, -3], [-5, 1, -2]]\n"
     ]
    }
   ],
   "source": [
    "#HadW is mask for Quark deacying W boson\n",
    "hadW = ak.num(W_Events,axis=2)==2\n",
    "#filters out t_events that have a hadronically decayign W Boson\n",
    "hadB = t_Events[hadW]\n",
    "hadB = ak.flatten(hadB,axis=2)\n",
    "print(len(hadB))\n",
    "print(\"this will only contian bottom quarks, from events that have hadronic W bosons\")\n",
    "print(hadB.pdgId[0:3])\n",
    "W_quarks = W_Events[hadW]\n",
    "W_quarks = ak.flatten(W_quarks,axis=2)\n",
    "print(len(hadW))\n",
    "#concatentating these two arrays make an array of events with the correctly decaying GenParticles.\n",
    "qqb = ak.concatenate([hadB,W_quarks],axis=1)\n",
    "print(len(qqb))\n",
    "print(\"The final correct combinations\")\n",
    "print(qqb[0:3].pdgId)\n",
    "#lets filter for only 1 HadronicW\n",
    "#This last mask just gets rid of events that conatin more than one hadronic top"
   ]
  },
  {
   "cell_type": "code",
   "execution_count": 11,
   "id": "34318a08",
   "metadata": {},
   "outputs": [],
   "source": [
    "#Filtering Out events with extra tops\n",
    "final=final[(ak.count(qqb.pdgId,axis=1)==3)]\n",
    "finaljets=final.Jet\n",
    "qqb=qqb[(ak.count(qqb.pdgId,axis=1)==3)]"
   ]
  },
  {
   "cell_type": "code",
   "execution_count": 12,
   "id": "43441ef7",
   "metadata": {},
   "outputs": [],
   "source": [
    "#Implementing Tight Jet Cuts on Training Data\n",
    "finaljetSel=(abs(finaljets.eta)<2.4)&(finaljets.pt>30)\n",
    "finalJets=finaljets[finaljetSel]"
   ]
  },
  {
   "cell_type": "code",
   "execution_count": 13,
   "id": "d7eeaa91",
   "metadata": {},
   "outputs": [
    {
     "name": "stdout",
     "output_type": "stream",
     "text": [
      "27664\n",
      "27664\n"
     ]
    }
   ],
   "source": [
    "print(len(ak.flatten(finalJets[(abs(finalJets.eta)<2.4)])))\n",
    "print(len(ak.flatten(finalJets)))"
   ]
  },
  {
   "cell_type": "code",
   "execution_count": 14,
   "id": "037e516e",
   "metadata": {},
   "outputs": [
    {
     "name": "stdout",
     "output_type": "stream",
     "text": [
      "[[0.427, 0.29, 1.42], [1.05, 0.703, 1.05], [-1.04, -0.225, 0.735]]\n",
      "[[5, 2, -1], [-3, 4, -3], [-5, 1, -2]]\n",
      "[[5, 2, -1], [5, 4, -3], [-5, 1, -2]]\n"
     ]
    }
   ],
   "source": [
    "matchedGenJets=qqb.nearest(final.GenJet)\n",
    "print(matchedGenJets.eta[0:3])\n",
    "print(matchedGenJets.partonFlavour[0:3])\n",
    "print(qqb.pdgId[0:3])"
   ]
  },
  {
   "cell_type": "code",
   "execution_count": 15,
   "id": "559d354a",
   "metadata": {
    "scrolled": true
   },
   "outputs": [
    {
     "name": "stdout",
     "output_type": "stream",
     "text": [
      "17460\n",
      "17460\n"
     ]
    }
   ],
   "source": [
    "#matchedJets=qqb.nearest(finalJets)\n",
    "matchedJets=matchedGenJets.nearest(finalJets)\n",
    "print(len(ak.flatten(matchedJets)))\n",
    "print(len(ak.flatten(matchedJets[(abs(matchedJets.eta)<2.4)])))"
   ]
  },
  {
   "cell_type": "code",
   "execution_count": 16,
   "id": "16a7337b",
   "metadata": {},
   "outputs": [
    {
     "name": "stdout",
     "output_type": "stream",
     "text": [
      "[[5, 2, -1], [-3, 4, -3], [-5, 1, -2]]\n"
     ]
    }
   ],
   "source": [
    "print(matchedJets.partonFlavour[0:3])"
   ]
  },
  {
   "cell_type": "markdown",
   "id": "947d2f4e",
   "metadata": {},
   "source": [
    "Passing the reconstructed GenPart through the eventSel will fix mismatch array lengths"
   ]
  },
  {
   "cell_type": "code",
   "execution_count": 17,
   "id": "8442839e",
   "metadata": {},
   "outputs": [
    {
     "name": "stdout",
     "output_type": "stream",
     "text": [
      "65243\n"
     ]
    }
   ],
   "source": [
    "test=matchedJets.genJetIdx\n",
    "combs=ak.combinations(finalJets,3,replacement=False)\n",
    "t1=(combs['0'].genJetIdx==test[:,0])|(combs['0'].genJetIdx==test[:,1])|(combs['0'].genJetIdx==test[:,2])\n",
    "t2=(combs['1'].genJetIdx==test[:,0])|(combs['1'].genJetIdx==test[:,1])|(combs['1'].genJetIdx==test[:,2])\n",
    "t3=(combs['2'].genJetIdx==test[:,0])|(combs['2'].genJetIdx==test[:,1])|(combs['2'].genJetIdx==test[:,2])\n",
    "t=t1&t2&t3\n",
    "trutharray=ak.flatten(t)\n",
    "print(len(trutharray))"
   ]
  },
  {
   "cell_type": "code",
   "execution_count": 18,
   "id": "5c6c1163",
   "metadata": {},
   "outputs": [
    {
     "name": "stdout",
     "output_type": "stream",
     "text": [
      "[False, False, False, False, False, False, True, True, True, False]\n",
      "[True, True, True, False, False, True, False, False, True, True]\n",
      "[False, True, False, True, False, False, True, False, False, False]\n",
      "[False, False, False, False, False, False, False, False, False, False]\n"
     ]
    }
   ],
   "source": [
    "print(t1[1])\n",
    "print(t2[1])\n",
    "print(t3[1])\n",
    "print(t[1])"
   ]
  },
  {
   "cell_type": "code",
   "execution_count": 19,
   "id": "4c09d1ae",
   "metadata": {},
   "outputs": [
    {
     "name": "stdout",
     "output_type": "stream",
     "text": [
      "True\n",
      "True\n",
      "True\n",
      "True\n"
     ]
    }
   ],
   "source": [
    "print(t1[0,5])\n",
    "print(t2[0,5])\n",
    "print(t3[0,5])\n",
    "print(t[0,5])"
   ]
  },
  {
   "cell_type": "code",
   "execution_count": 20,
   "id": "57a3e8d1",
   "metadata": {},
   "outputs": [
    {
     "name": "stdout",
     "output_type": "stream",
     "text": [
      "[False, False, False, False, False, False, True, True, True, False]\n",
      "[True, True, True, False, False, True, False, False, True, True]\n",
      "[False, True, False, True, False, False, True, False, False, False]\n",
      "[False, False, False, False, False, False, False, False, False, False]\n"
     ]
    }
   ],
   "source": [
    "print(t1[1])\n",
    "print(t2[1])\n",
    "print(t3[1])\n",
    "print(t[1])"
   ]
  },
  {
   "cell_type": "markdown",
   "id": "cc0e25b0",
   "metadata": {},
   "source": [
    "We can plot the resulting combos mass to compare the good combos, bad combos, and the Genpart reco mass."
   ]
  },
  {
   "cell_type": "code",
   "execution_count": 21,
   "id": "8c07d999",
   "metadata": {},
   "outputs": [
    {
     "name": "stdout",
     "output_type": "stream",
     "text": [
      "3598\n",
      "61645\n"
     ]
    }
   ],
   "source": [
    "jetcombos=ak.flatten(combs)\n",
    "genpart_vals=ak.combinations(qqb,3)\n",
    "good_vals=jetcombos[trutharray]\n",
    "print(len(good_vals))\n",
    "bad_vals=jetcombos[np.invert(trutharray)]\n",
    "print(len(bad_vals))"
   ]
  },
  {
   "cell_type": "code",
   "execution_count": 22,
   "id": "451d4625",
   "metadata": {},
   "outputs": [
    {
     "data": {
      "image/png": "[encoded data removed]",
      "text/plain": [
       "<Figure size 1600x800 with 1 Axes>"
      ]
     },
     "metadata": {
      "needs_background": "light"
     },
     "output_type": "display_data"
    },
    {
     "data": {
      "text/plain": [
       "<Figure size 432x288 with 0 Axes>"
      ]
     },
     "metadata": {},
     "output_type": "display_data"
    }
   ],
   "source": [
    "import matplotlib.pyplot as plt\n",
    "bins1=[]\n",
    "n=0\n",
    "while n*5<=500:\n",
    "    bins1.append(n*10)\n",
    "    n+=1\n",
    "plt.figure(figsize=(20,10),dpi=80)\n",
    "greco=good_vals['0']+good_vals['1']+good_vals['2']\n",
    "breco=bad_vals['0']+bad_vals['1']+bad_vals['2']\n",
    "genreco=genpart_vals['0']+genpart_vals['1']+genpart_vals['2']\n",
    "plt.hist(greco.mass,alpha=.5,density=True,bins=bins1)\n",
    "plt.hist(breco.mass,alpha=.5,density=True,bins=bins1)\n",
    "plt.hist(ak.flatten(genreco.mass),alpha=.5,density=True,bins=bins1)\n",
    "plt.legend([\"Matched Jets Combos\",\"Bad Event Combos\",\"GenPart Combos\"])\n",
    "plt.title(\"Mass of M3 Reconstruction\")\n",
    "plt.show()\n",
    "plt.savefig(\"Mass.png\")"
   ]
  },
  {
   "cell_type": "code",
   "execution_count": 23,
   "id": "9d882d06",
   "metadata": {},
   "outputs": [
    {
     "name": "stdout",
     "output_type": "stream",
     "text": [
      "214.72026125625348\n",
      "302.298223700219\n",
      "114.1648410652921\n"
     ]
    }
   ],
   "source": [
    "print(np.mean(greco.mass))\n",
    "print(np.mean(breco.mass))\n",
    "print(np.mean(ak.flatten(genreco.mass)))"
   ]
  },
  {
   "cell_type": "markdown",
   "id": "ba2d6ac7",
   "metadata": {},
   "source": [
    "# Relevant Features:\n",
    "\n",
    "## Per Combinations of Jets:\n",
    "\n",
    "### Each Jet:\n",
    "* $P_t$\n",
    "* $ \\eta $\n",
    "* $ \\phi $\n",
    "* mass\n",
    "* b_tag\n",
    "\n",
    "### $ \\Delta R $ Between Jets\n",
    "* 1 & 3\n",
    "* 2 & 3\n",
    "* 1 & 2\n",
    "\n",
    "### Potentially Included\n",
    "* Event Number\n",
    "\n"
   ]
  },
  {
   "cell_type": "code",
   "execution_count": 24,
   "id": "82dd20aa",
   "metadata": {},
   "outputs": [],
   "source": [
    "### Plot Distribution of Features to be utilized by model"
   ]
  },
  {
   "cell_type": "code",
   "execution_count": 25,
   "id": "50e11b7c",
   "metadata": {
    "scrolled": false
   },
   "outputs": [
    {
     "data": {
      "image/png": "[encoded data removed]",
      "text/plain": [
       "<Figure size 1600x800 with 1 Axes>"
      ]
     },
     "metadata": {
      "needs_background": "light"
     },
     "output_type": "display_data"
    },
    {
     "data": {
      "text/plain": [
       "<Figure size 432x288 with 0 Axes>"
      ]
     },
     "metadata": {},
     "output_type": "display_data"
    }
   ],
   "source": [
    "gdelta12=good_vals['0'].delta_r(good_vals['1'])\n",
    "gdelta23=good_vals['1'].delta_r(good_vals['2'])\n",
    "gdelta13=good_vals['0'].delta_r(good_vals['2'])\n",
    "gdelta=ak.concatenate([gdelta12,gdelta23,gdelta13])\n",
    "bdelta12=bad_vals['0'].delta_r(bad_vals['1'])\n",
    "bdelta23=bad_vals['1'].delta_r(bad_vals['2'])\n",
    "bdelta13=bad_vals['0'].delta_r(bad_vals['2'])\n",
    "bdelta=ak.concatenate([bdelta12,bdelta23,bdelta13])\n",
    "plt.figure(figsize=(20,10),dpi=80)\n",
    "bins1=[]\n",
    "n=0\n",
    "while n<80:\n",
    "    bins1.append(n*.1)\n",
    "    n=n+1\n",
    "l=plt.hist(gdelta,alpha=.5,density=True,bins=bins1)\n",
    "l=plt.hist(bdelta,alpha=.5,density=True,bins=bins1)\n",
    "plt.legend([\"Matched Combination $ \\Delta R $\",\"Unmatched Combination $ \\Delta R $\"])\n",
    "plt.title(\"$Delta R Between 3 Jets\")\n",
    "plt.show()\n",
    "plt.savefig(\"DeltaR.png\")"
   ]
  },
  {
   "cell_type": "markdown",
   "id": "20e1a592",
   "metadata": {},
   "source": [
    "$ \\Delta R $ of the unmatched data favors a Delta R between jets. Noticeably:"
   ]
  },
  {
   "cell_type": "code",
   "execution_count": 29,
   "id": "a2a33010",
   "metadata": {},
   "outputs": [
    {
     "data": {
      "text/plain": [
       "<matplotlib.legend.Legend at 0x27d25a6cd30>"
      ]
     },
     "execution_count": 29,
     "metadata": {},
     "output_type": "execute_result"
    },
    {
     "data": {
      "image/png": "[encoded data removed]",
      "text/plain": [
       "<Figure size 1600x800 with 1 Axes>"
      ]
     },
     "metadata": {
      "needs_background": "light"
     },
     "output_type": "display_data"
    }
   ],
   "source": [
    "bnpd12=ak.to_numpy(bdelta12)\n",
    "bnpd13=ak.to_numpy(bdelta13)\n",
    "bnpd23=ak.to_numpy(bdelta23)\n",
    "bzipdr=ak.sort(np.stack((bnpd12,bnpd13,bnpd23),axis=1))\n",
    "npd12=ak.to_numpy(gdelta12)\n",
    "npd13=ak.to_numpy(gdelta13)\n",
    "npd23=ak.to_numpy(gdelta23)\n",
    "zipdr=ak.sort(np.stack((npd12,npd13,npd23),axis=1))\n",
    "plt.figure(figsize=(20,10),dpi=80)\n",
    "l=plt.hist(zipdr[:,0],density=True,bins=bins1,histtype='step')\n",
    "l=plt.hist(zipdr[:,1],density=True,bins=bins1,histtype='step')\n",
    "l=plt.hist(zipdr[:,2],density=True,bins=bins1,histtype='step')\n",
    "#l=plt.hist(bzipdr[:,0],density=True,bins=bins1,histtype='step')\n",
    "plt.legend(['Leading Jet to 2nd','Leading Jet to 3nd','Delta R of 2nd and 3rd Jet'])"
   ]
  },
  {
   "cell_type": "code",
   "execution_count": 30,
   "id": "28cd2699",
   "metadata": {},
   "outputs": [
    {
     "data": {
      "text/plain": [
       "<matplotlib.legend.Legend at 0x27d25a2b970>"
      ]
     },
     "execution_count": 30,
     "metadata": {},
     "output_type": "execute_result"
    },
    {
     "data": {
      "image/png": "[encoded data removed]",
      "text/plain": [
       "<Figure size 1600x800 with 1 Axes>"
      ]
     },
     "metadata": {
      "needs_background": "light"
     },
     "output_type": "display_data"
    }
   ],
   "source": [
    "plt.figure(figsize=(20,10),dpi=80)\n",
    "l=plt.hist(bzipdr[:,0],density=True,bins=bins1,histtype='step')\n",
    "l=plt.hist(bzipdr[:,1],density=True,bins=bins1,histtype='step')\n",
    "l=plt.hist(bzipdr[:,2],density=True,bins=bins1,histtype='step')\n",
    "plt.legend(['Smallest','Middle','Largest'])"
   ]
  },
  {
   "cell_type": "code",
   "execution_count": 31,
   "id": "7c0cb44a",
   "metadata": {},
   "outputs": [
    {
     "data": {
      "image/png": "[encoded data removed]",
      "text/plain": [
       "<Figure size 1600x800 with 1 Axes>"
      ]
     },
     "metadata": {
      "needs_background": "light"
     },
     "output_type": "display_data"
    },
    {
     "data": {
      "text/plain": [
       "<Figure size 432x288 with 0 Axes>"
      ]
     },
     "metadata": {},
     "output_type": "display_data"
    }
   ],
   "source": [
    "geta23=good_vals['1'].eta-good_vals['2'].eta\n",
    "geta13=good_vals['0'].eta-good_vals['2'].eta\n",
    "geta12=good_vals['0'].eta-good_vals['1'].eta\n",
    "geta=ak.concatenate([geta23,geta12,geta13])\n",
    "beta12=bad_vals['0'].eta-bad_vals['1'].eta\n",
    "beta23=bad_vals['1'].eta-bad_vals['2'].eta\n",
    "beta13=bad_vals['0'].eta-bad_vals['2'].eta\n",
    "beta=ak.concatenate([beta23,beta12,beta13])\n",
    "plt.figure(figsize=(20,10),dpi=80)\n",
    "bins1=[]\n",
    "n=-90\n",
    "while n<90:\n",
    "    bins1.append(n*.1)\n",
    "    n=n+1\n",
    "l=plt.hist(geta,alpha=.5,density=True,bins=bins1)\n",
    "l=plt.hist(beta,alpha=.5,density=True,bins=bins1)\n",
    "plt.legend([\"Matched Combination $ \\Delta \\eta $\",\"Unmatched Combination $ \\Delta \\eta $\"])\n",
    "plt.title(\"$ \\Delta \\eta $ Between 3 Jets\")\n",
    "plt.show()\n",
    "plt.savefig(\"deltaeta.png\")"
   ]
  },
  {
   "cell_type": "markdown",
   "id": "d2020844",
   "metadata": {},
   "source": [
    "$ \\Delta R $ of the unmatched data favors a Delta R between jets. Noticeably:"
   ]
  },
  {
   "cell_type": "code",
   "execution_count": 32,
   "id": "8f0fc3ae",
   "metadata": {},
   "outputs": [
    {
     "name": "stdout",
     "output_type": "stream",
     "text": [
      "99.69 percent of the matched combos Delta R falls below 4\n"
     ]
    }
   ],
   "source": [
    "print(\"%.2f percent of the matched combos Delta R falls below 4\" %(len(gdelta[gdelta<4])/len(gdelta)*100))"
   ]
  },
  {
   "cell_type": "code",
   "execution_count": 33,
   "id": "3da029d1",
   "metadata": {},
   "outputs": [],
   "source": [
    "gbtagSum=good_vals['0'].btagDeepB+good_vals['2'].btagDeepB+good_vals['1'].btagDeepB\n",
    "bbtagSum=bad_vals['0'].btagDeepB+bad_vals['2'].btagDeepB+bad_vals['1'].btagDeepB"
   ]
  },
  {
   "cell_type": "code",
   "execution_count": 34,
   "id": "1230aee0",
   "metadata": {},
   "outputs": [
    {
     "data": {
      "text/plain": [
       "<matplotlib.legend.Legend at 0x27d255f13a0>"
      ]
     },
     "execution_count": 34,
     "metadata": {},
     "output_type": "execute_result"
    },
    {
     "data": {
      "image/png": "[encoded data removed]",
      "text/plain": [
       "<Figure size 1600x800 with 1 Axes>"
      ]
     },
     "metadata": {
      "needs_background": "light"
     },
     "output_type": "display_data"
    }
   ],
   "source": [
    "bins1=[]\n",
    "n=0\n",
    "while n<60:\n",
    "    bins1.append(n*.05)\n",
    "    n=n+1\n",
    "plt.figure(figsize=(20,10),dpi=80)\n",
    "l=plt.hist(gbtagSum,alpha=.5,density=True,bins=bins1)\n",
    "l=plt.hist(bbtagSum,alpha=.5,density=True,bins=bins1)\n",
    "plt.title(\"Sum of B-tag events\")\n",
    "plt.legend([\"Matched Combination b-tag probability Sum\",\"Unmatched Combination b-tag probability Sum\"])"
   ]
  },
  {
   "cell_type": "code",
   "execution_count": 35,
   "id": "d031a5d0",
   "metadata": {},
   "outputs": [
    {
     "data": {
      "text/plain": [
       "<matplotlib.legend.Legend at 0x27d25b4cfd0>"
      ]
     },
     "execution_count": 35,
     "metadata": {},
     "output_type": "execute_result"
    },
    {
     "data": {
      "image/png": "[encoded data removed]",
      "text/plain": [
       "<Figure size 1600x800 with 1 Axes>"
      ]
     },
     "metadata": {
      "needs_background": "light"
     },
     "output_type": "display_data"
    }
   ],
   "source": [
    "geta=ak.concatenate([good_vals['0'].eta,good_vals['1'].eta,good_vals['2'].eta])\n",
    "beta=ak.concatenate([bad_vals['0'].eta,bad_vals['1'].eta,bad_vals['2'].eta])\n",
    "plt.figure(figsize=(20,10),dpi=80)\n",
    "bins1=[]\n",
    "n=-70\n",
    "while n<70:\n",
    "    bins1.append(n*.1)\n",
    "    n=n+1\n",
    "l=plt.hist(geta,alpha=.5,density=True,bins=bins1)\n",
    "l=plt.hist(beta,alpha=.5,density=True,bins=bins1)\n",
    "plt.title(\"Eta of Jets\")\n",
    "plt.legend([\"Matched Jets Eta\",\"UnMatched Jet\"])"
   ]
  },
  {
   "cell_type": "code",
   "execution_count": 36,
   "id": "6ce4afba",
   "metadata": {},
   "outputs": [
    {
     "data": {
      "text/plain": [
       "<matplotlib.legend.Legend at 0x27d2582c670>"
      ]
     },
     "execution_count": 36,
     "metadata": {},
     "output_type": "execute_result"
    },
    {
     "data": {
      "image/png": "[encoded data removed]",
      "text/plain": [
       "<Figure size 1600x800 with 1 Axes>"
      ]
     },
     "metadata": {
      "needs_background": "light"
     },
     "output_type": "display_data"
    }
   ],
   "source": [
    "geta=ak.concatenate([good_vals['0'].phi,good_vals['1'].phi,good_vals['2'].phi])\n",
    "beta=ak.concatenate([bad_vals['0'].phi,bad_vals['1'].phi,bad_vals['2'].phi])\n",
    "plt.figure(figsize=(20,10),dpi=80)\n",
    "bins1=[]\n",
    "n=-40\n",
    "while n<40:\n",
    "    bins1.append(n*.1)\n",
    "    n=n+1\n",
    "l=plt.hist(geta,alpha=.5,density=True,bins=bins1)\n",
    "l=plt.hist(beta,alpha=.5,density=True,bins=bins1)\n",
    "plt.title(\"Phi of Jets\")\n",
    "plt.legend([\"Matched Jets\",\"UnMatched Jet\"])"
   ]
  },
  {
   "cell_type": "code",
   "execution_count": 37,
   "id": "18d47226",
   "metadata": {},
   "outputs": [],
   "source": [
    "#Zipping Event into .csv file"
   ]
  },
  {
   "cell_type": "code",
   "execution_count": 38,
   "id": "b6bca7e7",
   "metadata": {},
   "outputs": [],
   "source": [
    "j1,j2,j3=ak.unzip(jetcombos)\n",
    "dR1_2=j1.delta_r(j2)\n",
    "dR1_3=j1.delta_r(j3)\n",
    "dR2_3=j2.delta_r(j3)\n",
    "j1b_tag=j1.btagCSVV2\n",
    "j2b_tag=j1.btagCSVV2\n",
    "j3b_tag=j1.btagCSVV2\n",
    "j1area=j1.area\n",
    "j2area=j2.area\n",
    "j3area=j3.area\n",
    "j1p4=ak.zip({\"pt\":j1.pt,\"phi\":j1.phi,\"eta\":j1.eta,\"mass\":j1.mass},with_name=\"PtEtaPhiMLorentzVector\")\n",
    "j2p4=ak.zip({\"pt\":j2.pt,\"phi\":j2.phi,\"eta\":j2.eta,\"mass\":j2.mass},with_name=\"PtEtaPhiMLorentzVector\")\n",
    "j3p4=ak.zip({\"pt\":j3.pt,\"phi\":j3.phi,\"eta\":j3.eta,\"mass\":j2.mass},with_name=\"PtEtaPhiMLorentzVector\")\n",
    "processedMLdata=ak.zip({\"j1p4\":j1p4,\"j2p4\":j2p4,\"j3p4\":j3p4,\n",
    "                        \"dR12\":dR1_2,\"dR13\":dR1_3,\"dR23\":dR2_3,\n",
    "                       \"j1btag\":j1b_tag,\"j2btag\":j2b_tag,\"j3btag\":j3b_tag})"
   ]
  },
  {
   "cell_type": "code",
   "execution_count": 39,
   "id": "59ae45ff",
   "metadata": {
    "scrolled": true
   },
   "outputs": [
    {
     "data": {
      "text/plain": [
       "65243"
      ]
     },
     "execution_count": 39,
     "metadata": {},
     "output_type": "execute_result"
    }
   ],
   "source": [
    "len(jetcombos['0'])"
   ]
  },
  {
   "cell_type": "code",
   "execution_count": 40,
   "id": "52581708",
   "metadata": {
    "scrolled": true
   },
   "outputs": [
    {
     "data": {
      "text/plain": [
       "42"
      ]
     },
     "execution_count": 40,
     "metadata": {},
     "output_type": "execute_result"
    }
   ],
   "source": [
    "len(jetcombos['0'][jetcombos['1'].pt<=jetcombos['2'].pt])"
   ]
  },
  {
   "cell_type": "code",
   "execution_count": 87,
   "id": "7775eac0",
   "metadata": {},
   "outputs": [],
   "source": [
    "df=ak.to_pandas(processedMLdata)\n",
    "df.to_csv(\"data/ML_data.csv\",index=False)\n",
    "vf=ak.to_pandas(trutharray)\n",
    "vf.to_csv(\"data/Valid_data.csv\",index=False)"
   ]
  },
  {
   "cell_type": "markdown",
   "id": "6e7ff7d1",
   "metadata": {},
   "source": [
    "## To Do:\n",
    "* PreProcessing Coffea Processor\n",
    "* Use Boosted Decision Tree\n",
    "* Compare Efficiency to simple data cuts"
   ]
  },
  {
   "cell_type": "markdown",
   "id": "8eea8b8e",
   "metadata": {},
   "source": [
    "# Sources/Further Reading:\n",
    "\n",
    "CMS Draft Analysis Note(FIT, AAS, Wayne State, NISTR): https://drive.google.com/file/d/1XEOLyZ-Q1HdEQY379RpyyQkOF1Q8KlsL/view\n",
    "\n",
    "Invariant Mass Wikipedia Article: https://en.wikipedia.org/wiki/Invariant_mass\n",
    "\n",
    "Measurement of the semileptonic tt + γ production cross-section in pp collisions at √s = 8 Tev: https://arxiv.org/pdf/1706.08128.pdf\n",
    "\n",
    "Coffea Documentation: https://coffeateam.github.io/coffea/\n",
    "\n",
    "Awkward Array Documentation: https://awkward-array.readthedocs.io/en/latest/\n",
    "\n",
    "AOD DATA GUIDE: https://twiki.cern.ch/twiki/bin/view/CMSPublic/SWGuideAodDataTable"
   ]
  },
  {
   "cell_type": "markdown",
   "id": "dfe6dfb8",
   "metadata": {},
   "source": [
    " # Storage Cells"
   ]
  },
  {
   "cell_type": "code",
   "execution_count": 379,
   "id": "21f93968",
   "metadata": {},
   "outputs": [
    {
     "name": "stdout",
     "output_type": "stream",
     "text": [
      "[[GenParticle, GenParticle, GenParticle], ... GenParticle, GenParticle, GenParticle]]\n"
     ]
    }
   ],
   "source": [
    "test_events=finalJets[0:3]\n",
    "testqqb=qqb[0:3]\n",
    "print(testqqb)"
   ]
  },
  {
   "cell_type": "code",
   "execution_count": 380,
   "id": "35ba9a10",
   "metadata": {},
   "outputs": [
    {
     "name": "stdout",
     "output_type": "stream",
     "text": [
      "Matched Reconstructed Jets(pt,eta,phi,mass)\n",
      "Event 1\n",
      "(122.69,0.45,-2.92,12.10)\n",
      "(31.91,0.26,-0.62,5.50)\n",
      "(36.22,1.40,-3.07,6.86)\n",
      "Event 2\n",
      "(70.00,1.04,2.32,12.52)\n",
      "(42.56,0.73,0.65,7.44)\n",
      "(70.00,1.04,2.32,12.52)\n",
      "Event 3\n",
      "(30.88,-1.02,1.25,6.12)\n",
      "(111.62,-0.23,2.92,13.02)\n",
      "(38.88,0.75,2.24,5.54)\n",
      "Matched GenJetIdx\n",
      "0 Idx: [0, 4, 3]\n",
      "1 Idx: [2, 3, 2]\n",
      "2 Idx: [3, 1, 2]\n",
      "Event # -> (GenPart Jet Lorenz Vector -> pt,eta,phi,mass)\n",
      "Event 1\n",
      "(138.00,0.43,-2.91,0.00)\n",
      "(2.49,0.14,-1.22,0.00)\n",
      "(26.44,1.40,-3.05,0.00)\n",
      "Event 2\n",
      "(3.87,1.61,-2.98,0.00)\n",
      "(37.88,0.72,0.69,0.00)\n",
      "(12.12,0.88,2.20,0.00)\n",
      "Event 3\n",
      "(36.38,-1.04,1.27,0.00)\n",
      "(67.75,-0.22,2.91,0.00)\n",
      "(9.47,0.76,2.33,0.00)\n"
     ]
    }
   ],
   "source": [
    "matchedTest=testqqb.nearest(test_events)\n",
    "print(\"Matched Reconstructed Jets(pt,eta,phi,mass)\")\n",
    "n=0\n",
    "while n<=2:\n",
    "    print(\"Event %i\"%(n+1))\n",
    "    for j in matchedTest[n]:\n",
    "        print(\"(%.2f,%.2f,%.2f,%.2f)\"%(j.pt,j.eta,j.phi,j.mass),end=\"\")\n",
    "        print(\"\")\n",
    "    n+=1\n",
    "print(\"Matched GenJetIdx\")\n",
    "n=0\n",
    "while n<=2: \n",
    "    string=str(n)+\" Idx: {:^5}\"\n",
    "    print(string.format(str(matchedTest[n].genJetIdx)))\n",
    "    n+=1\n",
    "print(\"Event # -> (GenPart Jet Lorenz Vector -> pt,eta,phi,mass)\")\n",
    "n=0\n",
    "while n<=2:\n",
    "    print(\"Event %i\"%(n+1))\n",
    "    for j in testqqb[n]:\n",
    "        print(\"(%.2f,%.2f,%.2f,%.2f)\"%(j.pt,j.eta,j.phi,j.mass),end=\"\")\n",
    "        print(\"\")\n",
    "    n+=1"
   ]
  },
  {
   "cell_type": "code",
   "execution_count": 381,
   "id": "37e79ce7",
   "metadata": {
    "scrolled": false
   },
   "outputs": [
    {
     "name": "stdout",
     "output_type": "stream",
     "text": [
      "Event # -> (pt,eta,phi,mass)\n",
      "Event 1\n",
      "(122.69,0.45,-2.92,12.10)\n",
      "(87.88,1.21,-0.46,9.11)\n",
      "(44.44,0.70,1.44,4.21)\n",
      "(36.22,1.40,-3.07,6.86)\n",
      "(31.91,0.26,-0.62,5.50)\n",
      "Event 2\n",
      "(74.38,0.98,-1.61,14.87)\n",
      "(70.00,1.04,2.32,12.52)\n",
      "(60.91,-0.89,0.35,10.65)\n",
      "(42.56,0.73,0.65,7.44)\n",
      "(38.28,-0.62,2.23,5.14)\n",
      "Event 3\n",
      "(111.62,-0.23,2.92,13.02)\n",
      "(109.50,-0.54,-0.86,5.71)\n",
      "(38.88,0.75,2.24,5.54)\n",
      "(30.88,-1.02,1.25,6.12)\n"
     ]
    }
   ],
   "source": [
    "print(\"Event # -> (pt,eta,phi,mass)\")\n",
    "n=0\n",
    "while n<=2:\n",
    "    print(\"Event %i\"%(n+1))\n",
    "    string=str(n)+\" pt: {:^10} \"+\"eta: {:^10} \"+ \"phi: {:^10}\" + \" mass: {:^10}\"\n",
    "    for j in test_events[n]:\n",
    "        print(\"(%.2f,%.2f,%.2f,%.2f)\"%(j.pt,j.eta,j.phi,j.mass),end=\"\")\n",
    "        print(\"\")\n",
    "\n",
    "    n+=1"
   ]
  }
 ],
 "metadata": {
  "kernelspec": {
   "display_name": "Python 3",
   "language": "python",
   "name": "python3"
  },
  "language_info": {
   "codemirror_mode": {
    "name": "ipython",
    "version": 3
   },
   "file_extension": ".py",
   "mimetype": "text/x-python",
   "name": "python",
   "nbconvert_exporter": "python",
   "pygments_lexer": "ipython3",
   "version": "3.8.10"
  }
 },
 "nbformat": 4,
 "nbformat_minor": 5
}
