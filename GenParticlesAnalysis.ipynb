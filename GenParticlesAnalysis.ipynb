{
 "cells": [
  {
   "cell_type": "code",
   "execution_count": 1,
   "id": "australian-peoples",
   "metadata": {},
   "outputs": [
    {
     "name": "stderr",
     "output_type": "stream",
     "text": [
      "C:\\Users\\zshel\\anaconda3\\envs\\top_tag1\\lib\\site-packages\\awkward0\\__init__.py:23: FutureWarning: Consider switching from 'awkward0' to 'awkward', since the new interface became the default in 2020.\n",
      "\n",
      "    pip install -U awkward\n",
      "\n",
      "In Python:\n",
      "\n",
      "    >>> import awkward as ak\n",
      "    >>> new_style_array = ak.from_awkward0(old_style_array)\n",
      "    >>> old_style_array = ak.to_awkward0(new_style_array)\n",
      "\n",
      "  FutureWarning\n"
     ]
    }
   ],
   "source": [
    "from __future__ import print_function, division\n",
    "import uproot\n",
    "import numpy as np\n",
    "#Make sure to install both old awkward0 and new awkward1(referred to now as awkward)\n",
    "import awkward1 as ak\n",
    "import awkward0 as ak0\n",
    "from coffea.nanoevents import NanoAODSchema,NanoEventsFactory\n",
    "from uproot3_methods import TLorentzVectorArray\n",
    "import uproot3_methods\n",
    "import numpy as np\n",
    "import coffea.hist as hist\n",
    "import matplotlib.pyplot as plt\n",
    "import awkward\n",
    "class HackSchema(NanoAODSchema):\n",
    "    def __init__(self, base_form):\n",
    "        base_form[\"contents\"].pop(\"Muon_fsrPhotonIdx\", None)\n",
    "        base_form[\"contents\"].pop(\"Electron_photonIdx\", None)\n",
    "        super().__init__(base_form)\n",
    "def m3_recon(tree):\n",
    "    comb= ak.combinations(tree,n=3,axis=1,fields=['j1','j2','j3'])\n",
    "    trijets= comb.j1+comb.j2+comb.j3\n",
    "    recon =ak.max(trijets,axis=1)\n",
    "    reconfinal=np.sqrt(recon.t*recon.t-recon.x*recon.x-recon.y*recon.y-recon.z*recon.z)\n",
    "    list1= ak.to_numpy(reconfinal)\n",
    "    return list1\n",
    "files =\"TTbarPowheg_Semilept_Skim_NanoAOD_1of21.root\"\n",
    "import coffea.processor as processor\n",
    "from pprint import pprint\n",
    "file=uproot.open(files)\n",
    "nEvents=file['hEvents'].values[0]+file['hEvents'].values[2]\n",
    "from pprint import pprint"
   ]
  },
  {
   "cell_type": "code",
   "execution_count": 3,
   "id": "incomplete-gather",
   "metadata": {},
   "outputs": [],
   "source": [
    "events =NanoEventsFactory.from_root(files,schemaclass=HackSchema).events()\n",
    "test = abs(events.GenPart.pdgId)==6\n",
    "gevents=events.GenPart[test]"
   ]
  },
  {
   "cell_type": "code",
   "execution_count": 5,
   "id": "female-collection",
   "metadata": {},
   "outputs": [],
   "source": [
    "comb= ak.combinations(gevents,n=2,axis=1,fields=['j1','j2'])"
   ]
  },
  {
   "cell_type": "code",
   "execution_count": 28,
   "id": "powerful-berlin",
   "metadata": {},
   "outputs": [],
   "source": [
    "deltar= comb['j1'].delta_r(comb['j2'])\n",
    "deltar_min=ak.min(deltar,axis=1)"
   ]
  },
  {
   "cell_type": "code",
   "execution_count": 38,
   "id": "mexican-roots",
   "metadata": {},
   "outputs": [
    {
     "ename": "IndexError",
     "evalue": "only integers, slices (`:`), ellipsis (`...`), numpy.newaxis (`None`) and integer or boolean arrays are valid indices",
     "output_type": "error",
     "traceback": [
      "\u001b[1;31m---------------------------------------------------------------------------\u001b[0m",
      "\u001b[1;31mIndexError\u001b[0m                                Traceback (most recent call last)",
      "\u001b[1;32m<ipython-input-38-65f0d578aeaf>\u001b[0m in \u001b[0;36m<module>\u001b[1;34m\u001b[0m\n\u001b[1;32m----> 1\u001b[1;33m \u001b[0mak\u001b[0m\u001b[1;33m.\u001b[0m\u001b[0mto_numpy\u001b[0m\u001b[1;33m(\u001b[0m\u001b[0mdeltar_min\u001b[0m\u001b[1;33m)\u001b[0m\u001b[1;33m[\u001b[0m\u001b[1;34m\"data\"\u001b[0m\u001b[1;33m]\u001b[0m\u001b[1;33m\u001b[0m\u001b[1;33m\u001b[0m\u001b[0m\n\u001b[0m",
      "\u001b[1;32m~\\anaconda3\\envs\\top_tag1\\lib\\site-packages\\numpy\\ma\\core.py\u001b[0m in \u001b[0;36m__getitem__\u001b[1;34m(self, indx)\u001b[0m\n\u001b[0;32m   3223\u001b[0m         \u001b[1;31m# mask of being reshaped if it hasn't been set up properly yet\u001b[0m\u001b[1;33m\u001b[0m\u001b[1;33m\u001b[0m\u001b[1;33m\u001b[0m\u001b[0m\n\u001b[0;32m   3224\u001b[0m         \u001b[1;31m# So it's easier to stick to the current version\u001b[0m\u001b[1;33m\u001b[0m\u001b[1;33m\u001b[0m\u001b[1;33m\u001b[0m\u001b[0m\n\u001b[1;32m-> 3225\u001b[1;33m         \u001b[0mdout\u001b[0m \u001b[1;33m=\u001b[0m \u001b[0mself\u001b[0m\u001b[1;33m.\u001b[0m\u001b[0mdata\u001b[0m\u001b[1;33m[\u001b[0m\u001b[0mindx\u001b[0m\u001b[1;33m]\u001b[0m\u001b[1;33m\u001b[0m\u001b[1;33m\u001b[0m\u001b[0m\n\u001b[0m\u001b[0;32m   3226\u001b[0m         \u001b[0m_mask\u001b[0m \u001b[1;33m=\u001b[0m \u001b[0mself\u001b[0m\u001b[1;33m.\u001b[0m\u001b[0m_mask\u001b[0m\u001b[1;33m\u001b[0m\u001b[1;33m\u001b[0m\u001b[0m\n\u001b[0;32m   3227\u001b[0m \u001b[1;33m\u001b[0m\u001b[0m\n",
      "\u001b[1;31mIndexError\u001b[0m: only integers, slices (`:`), ellipsis (`...`), numpy.newaxis (`None`) and integer or boolean arrays are valid indices"
     ]
    }
   ],
   "source": [
    "[\"data\"]"
   ]
  },
  {
   "cell_type": "code",
   "execution_count": 53,
   "id": "adjustable-annotation",
   "metadata": {},
   "outputs": [],
   "source": [
    "bins_l=[]\n",
    "x=0\n",
    "while x<100:\n",
    "    bins_l.append(x*.01)\n",
    "    x+=1"
   ]
  },
  {
   "cell_type": "code",
   "execution_count": 55,
   "id": "female-thickness",
   "metadata": {},
   "outputs": [
    {
     "data": {
      "text/plain": [
       "(array([1.73802e+05, 2.22983e+05, 1.86227e+05, 1.73347e+05, 1.30495e+05,\n",
       "        1.13622e+05, 8.94200e+04, 8.15680e+04, 6.58320e+04, 5.56750e+04,\n",
       "        4.85850e+04, 4.29640e+04, 3.60710e+04, 3.09660e+04, 2.84110e+04,\n",
       "        2.41510e+04, 2.18390e+04, 1.91770e+04, 1.71390e+04, 1.50230e+04,\n",
       "        1.31990e+04, 1.25050e+04, 1.11390e+04, 9.89600e+03, 8.67600e+03,\n",
       "        8.43000e+03, 7.32000e+03, 6.37600e+03, 6.01200e+03, 5.59500e+03,\n",
       "        5.11400e+03, 4.59900e+03, 4.34700e+03, 4.04000e+03, 3.63000e+03,\n",
       "        3.25700e+03, 3.00100e+03, 2.87000e+03, 2.56100e+03, 2.49300e+03,\n",
       "        2.12600e+03, 2.07300e+03, 1.86500e+03, 1.73800e+03, 1.60800e+03,\n",
       "        1.46600e+03, 1.42700e+03, 1.24300e+03, 1.20700e+03, 1.07400e+03,\n",
       "        9.95000e+02, 8.89000e+02, 9.08000e+02, 7.80000e+02, 8.22000e+02,\n",
       "        6.93000e+02, 6.41000e+02, 6.45000e+02, 5.80000e+02, 5.25000e+02,\n",
       "        4.84000e+02, 4.57000e+02, 4.78000e+02, 4.21000e+02, 4.12000e+02,\n",
       "        3.36000e+02, 3.64000e+02, 3.12000e+02, 3.08000e+02, 2.56000e+02,\n",
       "        2.87000e+02, 2.37000e+02, 2.36000e+02, 2.27000e+02, 1.96000e+02,\n",
       "        2.03000e+02, 1.76000e+02, 1.74000e+02, 1.37000e+02, 1.51000e+02,\n",
       "        1.27000e+02, 1.40000e+02, 1.33000e+02, 1.12000e+02, 1.01000e+02,\n",
       "        9.50000e+01, 8.90000e+01, 9.20000e+01, 9.40000e+01, 8.20000e+01,\n",
       "        7.10000e+01, 7.90000e+01, 7.40000e+01, 7.80000e+01, 5.30000e+01,\n",
       "        7.70000e+01, 6.30000e+01, 5.70000e+01, 7.10000e+01]),\n",
       " array([0.  , 0.01, 0.02, 0.03, 0.04, 0.05, 0.06, 0.07, 0.08, 0.09, 0.1 ,\n",
       "        0.11, 0.12, 0.13, 0.14, 0.15, 0.16, 0.17, 0.18, 0.19, 0.2 , 0.21,\n",
       "        0.22, 0.23, 0.24, 0.25, 0.26, 0.27, 0.28, 0.29, 0.3 , 0.31, 0.32,\n",
       "        0.33, 0.34, 0.35, 0.36, 0.37, 0.38, 0.39, 0.4 , 0.41, 0.42, 0.43,\n",
       "        0.44, 0.45, 0.46, 0.47, 0.48, 0.49, 0.5 , 0.51, 0.52, 0.53, 0.54,\n",
       "        0.55, 0.56, 0.57, 0.58, 0.59, 0.6 , 0.61, 0.62, 0.63, 0.64, 0.65,\n",
       "        0.66, 0.67, 0.68, 0.69, 0.7 , 0.71, 0.72, 0.73, 0.74, 0.75, 0.76,\n",
       "        0.77, 0.78, 0.79, 0.8 , 0.81, 0.82, 0.83, 0.84, 0.85, 0.86, 0.87,\n",
       "        0.88, 0.89, 0.9 , 0.91, 0.92, 0.93, 0.94, 0.95, 0.96, 0.97, 0.98,\n",
       "        0.99]),\n",
       " <BarContainer object of 99 artists>)"
      ]
     },
     "execution_count": 55,
     "metadata": {},
     "output_type": "execute_result"
    },
    {
     "data": {
      "image/png": "[encoded data removed]",
      "text/plain": [
       "<Figure size 432x288 with 1 Axes>"
      ]
     },
     "metadata": {
      "needs_background": "light"
     },
     "output_type": "display_data"
    }
   ],
   "source": [
    "import matplotlib.pyplot as plt\n",
    "plt.hist(deltar_min,bins=bins_l)"
   ]
  },
  {
   "cell_type": "code",
   "execution_count": 56,
   "id": "secure-violin",
   "metadata": {},
   "outputs": [
    {
     "name": "stdout",
     "output_type": "stream",
     "text": [
      "[[Jet, Jet, Jet, Jet, Jet], [Jet, Jet, ... Jet, Jet, Jet, Jet, Jet, Jet, Jet, Jet]]\n"
     ]
    }
   ],
   "source": [
    "#Introducing Delta_r cuts to M3 Recon\n",
    "tight_jets=events.Jet\n",
    "print(tight_jets)\n",
    "jetSel = ak.num(tight_jets[((tight_jets.pt>30)&(tight_jets.eta<2.4)&(tight_jets.eta>-2.4))],axis=1)>=3\n",
    "jetSelection=(jetSel&(ak.num(tight_jets.btagCSVV2>.4184)>=1))"
   ]
  },
  {
   "cell_type": "code",
   "execution_count": 57,
   "id": "asian-shanghai",
   "metadata": {},
   "outputs": [
    {
     "name": "stdout",
     "output_type": "stream",
     "text": [
      "[True, True, True, True, False, True, True, ... True, True, True, True, True, True]\n"
     ]
    }
   ],
   "source": [
    "tight_muons = events.Muon\n",
    "muonsel=ak.num(tight_muons[((tight_muons.pt>30)&(abs(tight_muons.eta)<2.4))],axis=1)==1\n",
    "tight_electrons= events.Electron\n",
    "electronsel=ak.num(tight_electrons[((tight_electrons.pt>35)&(abs(tight_electrons.eta)<2.4))],axis=1)==1\n",
    "leptonsel=(muonsel|electronsel)\n",
    "print(leptonsel)"
   ]
  },
  {
   "cell_type": "code",
   "execution_count": 58,
   "id": "applicable-mobile",
   "metadata": {},
   "outputs": [
    {
     "name": "stdout",
     "output_type": "stream",
     "text": [
      "[True, True, True, True, False, True, True, ... True, True, True, True, True, True]\n",
      "[<event 1:50992:8498517>, <event 1:50992:8498507>, ... <event 1:641843:106973897>]\n"
     ]
    },
    {
     "name": "stderr",
     "output_type": "stream",
     "text": [
      "C:\\Users\\zshel\\anaconda3\\envs\\top_tag1\\lib\\site-packages\\awkward1\\_connect\\_numpy.py:163: RuntimeWarning: invalid value encountered in sqrt\n",
      "  *[nplike.asarray(x) for x in inputs], **kwargs\n"
     ]
    }
   ],
   "source": [
    "jetlepselmask = (jetSelection&leptonsel)\n",
    "print((jetlepselmask))\n",
    "print(events[jetlepselmask])\n",
    "final=events[jetlepselmask]\n",
    "postcuts_m3=m3_recon(events[jetlepselmask].Jet)"
   ]
  },
  {
   "cell_type": "code",
   "execution_count": 98,
   "id": "cutting-image",
   "metadata": {},
   "outputs": [],
   "source": [
    "test_data1=[]\n",
    "test_data2=[]\n",
    "for j in final.GenJet[4:5]:\n",
    "    j0=j[0]\n",
    "    test_data1.append(j0.delta_r(j[1]))\n",
    "    test_data2.append(j0.delta_r(j[2]))\n"
   ]
  },
  {
   "cell_type": "code",
   "execution_count": 109,
   "id": "lucky-saturn",
   "metadata": {},
   "outputs": [
    {
     "ename": "ValueError",
     "evalue": "in ListArray64 attempting to get 4, index out of range\n\n(https://github.com/scikit-hep/awkward-1.0/blob/0.4.5/src/cpu-kernels/awkward_ListArray_getitem_jagged_apply.cpp#L46)",
     "output_type": "error",
     "traceback": [
      "\u001b[1;31m---------------------------------------------------------------------------\u001b[0m",
      "\u001b[1;31mValueError\u001b[0m                                Traceback (most recent call last)",
      "\u001b[1;32m<ipython-input-109-6ac7cd662c9e>\u001b[0m in \u001b[0;36m<module>\u001b[1;34m\u001b[0m\n\u001b[0;32m      1\u001b[0m \u001b[0mfinal\u001b[0m\u001b[1;33m.\u001b[0m\u001b[0mGenJet\u001b[0m\u001b[1;33m.\u001b[0m\u001b[0mpartonFlavour\u001b[0m\u001b[1;33m[\u001b[0m\u001b[1;36m4\u001b[0m\u001b[1;33m]\u001b[0m\u001b[1;33m\u001b[0m\u001b[1;33m\u001b[0m\u001b[0m\n\u001b[0;32m      2\u001b[0m \u001b[0mfinal\u001b[0m\u001b[1;33m.\u001b[0m\u001b[0mGenJet\u001b[0m\u001b[1;33m[\u001b[0m\u001b[1;36m4\u001b[0m\u001b[1;33m]\u001b[0m\u001b[1;33m[\u001b[0m\u001b[1;36m3\u001b[0m\u001b[1;33m]\u001b[0m\u001b[1;33m.\u001b[0m\u001b[0mdelta_r\u001b[0m\u001b[1;33m(\u001b[0m\u001b[0mfinal\u001b[0m\u001b[1;33m.\u001b[0m\u001b[0mGenJet\u001b[0m\u001b[1;33m[\u001b[0m\u001b[1;36m4\u001b[0m\u001b[1;33m]\u001b[0m\u001b[1;33m[\u001b[0m\u001b[1;33m-\u001b[0m\u001b[1;36m2\u001b[0m\u001b[1;33m]\u001b[0m\u001b[1;33m)\u001b[0m\u001b[1;33m\u001b[0m\u001b[1;33m\u001b[0m\u001b[0m\n\u001b[1;32m----> 3\u001b[1;33m \u001b[0mNonTag\u001b[0m\u001b[1;33m=\u001b[0m\u001b[0mfinal\u001b[0m\u001b[1;33m[\u001b[0m\u001b[0mfinal\u001b[0m\u001b[1;33m.\u001b[0m\u001b[0mGenJet\u001b[0m\u001b[1;33m.\u001b[0m\u001b[0mpartonFlavour\u001b[0m\u001b[1;33m==\u001b[0m\u001b[1;36m0\u001b[0m\u001b[1;33m]\u001b[0m\u001b[1;33m\u001b[0m\u001b[1;33m\u001b[0m\u001b[0m\n\u001b[0m",
      "\u001b[1;32m~\\anaconda3\\envs\\top_tag1\\lib\\site-packages\\awkward1\\highlevel.py\u001b[0m in \u001b[0;36m__getitem__\u001b[1;34m(self, where)\u001b[0m\n\u001b[0;32m    962\u001b[0m         \u001b[0mhave\u001b[0m \u001b[0mthe\u001b[0m \u001b[0msame\u001b[0m \u001b[0mdimension\u001b[0m \u001b[1;32mas\u001b[0m \u001b[0mthe\u001b[0m \u001b[0marray\u001b[0m \u001b[0mbeing\u001b[0m \u001b[0mindexed\u001b[0m\u001b[1;33m.\u001b[0m\u001b[1;33m\u001b[0m\u001b[1;33m\u001b[0m\u001b[0m\n\u001b[0;32m    963\u001b[0m         \"\"\"\n\u001b[1;32m--> 964\u001b[1;33m         \u001b[1;32mreturn\u001b[0m \u001b[0mawkward1\u001b[0m\u001b[1;33m.\u001b[0m\u001b[0m_util\u001b[0m\u001b[1;33m.\u001b[0m\u001b[0mwrap\u001b[0m\u001b[1;33m(\u001b[0m\u001b[0mself\u001b[0m\u001b[1;33m.\u001b[0m\u001b[0m_layout\u001b[0m\u001b[1;33m[\u001b[0m\u001b[0mwhere\u001b[0m\u001b[1;33m]\u001b[0m\u001b[1;33m,\u001b[0m \u001b[0mself\u001b[0m\u001b[1;33m.\u001b[0m\u001b[0m_behavior\u001b[0m\u001b[1;33m)\u001b[0m\u001b[1;33m\u001b[0m\u001b[1;33m\u001b[0m\u001b[0m\n\u001b[0m\u001b[0;32m    965\u001b[0m \u001b[1;33m\u001b[0m\u001b[0m\n\u001b[0;32m    966\u001b[0m     \u001b[1;32mdef\u001b[0m \u001b[0m__setitem__\u001b[0m\u001b[1;33m(\u001b[0m\u001b[0mself\u001b[0m\u001b[1;33m,\u001b[0m \u001b[0mwhere\u001b[0m\u001b[1;33m,\u001b[0m \u001b[0mwhat\u001b[0m\u001b[1;33m)\u001b[0m\u001b[1;33m:\u001b[0m\u001b[1;33m\u001b[0m\u001b[1;33m\u001b[0m\u001b[0m\n",
      "\u001b[1;31mValueError\u001b[0m: in ListArray64 attempting to get 4, index out of range\n\n(https://github.com/scikit-hep/awkward-1.0/blob/0.4.5/src/cpu-kernels/awkward_ListArray_getitem_jagged_apply.cpp#L46)"
     ]
    }
   ],
   "source": [
    "final.GenJet.partonFlavour[4]\n",
    "final.GenJet[4][3].delta_r(final.GenJet[4][-2])\n",
    "NonTag=final[final.GenJet.partonFlavour==0]"
   ]
  },
  {
   "cell_type": "code",
   "execution_count": 108,
   "id": "angry-spanking",
   "metadata": {},
   "outputs": [
    {
     "name": "stdout",
     "output_type": "stream",
     "text": [
      "[{eta: -0.0497, hadronFlavour: 0, mass: 10.1, ... phi: -3.08, pt: 15.3}]\n"
     ]
    },
    {
     "ename": "ValueError",
     "evalue": "in IndexedArray64 attempting to get 2, index out of range\n\n(https://github.com/scikit-hep/awkward-1.0/blob/0.4.5/src/libawkward/array/IndexedArray.cpp#L1126)",
     "output_type": "error",
     "traceback": [
      "\u001b[1;31m---------------------------------------------------------------------------\u001b[0m",
      "\u001b[1;31mValueError\u001b[0m                                Traceback (most recent call last)",
      "\u001b[1;32m<ipython-input-108-1e2da6367beb>\u001b[0m in \u001b[0;36m<module>\u001b[1;34m\u001b[0m\n\u001b[0;32m      1\u001b[0m \u001b[0mprint\u001b[0m\u001b[1;33m(\u001b[0m\u001b[0mNonTag\u001b[0m\u001b[1;33m[\u001b[0m\u001b[1;36m4\u001b[0m\u001b[1;33m]\u001b[0m\u001b[1;33m)\u001b[0m\u001b[1;33m\u001b[0m\u001b[1;33m\u001b[0m\u001b[0m\n\u001b[1;32m----> 2\u001b[1;33m \u001b[0mNonTag\u001b[0m\u001b[1;33m[\u001b[0m\u001b[1;36m4\u001b[0m\u001b[1;33m]\u001b[0m\u001b[1;33m[\u001b[0m\u001b[1;36m1\u001b[0m\u001b[1;33m]\u001b[0m\u001b[1;33m.\u001b[0m\u001b[0mdelta_r\u001b[0m\u001b[1;33m(\u001b[0m\u001b[0mNonTag\u001b[0m\u001b[1;33m[\u001b[0m\u001b[1;36m4\u001b[0m\u001b[1;33m]\u001b[0m\u001b[1;33m[\u001b[0m\u001b[1;36m2\u001b[0m\u001b[1;33m]\u001b[0m\u001b[1;33m)\u001b[0m\u001b[1;33m\u001b[0m\u001b[1;33m\u001b[0m\u001b[0m\n\u001b[0m",
      "\u001b[1;32m~\\anaconda3\\envs\\top_tag1\\lib\\site-packages\\awkward1\\highlevel.py\u001b[0m in \u001b[0;36m__getitem__\u001b[1;34m(self, where)\u001b[0m\n\u001b[0;32m    962\u001b[0m         \u001b[0mhave\u001b[0m \u001b[0mthe\u001b[0m \u001b[0msame\u001b[0m \u001b[0mdimension\u001b[0m \u001b[1;32mas\u001b[0m \u001b[0mthe\u001b[0m \u001b[0marray\u001b[0m \u001b[0mbeing\u001b[0m \u001b[0mindexed\u001b[0m\u001b[1;33m.\u001b[0m\u001b[1;33m\u001b[0m\u001b[1;33m\u001b[0m\u001b[0m\n\u001b[0;32m    963\u001b[0m         \"\"\"\n\u001b[1;32m--> 964\u001b[1;33m         \u001b[1;32mreturn\u001b[0m \u001b[0mawkward1\u001b[0m\u001b[1;33m.\u001b[0m\u001b[0m_util\u001b[0m\u001b[1;33m.\u001b[0m\u001b[0mwrap\u001b[0m\u001b[1;33m(\u001b[0m\u001b[0mself\u001b[0m\u001b[1;33m.\u001b[0m\u001b[0m_layout\u001b[0m\u001b[1;33m[\u001b[0m\u001b[0mwhere\u001b[0m\u001b[1;33m]\u001b[0m\u001b[1;33m,\u001b[0m \u001b[0mself\u001b[0m\u001b[1;33m.\u001b[0m\u001b[0m_behavior\u001b[0m\u001b[1;33m)\u001b[0m\u001b[1;33m\u001b[0m\u001b[1;33m\u001b[0m\u001b[0m\n\u001b[0m\u001b[0;32m    965\u001b[0m \u001b[1;33m\u001b[0m\u001b[0m\n\u001b[0;32m    966\u001b[0m     \u001b[1;32mdef\u001b[0m \u001b[0m__setitem__\u001b[0m\u001b[1;33m(\u001b[0m\u001b[0mself\u001b[0m\u001b[1;33m,\u001b[0m \u001b[0mwhere\u001b[0m\u001b[1;33m,\u001b[0m \u001b[0mwhat\u001b[0m\u001b[1;33m)\u001b[0m\u001b[1;33m:\u001b[0m\u001b[1;33m\u001b[0m\u001b[1;33m\u001b[0m\u001b[0m\n",
      "\u001b[1;31mValueError\u001b[0m: in IndexedArray64 attempting to get 2, index out of range\n\n(https://github.com/scikit-hep/awkward-1.0/blob/0.4.5/src/libawkward/array/IndexedArray.cpp#L1126)"
     ]
    }
   ],
   "source": [
    "print(NonTag)\n",
    "NonTag[4][1].delta_r(NonTag[4][2])"
   ]
  },
  {
   "cell_type": "code",
   "execution_count": 78,
   "id": "permanent-kingston",
   "metadata": {},
   "outputs": [
    {
     "data": {
      "text/plain": [
       "(array([0., 0., 0., 0., 0., 1., 0., 0., 0., 0.]),\n",
       " array([1.43593351, 1.53593351, 1.63593351, 1.73593351, 1.83593351,\n",
       "        1.93593351, 2.03593351, 2.13593351, 2.23593351, 2.33593351,\n",
       "        2.43593351]),\n",
       " <BarContainer object of 10 artists>)"
      ]
     },
     "execution_count": 78,
     "metadata": {},
     "output_type": "execute_result"
    },
    {
     "data": {
      "image/png": "[encoded data removed]",
      "text/plain": [
       "<Figure size 432x288 with 1 Axes>"
      ]
     },
     "metadata": {
      "needs_background": "light"
     },
     "output_type": "display_data"
    }
   ],
   "source": [
    "plt.hist(test_data1)\n",
    "plt.hist(test_data2)"
   ]
  },
  {
   "cell_type": "code",
   "execution_count": null,
   "id": "computational-reading",
   "metadata": {},
   "outputs": [],
   "source": []
  }
 ],
 "metadata": {
  "kernelspec": {
   "display_name": "Python 3",
   "language": "python",
   "name": "python3"
  },
  "language_info": {
   "codemirror_mode": {
    "name": "ipython",
    "version": 3
   },
   "file_extension": ".py",
   "mimetype": "text/x-python",
   "name": "python",
   "nbconvert_exporter": "python",
   "pygments_lexer": "ipython3",
   "version": "3.7.9"
  }
 },
 "nbformat": 4,
 "nbformat_minor": 5
}
