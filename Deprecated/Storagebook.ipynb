{
 "cells": [
  {
   "cell_type": "code",
   "execution_count": null,
   "id": "imperial-visit",
   "metadata": {},
   "outputs": [],
   "source": []
  },
  {
   "cell_type": "code",
   "execution_count": 17,
   "id": "general-denmark",
   "metadata": {},
   "outputs": [],
   "source": [
    "pt_pad=ak.to_numpy(ak.fill_none(ak.pad_none(final.Jet[:,0:8].pt,8,axis=1),0))\n",
    "eta_pad=ak.to_numpy(ak.fill_none(ak.pad_none(final.Jet[:,0:8].eta,8,axis=1),0))\n",
    "phi_pad=ak.to_numpy(ak.fill_none(ak.pad_none(final.Jet[:,0:8].phi,8,axis=1),0))\n",
    "mass_pad=ak.to_numpy(ak.fill_none(ak.pad_none(final.Jet[:,0:8].pt,8,axis=1),0))\n",
    "b_tag=ak.to_numpy(ak.fill_none(ak.pad_none(final.Jet[:,0:8].btagCSVV2,8,axis=1),0))\n"
   ]
  },
  {
   "cell_type": "code",
   "execution_count": 18,
   "id": "coastal-helping",
   "metadata": {},
   "outputs": [
    {
     "name": "stdout",
     "output_type": "stream",
     "text": [
      "[(123, 0.446, -2.92, 123), (87.9, 1.21, -0.455, 87.9), (, ... 0, 0), (0, 0, 0, 0)]\n"
     ]
    }
   ],
   "source": [
    "genjet=ak.to_numpy(ak.fill_none(ak.pad_none(final.GenJet.partonFlavour[:,0:8],8,axis=1),0))\n",
    "jet=ak.zip({\"pt\":pt_pad,\"eta\":eta_pad,\"phi\":phi_pad,\"mass\":mass_pad})\n",
    "jet_list=ak.zip([pt_pad,eta_pad,phi_pad,mass_pad])\n",
    "print(jet_list[0])\n",
    "jet_data=ak.to_numpy(ak.zip([jet,b_tag]))"
   ]
  },
  {
   "cell_type": "code",
   "execution_count": 19,
   "id": "ongoing-asthma",
   "metadata": {},
   "outputs": [
    {
     "name": "stdout",
     "output_type": "stream",
     "text": [
      "((74.375, 0.98291016, -1.61206055, 74.375), 0.12585449)\n",
      "74.375\n"
     ]
    }
   ],
   "source": [
    "print(jet_data[1][0])\n",
    "print(jet[1][0].pt)\n"
   ]
  },
  {
   "cell_type": "code",
   "execution_count": 20,
   "id": "crude-vegetable",
   "metadata": {},
   "outputs": [
    {
     "data": {
      "text/plain": [
       "['childrenIdxG',\n",
       " 'distinctChildrenIdxG',\n",
       " 'distinctParentIdxG',\n",
       " 'eta',\n",
       " 'genPartIdxMother',\n",
       " 'genPartIdxMotherG',\n",
       " 'mass',\n",
       " 'pdgId',\n",
       " 'phi',\n",
       " 'pt',\n",
       " 'status',\n",
       " 'statusFlags']"
      ]
     },
     "execution_count": 20,
     "metadata": {},
     "output_type": "execute_result"
    }
   ],
   "source": [
    "final.GenPart.fields"
   ]
  },
  {
   "cell_type": "code",
   "execution_count": 21,
   "id": "distinct-tonight",
   "metadata": {},
   "outputs": [
    {
     "data": {
      "text/plain": [
       "<Array [[[], [16, ... 90296436, 90296439]]] type='1381189 * var * var * int64'>"
      ]
     },
     "execution_count": 21,
     "metadata": {},
     "output_type": "execute_result"
    }
   ],
   "source": [
    "#Defunct Function\n",
    "def create_classifier_tensor(genjets):\n",
    "    truth={'b~':-5,'b':5,'s':3,'s~':-3,'c':4,'c~':-4,'non-jet':0,'d':1,'d~':-1,'t':6,'t~':-6,'g':21,'g~':-21,'u':2,'u~':-2}\n",
    "    for name in truth:\n",
    "        mask=(genjets==truth[name])\n",
    "        genjet=ak.where((mask,name))\n",
    "    return genjet\n",
    "#NOTE 0 is not a j\n",
    "#truth=create_classifier_tensor(ak.to_numpy(ak.fill_none(ak.pad_none(final.GenJet.partonFlavour[:,0:8],8,axis=1),0)))\n",
    "\n",
    "#DeltaR matching for Jet matching\n",
    "\n",
    "final.GenPart[final.GenPart.pdgId==24].distinctChildrenIdxG"
   ]
  },
  {
   "cell_type": "code",
   "execution_count": 22,
   "id": "bigger-telephone",
   "metadata": {},
   "outputs": [
    {
     "data": {
      "text/plain": [
       "<Array [[2433, 2433, 4481, ... 12352, 12352]] type='1381189 * var * int32[parame...'>"
      ]
     },
     "execution_count": 22,
     "metadata": {},
     "output_type": "execute_result"
    }
   ],
   "source": [
    "val=final.GenPart.distinctParentIdxG\n",
    "final.GenPart.statusFlags"
   ]
  },
  {
   "cell_type": "code",
   "execution_count": 23,
   "id": "expired-december",
   "metadata": {},
   "outputs": [
    {
     "name": "stdout",
     "output_type": "stream",
     "text": [
      "[False, False, False, False, False, False, ... False, False, False, False, False]\n",
      "[]\n"
     ]
    }
   ],
   "source": [
    "#Filter out particles that do decay using status\n",
    "mask=ak.all(final.GenPart.status==4,axis=1)|ak.all(final.GenPart.status==3,axis=1)\n",
    "print(mask)\n",
    "print(mask[mask==True])"
   ]
  },
  {
   "cell_type": "code",
   "execution_count": 24,
   "id": "round-spectrum",
   "metadata": {},
   "outputs": [
    {
     "ename": "SyntaxError",
     "evalue": "invalid syntax (<ipython-input-24-f70fefc283ad>, line 2)",
     "output_type": "error",
     "traceback": [
      "\u001b[1;36m  File \u001b[1;32m\"<ipython-input-24-f70fefc283ad>\"\u001b[1;36m, line \u001b[1;32m2\u001b[0m\n\u001b[1;33m    data=tf.keras.Input(shape=)\u001b[0m\n\u001b[1;37m                              ^\u001b[0m\n\u001b[1;31mSyntaxError\u001b[0m\u001b[1;31m:\u001b[0m invalid syntax\n"
     ]
    }
   ],
   "source": [
    "input_shape=()\n",
    "data=tf.keras.Input(shape=)\n",
    "tf.keras.layers.Conv1D(\n",
    "    32,3,activation='relu' kernel_size=i, strides=1,\n",
    ")"
   ]
  }
 ],
 "metadata": {
  "kernelspec": {
   "display_name": "Python 3",
   "language": "python",
   "name": "python3"
  },
  "language_info": {
   "codemirror_mode": {
    "name": "ipython",
    "version": 3
   },
   "file_extension": ".py",
   "mimetype": "text/x-python",
   "name": "python",
   "nbconvert_exporter": "python",
   "pygments_lexer": "ipython3",
   "version": "3.7.9"
  }
 },
 "nbformat": 4,
 "nbformat_minor": 5
}
