{
 "cells": [
  {
   "cell_type": "code",
   "execution_count": 1,
   "id": "indie-belize",
   "metadata": {},
   "outputs": [
    {
     "name": "stderr",
     "output_type": "stream",
     "text": [
      "C:\\Users\\zshel\\anaconda3\\envs\\top_tag1\\lib\\site-packages\\awkward0\\__init__.py:23: FutureWarning: Consider switching from 'awkward0' to 'awkward', since the new interface became the default in 2020.\n",
      "\n",
      "    pip install -U awkward\n",
      "\n",
      "In Python:\n",
      "\n",
      "    >>> import awkward as ak\n",
      "    >>> new_style_array = ak.from_awkward0(old_style_array)\n",
      "    >>> old_style_array = ak.to_awkward0(new_style_array)\n",
      "\n",
      "  FutureWarning\n"
     ]
    }
   ],
   "source": [
    "from __future__ import print_function, division\n",
    "import uproot\n",
    "import numpy as np\n",
    "#Make sure to install both old awkward0 and new awkward1(referred to now as awkward)\n",
    "import awkward1 as ak\n",
    "import awkward0 as ak0\n",
    "from coffea.nanoevents import NanoAODSchema,NanoEventsFactory\n",
    "from uproot3_methods import TLorentzVectorArray\n",
    "import uproot3_methods\n",
    "import numpy as np\n",
    "import coffea.hist as hist\n",
    "import matplotlib.pyplot as plt\n",
    "import awkward\n",
    "class HackSchema(NanoAODSchema):\n",
    "    def __init__(self, base_form):\n",
    "        base_form[\"contents\"].pop(\"Muon_fsrPhotonIdx\", None)\n",
    "        base_form[\"contents\"].pop(\"Electron_photonIdx\", None)\n",
    "        super().__init__(base_form)\n",
    "files =\"TTbarPowheg_Semilept_Skim_NanoAOD_1of21.root\"\n",
    "from pprint import pprint\n",
    "pdgid=[21.,  1.,  6., -6.,  1.,  6., -6., 24.]\n",
    "genjet=[ 5.,  3. , 0. ,-5.,  1., -4. ,-3. , 0.]\n",
    "events =NanoEventsFactory.from_root(files,schemaclass=HackSchema).events()"
   ]
  },
  {
   "cell_type": "code",
   "execution_count": 4,
   "id": "regulated-island",
   "metadata": {},
   "outputs": [
    {
     "name": "stdout",
     "output_type": "stream",
     "text": [
      "[[5.0, <Particle: name=\"b\", pdgid=5, mass=4180 + 30 - 20 MeV>],\n",
      " [3.0, <Particle: name=\"s\", pdgid=3, mass=93 + 11 - 5 MeV>],\n",
      " [0, 0],\n",
      " [-5.0, <Particle: name=\"b~\", pdgid=-5, mass=4180 + 30 - 20 MeV>],\n",
      " [1.0, <Particle: name=\"d\", pdgid=1, mass=4.67 + 0.50 - 0.20 MeV>],\n",
      " [-4.0, <Particle: name=\"c~\", pdgid=-4, mass=1270 ± 20 MeV>],\n",
      " [-3.0, <Particle: name=\"s~\", pdgid=-3, mass=93 + 11 - 5 MeV>],\n",
      " [0, 0]]\n"
     ]
    }
   ],
   "source": [
    "from particle import Particle\n",
    "l=[]\n",
    "for ev in genjet:\n",
    "    if ev!=0:\n",
    "        l.append([ev,Particle.from_pdgid(ev)])\n",
    "    else:\n",
    "        l.append([0,0])\n",
    "pprint(l)"
   ]
  },
  {
   "cell_type": "code",
   "execution_count": 101,
   "id": "beneficial-terror",
   "metadata": {},
   "outputs": [
    {
     "name": "stdout",
     "output_type": "stream",
     "text": [
      "[[21.0, <Particle: name=\"g\", pdgid=21, mass=0.0 MeV>],\n",
      " [1.0, <Particle: name=\"d\", pdgid=1, mass=4.67 + 0.50 - 0.20 MeV>],\n",
      " [6.0, <Particle: name=\"t\", pdgid=6, mass=172400 ± 700 MeV>],\n",
      " [-6.0, <Particle: name=\"t~\", pdgid=-6, mass=172400 ± 700 MeV>],\n",
      " [1.0, <Particle: name=\"d\", pdgid=1, mass=4.67 + 0.50 - 0.20 MeV>],\n",
      " [6.0, <Particle: name=\"t\", pdgid=6, mass=172400 ± 700 MeV>],\n",
      " [-6.0, <Particle: name=\"t~\", pdgid=-6, mass=172400 ± 700 MeV>],\n",
      " [24.0, <Particle: name=\"W+\", pdgid=24, mass=80379 ± 12 MeV>]]\n"
     ]
    }
   ],
   "source": [
    "from particle import Particle\n",
    "l=[]\n",
    "for ev in pdgid:\n",
    "    if ev!=0:\n",
    "        l.append([ev,Particle.from_pdgid(ev)])\n",
    "    else:\n",
    "        l.append([0,0])\n",
    "pprint(l)"
   ]
  }
 ],
 "metadata": {
  "kernelspec": {
   "display_name": "Python 3",
   "language": "python",
   "name": "python3"
  },
  "language_info": {
   "codemirror_mode": {
    "name": "ipython",
    "version": 3
   },
   "file_extension": ".py",
   "mimetype": "text/x-python",
   "name": "python",
   "nbconvert_exporter": "python",
   "pygments_lexer": "ipython3",
   "version": "3.7.9"
  }
 },
 "nbformat": 4,
 "nbformat_minor": 5
}
